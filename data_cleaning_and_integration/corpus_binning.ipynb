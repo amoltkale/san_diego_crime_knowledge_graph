{
 "cells": [
  {
   "cell_type": "markdown",
   "id": "f9b16b27-7e46-43f6-907f-678f250ff760",
   "metadata": {},
   "source": [
    "Corpus deduplication via binning"
   ]
  },
  {
   "cell_type": "code",
   "execution_count": 1,
   "id": "cde2bd57-b3bf-45b1-b025-9c40d217b7a6",
   "metadata": {},
   "outputs": [],
   "source": [
    "import pandas as pd\n",
    "import py_stringmatching as sm"
   ]
  },
  {
   "cell_type": "markdown",
   "id": "3b81c251-3aca-47d1-a9a7-4b89be411908",
   "metadata": {},
   "source": [
    "Import in the data"
   ]
  },
  {
   "cell_type": "code",
   "execution_count": 17,
   "id": "b15ed425-ab10-4484-a703-a6933efdfcec",
   "metadata": {},
   "outputs": [],
   "source": [
    "corpus_folder = '../data/corpi/'\n",
    "corpus_file = 'neighborhood_corpus.csv'\n",
    "corpus_header = 'neighborhood'"
   ]
  },
  {
   "cell_type": "code",
   "execution_count": 8,
   "id": "8a0393f8-3913-4bb4-95e0-e2e79c6d43a7",
   "metadata": {},
   "outputs": [],
   "source": [
    "corpus = pd.read_csv(corpus_folder + corpus_file)"
   ]
  },
  {
   "cell_type": "markdown",
   "id": "0bfa2b55-c700-4a4c-947c-cdd3678b9198",
   "metadata": {},
   "source": [
    "Initialize the string similarity metric"
   ]
  },
  {
   "cell_type": "code",
   "execution_count": 10,
   "id": "4867a9bc-c7a9-44ee-934f-d4617de1d09c",
   "metadata": {},
   "outputs": [
    {
     "name": "stdout",
     "output_type": "stream",
     "text": [
      "0.8666666746139526\n"
     ]
    }
   ],
   "source": [
    "jaro = sm.Jaro()\n",
    "print(jaro.get_sim_score('the', 'theft'))"
   ]
  },
  {
   "cell_type": "markdown",
   "id": "fcb5497e-ffd6-4c63-a560-58f59da2bc09",
   "metadata": {},
   "source": [
    "Do cartesian product of corpus for comparisons"
   ]
  },
  {
   "cell_type": "code",
   "execution_count": 15,
   "id": "d9149877-115c-44cf-a951-c1986e834dd4",
   "metadata": {},
   "outputs": [
    {
     "data": {
      "text/html": [
       "<div>\n",
       "<style scoped>\n",
       "    .dataframe tbody tr th:only-of-type {\n",
       "        vertical-align: middle;\n",
       "    }\n",
       "\n",
       "    .dataframe tbody tr th {\n",
       "        vertical-align: top;\n",
       "    }\n",
       "\n",
       "    .dataframe thead th {\n",
       "        text-align: right;\n",
       "    }\n",
       "</style>\n",
       "<table border=\"1\" class=\"dataframe\">\n",
       "  <thead>\n",
       "    <tr style=\"text-align: right;\">\n",
       "      <th></th>\n",
       "      <th>neighborhood_x</th>\n",
       "      <th>neighborhood_y</th>\n",
       "    </tr>\n",
       "  </thead>\n",
       "  <tbody>\n",
       "    <tr>\n",
       "      <th>0</th>\n",
       "      <td>clairemont mesa east</td>\n",
       "      <td>clairemont mesa east</td>\n",
       "    </tr>\n",
       "    <tr>\n",
       "      <th>1</th>\n",
       "      <td>clairemont mesa east</td>\n",
       "      <td>clairemont mesa west</td>\n",
       "    </tr>\n",
       "    <tr>\n",
       "      <th>2</th>\n",
       "      <td>clairemont mesa east</td>\n",
       "      <td>bay ho</td>\n",
       "    </tr>\n",
       "    <tr>\n",
       "      <th>3</th>\n",
       "      <td>clairemont mesa east</td>\n",
       "      <td>north clairemont</td>\n",
       "    </tr>\n",
       "    <tr>\n",
       "      <th>4</th>\n",
       "      <td>clairemont mesa east</td>\n",
       "      <td>university city</td>\n",
       "    </tr>\n",
       "    <tr>\n",
       "      <th>...</th>\n",
       "      <td>...</td>\n",
       "      <td>...</td>\n",
       "    </tr>\n",
       "    <tr>\n",
       "      <th>161599</th>\n",
       "      <td>via de la valle</td>\n",
       "      <td>rolando village</td>\n",
       "    </tr>\n",
       "    <tr>\n",
       "      <th>161600</th>\n",
       "      <td>via de la valle</td>\n",
       "      <td>san pasqual valley</td>\n",
       "    </tr>\n",
       "    <tr>\n",
       "      <th>161601</th>\n",
       "      <td>via de la valle</td>\n",
       "      <td>sorrento mesa</td>\n",
       "    </tr>\n",
       "    <tr>\n",
       "      <th>161602</th>\n",
       "      <td>via de la valle</td>\n",
       "      <td>torrey hills</td>\n",
       "    </tr>\n",
       "    <tr>\n",
       "      <th>161603</th>\n",
       "      <td>via de la valle</td>\n",
       "      <td>via de la valle</td>\n",
       "    </tr>\n",
       "  </tbody>\n",
       "</table>\n",
       "<p>161604 rows × 2 columns</p>\n",
       "</div>"
      ],
      "text/plain": [
       "              neighborhood_x        neighborhood_y\n",
       "0       clairemont mesa east  clairemont mesa east\n",
       "1       clairemont mesa east  clairemont mesa west\n",
       "2       clairemont mesa east                bay ho\n",
       "3       clairemont mesa east      north clairemont\n",
       "4       clairemont mesa east       university city\n",
       "...                      ...                   ...\n",
       "161599       via de la valle       rolando village\n",
       "161600       via de la valle    san pasqual valley\n",
       "161601       via de la valle         sorrento mesa\n",
       "161602       via de la valle          torrey hills\n",
       "161603       via de la valle       via de la valle\n",
       "\n",
       "[161604 rows x 2 columns]"
      ]
     },
     "execution_count": 15,
     "metadata": {},
     "output_type": "execute_result"
    }
   ],
   "source": [
    "corpus_cross = corpus.merge(corpus, how='cross')\n",
    "corpus_cross"
   ]
  },
  {
   "cell_type": "code",
   "execution_count": 19,
   "id": "db05fcfc-ccf6-413f-ba22-5f15aca00b31",
   "metadata": {},
   "outputs": [],
   "source": [
    "def get_jaro_sim_score(x):\n",
    "    return jaro.get_sim_score(x[corpus_header + '_x'], x[corpus_header + '_y'])"
   ]
  },
  {
   "cell_type": "code",
   "execution_count": 20,
   "id": "8a1d8e2f-7506-479e-ad30-e3d8f314a207",
   "metadata": {},
   "outputs": [],
   "source": [
    "corpus_cross['jaro_score'] = corpus_cross.apply(get_jaro_sim_score, axis=1)"
   ]
  },
  {
   "cell_type": "code",
   "execution_count": 21,
   "id": "2f40e689-4d86-4982-8e1f-dc8bfdc5b546",
   "metadata": {},
   "outputs": [
    {
     "data": {
      "text/html": [
       "<div>\n",
       "<style scoped>\n",
       "    .dataframe tbody tr th:only-of-type {\n",
       "        vertical-align: middle;\n",
       "    }\n",
       "\n",
       "    .dataframe tbody tr th {\n",
       "        vertical-align: top;\n",
       "    }\n",
       "\n",
       "    .dataframe thead th {\n",
       "        text-align: right;\n",
       "    }\n",
       "</style>\n",
       "<table border=\"1\" class=\"dataframe\">\n",
       "  <thead>\n",
       "    <tr style=\"text-align: right;\">\n",
       "      <th></th>\n",
       "      <th>neighborhood_x</th>\n",
       "      <th>neighborhood_y</th>\n",
       "      <th>jaro_score</th>\n",
       "    </tr>\n",
       "  </thead>\n",
       "  <tbody>\n",
       "    <tr>\n",
       "      <th>0</th>\n",
       "      <td>clairemont mesa east</td>\n",
       "      <td>clairemont mesa east</td>\n",
       "      <td>1.000000</td>\n",
       "    </tr>\n",
       "    <tr>\n",
       "      <th>1</th>\n",
       "      <td>clairemont mesa east</td>\n",
       "      <td>clairemont mesa west</td>\n",
       "      <td>0.966667</td>\n",
       "    </tr>\n",
       "    <tr>\n",
       "      <th>2</th>\n",
       "      <td>clairemont mesa east</td>\n",
       "      <td>bay ho</td>\n",
       "      <td>0.438889</td>\n",
       "    </tr>\n",
       "    <tr>\n",
       "      <th>3</th>\n",
       "      <td>clairemont mesa east</td>\n",
       "      <td>north clairemont</td>\n",
       "      <td>0.644444</td>\n",
       "    </tr>\n",
       "    <tr>\n",
       "      <th>4</th>\n",
       "      <td>clairemont mesa east</td>\n",
       "      <td>university city</td>\n",
       "      <td>0.519444</td>\n",
       "    </tr>\n",
       "    <tr>\n",
       "      <th>...</th>\n",
       "      <td>...</td>\n",
       "      <td>...</td>\n",
       "      <td>...</td>\n",
       "    </tr>\n",
       "    <tr>\n",
       "      <th>161599</th>\n",
       "      <td>via de la valle</td>\n",
       "      <td>rolando village</td>\n",
       "      <td>0.622222</td>\n",
       "    </tr>\n",
       "    <tr>\n",
       "      <th>161600</th>\n",
       "      <td>via de la valle</td>\n",
       "      <td>san pasqual valley</td>\n",
       "      <td>0.674074</td>\n",
       "    </tr>\n",
       "    <tr>\n",
       "      <th>161601</th>\n",
       "      <td>via de la valle</td>\n",
       "      <td>sorrento mesa</td>\n",
       "      <td>0.358120</td>\n",
       "    </tr>\n",
       "    <tr>\n",
       "      <th>161602</th>\n",
       "      <td>via de la valle</td>\n",
       "      <td>torrey hills</td>\n",
       "      <td>0.450000</td>\n",
       "    </tr>\n",
       "    <tr>\n",
       "      <th>161603</th>\n",
       "      <td>via de la valle</td>\n",
       "      <td>via de la valle</td>\n",
       "      <td>1.000000</td>\n",
       "    </tr>\n",
       "  </tbody>\n",
       "</table>\n",
       "<p>161604 rows × 3 columns</p>\n",
       "</div>"
      ],
      "text/plain": [
       "              neighborhood_x        neighborhood_y  jaro_score\n",
       "0       clairemont mesa east  clairemont mesa east    1.000000\n",
       "1       clairemont mesa east  clairemont mesa west    0.966667\n",
       "2       clairemont mesa east                bay ho    0.438889\n",
       "3       clairemont mesa east      north clairemont    0.644444\n",
       "4       clairemont mesa east       university city    0.519444\n",
       "...                      ...                   ...         ...\n",
       "161599       via de la valle       rolando village    0.622222\n",
       "161600       via de la valle    san pasqual valley    0.674074\n",
       "161601       via de la valle         sorrento mesa    0.358120\n",
       "161602       via de la valle          torrey hills    0.450000\n",
       "161603       via de la valle       via de la valle    1.000000\n",
       "\n",
       "[161604 rows x 3 columns]"
      ]
     },
     "execution_count": 21,
     "metadata": {},
     "output_type": "execute_result"
    }
   ],
   "source": [
    "corpus_cross"
   ]
  },
  {
   "cell_type": "code",
   "execution_count": null,
   "id": "3354df59-7176-4ee2-a561-8b65ed579149",
   "metadata": {},
   "outputs": [],
   "source": []
  }
 ],
 "metadata": {
  "kernelspec": {
   "display_name": "Python 3 (ipykernel)",
   "language": "python",
   "name": "python3"
  },
  "language_info": {
   "codemirror_mode": {
    "name": "ipython",
    "version": 3
   },
   "file_extension": ".py",
   "mimetype": "text/x-python",
   "name": "python",
   "nbconvert_exporter": "python",
   "pygments_lexer": "ipython3",
   "version": "3.10.8"
  }
 },
 "nbformat": 4,
 "nbformat_minor": 5
}

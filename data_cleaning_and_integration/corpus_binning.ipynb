{
 "cells": [
  {
   "cell_type": "markdown",
   "id": "f9b16b27-7e46-43f6-907f-678f250ff760",
   "metadata": {},
   "source": [
    "Corpus deduplication via binning"
   ]
  },
  {
   "cell_type": "code",
   "execution_count": 3,
   "id": "cde2bd57-b3bf-45b1-b025-9c40d217b7a6",
   "metadata": {},
   "outputs": [],
   "source": [
    "import pandas as pd\n",
    "import py_stringmatching as sm\n",
    "import networkx as nx"
   ]
  },
  {
   "cell_type": "markdown",
   "id": "3b81c251-3aca-47d1-a9a7-4b89be411908",
   "metadata": {},
   "source": [
    "Import in the data"
   ]
  },
  {
   "cell_type": "code",
   "execution_count": 87,
   "id": "b15ed425-ab10-4484-a703-a6933efdfcec",
   "metadata": {},
   "outputs": [],
   "source": [
    "corpus_folder = '../data/corpi/'\n",
    "corpus_file = 'crime_corpus.csv'\n",
    "corpus_header = 'crime'"
   ]
  },
  {
   "cell_type": "code",
   "execution_count": 58,
   "id": "8a0393f8-3913-4bb4-95e0-e2e79c6d43a7",
   "metadata": {},
   "outputs": [],
   "source": [
    "corpus = pd.read_csv(corpus_folder + corpus_file)\n",
    "corpus[corpus_header] = corpus[corpus_header].str.strip()"
   ]
  },
  {
   "cell_type": "markdown",
   "id": "0bfa2b55-c700-4a4c-947c-cdd3678b9198",
   "metadata": {},
   "source": [
    "Initialize the string similarity metric"
   ]
  },
  {
   "cell_type": "code",
   "execution_count": 46,
   "id": "4867a9bc-c7a9-44ee-934f-d4617de1d09c",
   "metadata": {},
   "outputs": [
    {
     "name": "stdout",
     "output_type": "stream",
     "text": [
      "0.8666666746139526\n"
     ]
    }
   ],
   "source": [
    "jaro = sm.Jaro()\n",
    "print(jaro.get_sim_score('the', 'theft'))"
   ]
  },
  {
   "cell_type": "code",
   "execution_count": 47,
   "id": "219eab92-b4bf-4169-8397-cd8e33566815",
   "metadata": {},
   "outputs": [
    {
     "name": "stdout",
     "output_type": "stream",
     "text": [
      "0.8509615659713745\n"
     ]
    }
   ],
   "source": [
    "jw = sm.JaroWinkler()\n",
    "print(jw.get_sim_score('bay ho alcott', 'bay ho palisades'))"
   ]
  },
  {
   "cell_type": "markdown",
   "id": "fcb5497e-ffd6-4c63-a560-58f59da2bc09",
   "metadata": {},
   "source": [
    "Do cartesian product of corpus for comparisons"
   ]
  },
  {
   "cell_type": "code",
   "execution_count": 59,
   "id": "d9149877-115c-44cf-a951-c1986e834dd4",
   "metadata": {},
   "outputs": [
    {
     "data": {
      "text/html": [
       "<div>\n",
       "<style scoped>\n",
       "    .dataframe tbody tr th:only-of-type {\n",
       "        vertical-align: middle;\n",
       "    }\n",
       "\n",
       "    .dataframe tbody tr th {\n",
       "        vertical-align: top;\n",
       "    }\n",
       "\n",
       "    .dataframe thead th {\n",
       "        text-align: right;\n",
       "    }\n",
       "</style>\n",
       "<table border=\"1\" class=\"dataframe\">\n",
       "  <thead>\n",
       "    <tr style=\"text-align: right;\">\n",
       "      <th></th>\n",
       "      <th>crime_x</th>\n",
       "      <th>crime_y</th>\n",
       "    </tr>\n",
       "  </thead>\n",
       "  <tbody>\n",
       "    <tr>\n",
       "      <th>0</th>\n",
       "      <td>reckless driving</td>\n",
       "      <td>reckless driving</td>\n",
       "    </tr>\n",
       "    <tr>\n",
       "      <th>1</th>\n",
       "      <td>reckless driving</td>\n",
       "      <td>stolen vehicle log</td>\n",
       "    </tr>\n",
       "    <tr>\n",
       "      <th>2</th>\n",
       "      <td>reckless driving</td>\n",
       "      <td>ambulance call overdose</td>\n",
       "    </tr>\n",
       "    <tr>\n",
       "      <th>3</th>\n",
       "      <td>reckless driving</td>\n",
       "      <td>abandoned refrigerator</td>\n",
       "    </tr>\n",
       "    <tr>\n",
       "      <th>4</th>\n",
       "      <td>reckless driving</td>\n",
       "      <td>calling for help</td>\n",
       "    </tr>\n",
       "    <tr>\n",
       "      <th>...</th>\n",
       "      <td>...</td>\n",
       "      <td>...</td>\n",
       "    </tr>\n",
       "    <tr>\n",
       "      <th>508364</th>\n",
       "      <td>photokilling</td>\n",
       "      <td>beguilt</td>\n",
       "    </tr>\n",
       "    <tr>\n",
       "      <th>508365</th>\n",
       "      <td>photokilling</td>\n",
       "      <td>ernest klein</td>\n",
       "    </tr>\n",
       "    <tr>\n",
       "      <th>508366</th>\n",
       "      <td>photokilling</td>\n",
       "      <td>karl brugmann</td>\n",
       "    </tr>\n",
       "    <tr>\n",
       "      <th>508367</th>\n",
       "      <td>photokilling</td>\n",
       "      <td>libertarianism</td>\n",
       "    </tr>\n",
       "    <tr>\n",
       "      <th>508368</th>\n",
       "      <td>photokilling</td>\n",
       "      <td>photokilling</td>\n",
       "    </tr>\n",
       "  </tbody>\n",
       "</table>\n",
       "<p>508369 rows × 2 columns</p>\n",
       "</div>"
      ],
      "text/plain": [
       "                 crime_x                  crime_y\n",
       "0       reckless driving         reckless driving\n",
       "1       reckless driving       stolen vehicle log\n",
       "2       reckless driving  ambulance call overdose\n",
       "3       reckless driving   abandoned refrigerator\n",
       "4       reckless driving         calling for help\n",
       "...                  ...                      ...\n",
       "508364      photokilling                  beguilt\n",
       "508365      photokilling             ernest klein\n",
       "508366      photokilling            karl brugmann\n",
       "508367      photokilling           libertarianism\n",
       "508368      photokilling             photokilling\n",
       "\n",
       "[508369 rows x 2 columns]"
      ]
     },
     "execution_count": 59,
     "metadata": {},
     "output_type": "execute_result"
    }
   ],
   "source": [
    "corpus_cross = corpus.merge(corpus, how='cross')\n",
    "corpus_cross"
   ]
  },
  {
   "cell_type": "code",
   "execution_count": 60,
   "id": "db05fcfc-ccf6-413f-ba22-5f15aca00b31",
   "metadata": {},
   "outputs": [],
   "source": [
    "def get_jaro_sim_score(x):\n",
    "    return jaro.get_sim_score(x[corpus_header + '_x'], x[corpus_header + '_y'])"
   ]
  },
  {
   "cell_type": "code",
   "execution_count": 61,
   "id": "81b9856c-fda1-4952-9422-2c7817ff9f2e",
   "metadata": {},
   "outputs": [],
   "source": [
    "def get_jw_sim_score(x):\n",
    "    return jw.get_sim_score(x[corpus_header + '_x'], x[corpus_header + '_y'])"
   ]
  },
  {
   "cell_type": "code",
   "execution_count": 62,
   "id": "8a1d8e2f-7506-479e-ad30-e3d8f314a207",
   "metadata": {},
   "outputs": [],
   "source": [
    "corpus_cross['jaro_score'] = corpus_cross.apply(get_jaro_sim_score, axis=1)\n",
    "corpus_cross['jw_score'] = corpus_cross.apply(get_jw_sim_score, axis=1)"
   ]
  },
  {
   "cell_type": "code",
   "execution_count": 63,
   "id": "2f40e689-4d86-4982-8e1f-dc8bfdc5b546",
   "metadata": {},
   "outputs": [
    {
     "data": {
      "text/html": [
       "<div>\n",
       "<style scoped>\n",
       "    .dataframe tbody tr th:only-of-type {\n",
       "        vertical-align: middle;\n",
       "    }\n",
       "\n",
       "    .dataframe tbody tr th {\n",
       "        vertical-align: top;\n",
       "    }\n",
       "\n",
       "    .dataframe thead th {\n",
       "        text-align: right;\n",
       "    }\n",
       "</style>\n",
       "<table border=\"1\" class=\"dataframe\">\n",
       "  <thead>\n",
       "    <tr style=\"text-align: right;\">\n",
       "      <th></th>\n",
       "      <th>crime_x</th>\n",
       "      <th>crime_y</th>\n",
       "      <th>jaro_score</th>\n",
       "      <th>jw_score</th>\n",
       "    </tr>\n",
       "  </thead>\n",
       "  <tbody>\n",
       "    <tr>\n",
       "      <th>0</th>\n",
       "      <td>reckless driving</td>\n",
       "      <td>reckless driving</td>\n",
       "      <td>1.000000</td>\n",
       "      <td>1.000000</td>\n",
       "    </tr>\n",
       "    <tr>\n",
       "      <th>1</th>\n",
       "      <td>reckless driving</td>\n",
       "      <td>stolen vehicle log</td>\n",
       "      <td>0.564815</td>\n",
       "      <td>0.564815</td>\n",
       "    </tr>\n",
       "    <tr>\n",
       "      <th>2</th>\n",
       "      <td>reckless driving</td>\n",
       "      <td>ambulance call overdose</td>\n",
       "      <td>0.449275</td>\n",
       "      <td>0.449275</td>\n",
       "    </tr>\n",
       "    <tr>\n",
       "      <th>3</th>\n",
       "      <td>reckless driving</td>\n",
       "      <td>abandoned refrigerator</td>\n",
       "      <td>0.546086</td>\n",
       "      <td>0.546086</td>\n",
       "    </tr>\n",
       "    <tr>\n",
       "      <th>4</th>\n",
       "      <td>reckless driving</td>\n",
       "      <td>calling for help</td>\n",
       "      <td>0.475000</td>\n",
       "      <td>0.475000</td>\n",
       "    </tr>\n",
       "    <tr>\n",
       "      <th>...</th>\n",
       "      <td>...</td>\n",
       "      <td>...</td>\n",
       "      <td>...</td>\n",
       "      <td>...</td>\n",
       "    </tr>\n",
       "    <tr>\n",
       "      <th>508364</th>\n",
       "      <td>photokilling</td>\n",
       "      <td>beguilt</td>\n",
       "      <td>0.448413</td>\n",
       "      <td>0.448413</td>\n",
       "    </tr>\n",
       "    <tr>\n",
       "      <th>508365</th>\n",
       "      <td>photokilling</td>\n",
       "      <td>ernest klein</td>\n",
       "      <td>0.544444</td>\n",
       "      <td>0.544444</td>\n",
       "    </tr>\n",
       "    <tr>\n",
       "      <th>508366</th>\n",
       "      <td>photokilling</td>\n",
       "      <td>karl brugmann</td>\n",
       "      <td>0.463675</td>\n",
       "      <td>0.463675</td>\n",
       "    </tr>\n",
       "    <tr>\n",
       "      <th>508367</th>\n",
       "      <td>photokilling</td>\n",
       "      <td>libertarianism</td>\n",
       "      <td>0.456349</td>\n",
       "      <td>0.456349</td>\n",
       "    </tr>\n",
       "    <tr>\n",
       "      <th>508368</th>\n",
       "      <td>photokilling</td>\n",
       "      <td>photokilling</td>\n",
       "      <td>1.000000</td>\n",
       "      <td>1.000000</td>\n",
       "    </tr>\n",
       "  </tbody>\n",
       "</table>\n",
       "<p>508369 rows × 4 columns</p>\n",
       "</div>"
      ],
      "text/plain": [
       "                 crime_x                  crime_y  jaro_score  jw_score\n",
       "0       reckless driving         reckless driving    1.000000  1.000000\n",
       "1       reckless driving       stolen vehicle log    0.564815  0.564815\n",
       "2       reckless driving  ambulance call overdose    0.449275  0.449275\n",
       "3       reckless driving   abandoned refrigerator    0.546086  0.546086\n",
       "4       reckless driving         calling for help    0.475000  0.475000\n",
       "...                  ...                      ...         ...       ...\n",
       "508364      photokilling                  beguilt    0.448413  0.448413\n",
       "508365      photokilling             ernest klein    0.544444  0.544444\n",
       "508366      photokilling            karl brugmann    0.463675  0.463675\n",
       "508367      photokilling           libertarianism    0.456349  0.456349\n",
       "508368      photokilling             photokilling    1.000000  1.000000\n",
       "\n",
       "[508369 rows x 4 columns]"
      ]
     },
     "execution_count": 63,
     "metadata": {},
     "output_type": "execute_result"
    }
   ],
   "source": [
    "corpus_cross"
   ]
  },
  {
   "cell_type": "code",
   "execution_count": 64,
   "id": "3354df59-7176-4ee2-a561-8b65ed579149",
   "metadata": {},
   "outputs": [],
   "source": [
    "truth = corpus_cross[(corpus_cross['jaro_score']>=0.9) | (corpus_cross['jw_score']>=0.9)]\n",
    "G=nx.from_pandas_edgelist(truth, f'{corpus_header}_x', f'{corpus_header}_y')\n",
    "clustered_groups = list(nx.connected_components(G))"
   ]
  },
  {
   "cell_type": "code",
   "execution_count": 81,
   "id": "5f7319cf-356b-4c2e-b481-38826e849e05",
   "metadata": {},
   "outputs": [
    {
     "data": {
      "text/plain": [
       "0        reckless driving;reckless driving all units\n",
       "1               stolen veh lojack;stolen vehicle log\n",
       "2                            ambulance call overdose\n",
       "3                             abandoned refrigerator\n",
       "4      calling for help;calling for help panic alarm\n",
       "                           ...                      \n",
       "513                                         butchery\n",
       "514                                     ernest klein\n",
       "515                                    karl brugmann\n",
       "516                                   libertarianism\n",
       "517                                     photokilling\n",
       "Name: crime, Length: 518, dtype: object"
      ]
     },
     "execution_count": 81,
     "metadata": {},
     "output_type": "execute_result"
    }
   ],
   "source": [
    "grouping = pd.DataFrame({corpus_header: clustered_groups})\n",
    "grouping[corpus_header] = grouping[corpus_header].apply(list)\n",
    "grouping[corpus_header].apply(lambda x: ';'.join(x))"
   ]
  },
  {
   "cell_type": "code",
   "execution_count": 104,
   "id": "76ec0d1d-c7c3-4bcb-add5-558c14b5de26",
   "metadata": {
    "tags": []
   },
   "outputs": [
    {
     "data": {
      "text/html": [
       "<div>\n",
       "<style scoped>\n",
       "    .dataframe tbody tr th:only-of-type {\n",
       "        vertical-align: middle;\n",
       "    }\n",
       "\n",
       "    .dataframe tbody tr th {\n",
       "        vertical-align: top;\n",
       "    }\n",
       "\n",
       "    .dataframe thead th {\n",
       "        text-align: right;\n",
       "    }\n",
       "</style>\n",
       "<table border=\"1\" class=\"dataframe\">\n",
       "  <thead>\n",
       "    <tr style=\"text-align: right;\">\n",
       "      <th></th>\n",
       "      <th>crime_set_id</th>\n",
       "      <th>crime_set</th>\n",
       "      <th>crime</th>\n",
       "    </tr>\n",
       "  </thead>\n",
       "  <tbody>\n",
       "    <tr>\n",
       "      <th>0</th>\n",
       "      <td>crm0</td>\n",
       "      <td>reckless driving;reckless driving all units</td>\n",
       "      <td>reckless driving</td>\n",
       "    </tr>\n",
       "    <tr>\n",
       "      <th>0</th>\n",
       "      <td>crm0</td>\n",
       "      <td>reckless driving;reckless driving all units</td>\n",
       "      <td>reckless driving all units</td>\n",
       "    </tr>\n",
       "    <tr>\n",
       "      <th>1</th>\n",
       "      <td>crm1</td>\n",
       "      <td>stolen veh lojack;stolen vehicle log</td>\n",
       "      <td>stolen veh lojack</td>\n",
       "    </tr>\n",
       "    <tr>\n",
       "      <th>1</th>\n",
       "      <td>crm1</td>\n",
       "      <td>stolen veh lojack;stolen vehicle log</td>\n",
       "      <td>stolen vehicle log</td>\n",
       "    </tr>\n",
       "    <tr>\n",
       "      <th>2</th>\n",
       "      <td>crm2</td>\n",
       "      <td>ambulance call overdose</td>\n",
       "      <td>ambulance call overdose</td>\n",
       "    </tr>\n",
       "    <tr>\n",
       "      <th>...</th>\n",
       "      <td>...</td>\n",
       "      <td>...</td>\n",
       "      <td>...</td>\n",
       "    </tr>\n",
       "    <tr>\n",
       "      <th>513</th>\n",
       "      <td>crm513</td>\n",
       "      <td>butchery</td>\n",
       "      <td>butchery</td>\n",
       "    </tr>\n",
       "    <tr>\n",
       "      <th>514</th>\n",
       "      <td>crm514</td>\n",
       "      <td>ernest klein</td>\n",
       "      <td>ernest klein</td>\n",
       "    </tr>\n",
       "    <tr>\n",
       "      <th>515</th>\n",
       "      <td>crm515</td>\n",
       "      <td>karl brugmann</td>\n",
       "      <td>karl brugmann</td>\n",
       "    </tr>\n",
       "    <tr>\n",
       "      <th>516</th>\n",
       "      <td>crm516</td>\n",
       "      <td>libertarianism</td>\n",
       "      <td>libertarianism</td>\n",
       "    </tr>\n",
       "    <tr>\n",
       "      <th>517</th>\n",
       "      <td>crm517</td>\n",
       "      <td>photokilling</td>\n",
       "      <td>photokilling</td>\n",
       "    </tr>\n",
       "  </tbody>\n",
       "</table>\n",
       "<p>712 rows × 3 columns</p>\n",
       "</div>"
      ],
      "text/plain": [
       "    crime_set_id                                    crime_set  \\\n",
       "0           crm0  reckless driving;reckless driving all units   \n",
       "0           crm0  reckless driving;reckless driving all units   \n",
       "1           crm1         stolen veh lojack;stolen vehicle log   \n",
       "1           crm1         stolen veh lojack;stolen vehicle log   \n",
       "2           crm2                      ambulance call overdose   \n",
       "..           ...                                          ...   \n",
       "513       crm513                                     butchery   \n",
       "514       crm514                                 ernest klein   \n",
       "515       crm515                                karl brugmann   \n",
       "516       crm516                               libertarianism   \n",
       "517       crm517                                 photokilling   \n",
       "\n",
       "                          crime  \n",
       "0              reckless driving  \n",
       "0    reckless driving all units  \n",
       "1             stolen veh lojack  \n",
       "1            stolen vehicle log  \n",
       "2       ambulance call overdose  \n",
       "..                          ...  \n",
       "513                    butchery  \n",
       "514                ernest klein  \n",
       "515               karl brugmann  \n",
       "516              libertarianism  \n",
       "517                photokilling  \n",
       "\n",
       "[712 rows x 3 columns]"
      ]
     },
     "execution_count": 104,
     "metadata": {},
     "output_type": "execute_result"
    }
   ],
   "source": [
    "grouping = pd.DataFrame({corpus_header: clustered_groups})\n",
    "grouping[corpus_header + '_set'] = grouping[corpus_header]\n",
    "grouping[corpus_header + '_set'] = grouping[corpus_header + '_set'].apply(list)\n",
    "grouping[corpus_header + '_set'] = grouping[corpus_header + '_set'].apply(lambda x: ';'.join(x))\n",
    "grouping.reset_index(inplace = True)\n",
    "grouping[corpus_header + '_set' + \"_id\"] = clustering_prefix + grouping[\"index\"].astype(\"str\")\n",
    "del grouping['index']\n",
    "# rearrange columns\n",
    "grouping = grouping[[corpus_header + '_set' + \"_id\", corpus_header + '_set', corpus_header]]\n",
    "grouping = grouping.explode(column = corpus_header)\n",
    "grouping"
   ]
  },
  {
   "cell_type": "code",
   "execution_count": null,
   "id": "1a5aace9-6825-4582-8c29-bc437734bf39",
   "metadata": {},
   "outputs": [],
   "source": []
  }
 ],
 "metadata": {
  "kernelspec": {
   "display_name": "Python 3 (ipykernel)",
   "language": "python",
   "name": "python3"
  },
  "language_info": {
   "codemirror_mode": {
    "name": "ipython",
    "version": 3
   },
   "file_extension": ".py",
   "mimetype": "text/x-python",
   "name": "python",
   "nbconvert_exporter": "python",
   "pygments_lexer": "ipython3",
   "version": "3.10.8"
  }
 },
 "nbformat": 4,
 "nbformat_minor": 5
}

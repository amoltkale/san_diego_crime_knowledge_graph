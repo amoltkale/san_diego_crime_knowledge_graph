{
 "cells": [
  {
   "cell_type": "code",
   "execution_count": 1,
   "id": "87ddf6e6-44cd-4a78-a9df-1c6a33965229",
   "metadata": {},
   "outputs": [],
   "source": [
    "import csv\n",
    "import numpy as np\n",
    "import pandas as pd "
   ]
  },
  {
   "cell_type": "code",
   "execution_count": 2,
   "id": "c40d7843-f7a6-4c5d-a141-c95fac673f7c",
   "metadata": {},
   "outputs": [],
   "source": [
    "working_dir = '../data/processed_pd_data'"
   ]
  },
  {
   "cell_type": "code",
   "execution_count": 3,
   "id": "c0c7c8aa-f598-47a3-b44d-765cdd164da1",
   "metadata": {},
   "outputs": [],
   "source": [
    "pd_df = pd.read_csv(working_dir + '/merged_pd_data.csv')"
   ]
  },
  {
   "cell_type": "code",
   "execution_count": 4,
   "id": "b46a4e49-8291-47cb-94f1-c325b8949418",
   "metadata": {},
   "outputs": [
    {
     "data": {
      "text/html": [
       "<div>\n",
       "<style scoped>\n",
       "    .dataframe tbody tr th:only-of-type {\n",
       "        vertical-align: middle;\n",
       "    }\n",
       "\n",
       "    .dataframe tbody tr th {\n",
       "        vertical-align: top;\n",
       "    }\n",
       "\n",
       "    .dataframe thead th {\n",
       "        text-align: right;\n",
       "    }\n",
       "</style>\n",
       "<table border=\"1\" class=\"dataframe\">\n",
       "  <thead>\n",
       "    <tr style=\"text-align: right;\">\n",
       "      <th></th>\n",
       "      <th>incident_num</th>\n",
       "      <th>date_time</th>\n",
       "      <th>day_of_week</th>\n",
       "      <th>address_number_primary</th>\n",
       "      <th>address_dir_primary</th>\n",
       "      <th>address_road_primary</th>\n",
       "      <th>address_sfx_primary</th>\n",
       "      <th>address_dir_intersecting</th>\n",
       "      <th>address_road_intersecting</th>\n",
       "      <th>address_sfx_intersecting</th>\n",
       "      <th>call_type</th>\n",
       "      <th>disposition</th>\n",
       "      <th>beat</th>\n",
       "      <th>priority</th>\n",
       "      <th>neighborhood</th>\n",
       "      <th>call_type_desc</th>\n",
       "      <th>crime_type</th>\n",
       "      <th>crime_focus</th>\n",
       "      <th>date_time_bin</th>\n",
       "    </tr>\n",
       "  </thead>\n",
       "  <tbody>\n",
       "    <tr>\n",
       "      <th>0</th>\n",
       "      <td>E22010000006</td>\n",
       "      <td>2022-01-01 00:01:14</td>\n",
       "      <td>7</td>\n",
       "      <td>4600</td>\n",
       "      <td>NaN</td>\n",
       "      <td>ZION</td>\n",
       "      <td>AVE</td>\n",
       "      <td>NaN</td>\n",
       "      <td>NaN</td>\n",
       "      <td>NaN</td>\n",
       "      <td>415</td>\n",
       "      <td>K</td>\n",
       "      <td>321</td>\n",
       "      <td>2.0</td>\n",
       "      <td>Grantville</td>\n",
       "      <td>DISTURBING PEACE</td>\n",
       "      <td>minor</td>\n",
       "      <td>person</td>\n",
       "      <td>Late Night</td>\n",
       "    </tr>\n",
       "    <tr>\n",
       "      <th>1</th>\n",
       "      <td>E22010000007</td>\n",
       "      <td>2022-01-01 00:01:23</td>\n",
       "      <td>7</td>\n",
       "      <td>6700</td>\n",
       "      <td>NaN</td>\n",
       "      <td>KELLY</td>\n",
       "      <td>ST</td>\n",
       "      <td>NaN</td>\n",
       "      <td>NaN</td>\n",
       "      <td>NaN</td>\n",
       "      <td>PARTY</td>\n",
       "      <td>K</td>\n",
       "      <td>621</td>\n",
       "      <td>3.0</td>\n",
       "      <td>Linda Vista</td>\n",
       "      <td>LOUD PARTY</td>\n",
       "      <td>minor</td>\n",
       "      <td>property</td>\n",
       "      <td>Late Night</td>\n",
       "    </tr>\n",
       "    <tr>\n",
       "      <th>2</th>\n",
       "      <td>E22010000009</td>\n",
       "      <td>2022-01-01 00:02:06</td>\n",
       "      <td>7</td>\n",
       "      <td>4100</td>\n",
       "      <td>NaN</td>\n",
       "      <td>IOWA</td>\n",
       "      <td>ST</td>\n",
       "      <td>NaN</td>\n",
       "      <td>NaN</td>\n",
       "      <td>NaN</td>\n",
       "      <td>415V</td>\n",
       "      <td>K</td>\n",
       "      <td>813</td>\n",
       "      <td>1.0</td>\n",
       "      <td>North Park</td>\n",
       "      <td>DISTURBING PEACE W/VIOLENCE</td>\n",
       "      <td>violence</td>\n",
       "      <td>person</td>\n",
       "      <td>Late Night</td>\n",
       "    </tr>\n",
       "    <tr>\n",
       "      <th>3</th>\n",
       "      <td>E22010000012</td>\n",
       "      <td>2022-01-01 00:03:41</td>\n",
       "      <td>7</td>\n",
       "      <td>4600</td>\n",
       "      <td>NaN</td>\n",
       "      <td>35TH</td>\n",
       "      <td>ST</td>\n",
       "      <td>NaN</td>\n",
       "      <td>NaN</td>\n",
       "      <td>NaN</td>\n",
       "      <td>246R</td>\n",
       "      <td>R</td>\n",
       "      <td>811</td>\n",
       "      <td>3.0</td>\n",
       "      <td>Normal Heights</td>\n",
       "      <td>FIRING AT OCCP'D HSE/VEH 1110</td>\n",
       "      <td>violence</td>\n",
       "      <td>person</td>\n",
       "      <td>Late Night</td>\n",
       "    </tr>\n",
       "    <tr>\n",
       "      <th>4</th>\n",
       "      <td>E22010000014</td>\n",
       "      <td>2022-01-01 00:04:38</td>\n",
       "      <td>7</td>\n",
       "      <td>0</td>\n",
       "      <td>NaN</td>\n",
       "      <td>INFO LOG</td>\n",
       "      <td>NaN</td>\n",
       "      <td>NaN</td>\n",
       "      <td>NaN</td>\n",
       "      <td>NaN</td>\n",
       "      <td>503CAR</td>\n",
       "      <td>W</td>\n",
       "      <td>-1</td>\n",
       "      <td>2.0</td>\n",
       "      <td>NaN</td>\n",
       "      <td>STOLEN VEHICLE LOG</td>\n",
       "      <td>theft_robbery</td>\n",
       "      <td>property</td>\n",
       "      <td>Late Night</td>\n",
       "    </tr>\n",
       "  </tbody>\n",
       "</table>\n",
       "</div>"
      ],
      "text/plain": [
       "   incident_num            date_time  day_of_week  address_number_primary  \\\n",
       "0  E22010000006  2022-01-01 00:01:14            7                    4600   \n",
       "1  E22010000007  2022-01-01 00:01:23            7                    6700   \n",
       "2  E22010000009  2022-01-01 00:02:06            7                    4100   \n",
       "3  E22010000012  2022-01-01 00:03:41            7                    4600   \n",
       "4  E22010000014  2022-01-01 00:04:38            7                       0   \n",
       "\n",
       "  address_dir_primary address_road_primary address_sfx_primary  \\\n",
       "0                 NaN                 ZION                 AVE   \n",
       "1                 NaN                KELLY                  ST   \n",
       "2                 NaN                 IOWA                  ST   \n",
       "3                 NaN                 35TH                  ST   \n",
       "4                 NaN             INFO LOG                 NaN   \n",
       "\n",
       "   address_dir_intersecting address_road_intersecting  \\\n",
       "0                       NaN                       NaN   \n",
       "1                       NaN                       NaN   \n",
       "2                       NaN                       NaN   \n",
       "3                       NaN                       NaN   \n",
       "4                       NaN                       NaN   \n",
       "\n",
       "   address_sfx_intersecting call_type disposition  beat  priority  \\\n",
       "0                       NaN       415           K   321       2.0   \n",
       "1                       NaN     PARTY           K   621       3.0   \n",
       "2                       NaN      415V           K   813       1.0   \n",
       "3                       NaN      246R           R   811       3.0   \n",
       "4                       NaN    503CAR           W    -1       2.0   \n",
       "\n",
       "     neighborhood                 call_type_desc     crime_type crime_focus  \\\n",
       "0      Grantville               DISTURBING PEACE          minor      person   \n",
       "1     Linda Vista                     LOUD PARTY          minor    property   \n",
       "2      North Park    DISTURBING PEACE W/VIOLENCE       violence      person   \n",
       "3  Normal Heights  FIRING AT OCCP'D HSE/VEH 1110       violence      person   \n",
       "4             NaN             STOLEN VEHICLE LOG  theft_robbery    property   \n",
       "\n",
       "  date_time_bin  \n",
       "0    Late Night  \n",
       "1    Late Night  \n",
       "2    Late Night  \n",
       "3    Late Night  \n",
       "4    Late Night  "
      ]
     },
     "execution_count": 4,
     "metadata": {},
     "output_type": "execute_result"
    }
   ],
   "source": [
    "pd_df.head()"
   ]
  },
  {
   "cell_type": "code",
   "execution_count": 5,
   "id": "240de7a2-49d8-432b-9c16-7a7a2e190944",
   "metadata": {},
   "outputs": [
    {
     "name": "stdout",
     "output_type": "stream",
     "text": [
      "Unique Inc. Nos. 103230\n"
     ]
    }
   ],
   "source": [
    "print(\"Unique Inc. Nos.\",len(pd.unique(pd_df['incident_num'])))"
   ]
  },
  {
   "cell_type": "code",
   "execution_count": 6,
   "id": "fb2a0185-0351-4433-b2c1-194c51f5e5ee",
   "metadata": {},
   "outputs": [
    {
     "data": {
      "text/plain": [
       "103250"
      ]
     },
     "execution_count": 6,
     "metadata": {},
     "output_type": "execute_result"
    }
   ],
   "source": [
    "len(pd_df)"
   ]
  },
  {
   "cell_type": "code",
   "execution_count": 7,
   "id": "d7f8bf06-df21-4293-8948-3f702f3197af",
   "metadata": {},
   "outputs": [],
   "source": [
    "# Creating the Crime nodes\n",
    "duplicate = pd_df[pd_df['incident_num'].duplicated()]\n",
    "crime_node_df = pd_df[~pd_df['incident_num'].duplicated()].copy()\n",
    "crime_node_df['priority'] = crime_node_df['priority'].astype(int)"
   ]
  },
  {
   "cell_type": "markdown",
   "id": "2e4585e4-a1d4-45d1-91f4-d0ee317be729",
   "metadata": {},
   "source": [
    "**Creating node file for crime/incident_no.**"
   ]
  },
  {
   "cell_type": "code",
   "execution_count": 9,
   "id": "608c5c0b-3b1e-48d6-b163-dbee9036b69c",
   "metadata": {},
   "outputs": [],
   "source": [
    "#Converting priority  to int\n",
    "crime_node_df[\"node_type\"] = \"CRIME_INCIDENT_NO\"\n",
    "crime_node_list = crime_node_df[['incident_num','priority','crime_type','node_type']].values.tolist()\n",
    "\n",
    "crime_node_header = [\"incident_no:ID\", \"priority:Integer\",\"crime_type:String\",\":LABEL\"]\n",
    "nodes_crime_type_file = working_dir +'/nodes/nodes_crime_type.csv'\n",
    "# write nodes file \n",
    "with open(nodes_crime_type_file, 'w',  newline='') as f:\n",
    "    writer = csv.writer(f)\n",
    "    writer.writerow(crime_node_header)\n",
    "    writer.writerows(crime_node_list)"
   ]
  },
  {
   "cell_type": "markdown",
   "id": "08b1822c-5bc1-457c-b013-d2eeacf6bdee",
   "metadata": {},
   "source": [
    "**Creating node file for beat/neighborhood**"
   ]
  },
  {
   "cell_type": "code",
   "execution_count": 10,
   "id": "82941b27-1e37-4508-abe4-c06ffbcf94b2",
   "metadata": {},
   "outputs": [],
   "source": [
    "# Creating the neighborhood nodes\n",
    "neighborhood_node_df = pd_df[['beat','neighborhood']].dropna().drop_duplicates().copy()\n",
    "\n",
    "#Creating a serial ID for the dataframe\n",
    "#neighborhood_node_df['ID'] = np.arange(len(neighborhood_node_df))\n",
    "\n",
    "# To start from ID = 1 \n",
    "#neighborhood_node_df['ID'] = neighborhood_node_df['ID'] + 1\n",
    "#neighborhood_node_df = neighborhood_node_df.iloc[:,[1,0]]\n",
    "neighborhood_node_df['label'] = 'neighborhood'\n",
    "neighborhood_node_list = neighborhood_node_df.values.tolist()\n",
    "\n",
    "neighborhood_node_header = [\":ID\", \"neighborhood\",\":LABEL\"]\n",
    "neighborhood_file = working_dir +'/nodes/nodes_neighborhood.csv'\n",
    "# write nodes file \n",
    "with open(neighborhood_file, 'w',  newline='') as f:\n",
    "    writer = csv.writer(f)\n",
    "    writer.writerow(neighborhood_node_header)\n",
    "    writer.writerows(neighborhood_node_list)"
   ]
  },
  {
   "cell_type": "code",
   "execution_count": 11,
   "id": "6c492261-6d40-4e9f-a321-cb0bd2ae9d3e",
   "metadata": {},
   "outputs": [],
   "source": [
    "# Creating the time nodes\n",
    "time_node_df = pd_df[['date_time_bin']].drop_duplicates().copy()\n",
    "\n",
    "#Creating a serial ID for the dataframe\n",
    "time_node_df['ID'] = np.arange(len(time_node_df))\n",
    "\n",
    "# To start from ID = 1 \n",
    "time_node_df['ID'] = time_node_df['ID'] + 1\n",
    "time_node_df = time_node_df.iloc[:,[1,0]]\n",
    "time_node_df['label'] = 'time'\n",
    "time_node_list = time_node_df.values.tolist()\n",
    "\n",
    "time_node_header = [\":ID\", \"time\",\":LABEL\"]\n",
    "time_node_file = working_dir +'/nodes/node_time.csv'\n",
    "# write nodes file \n",
    "with open(time_node_file, 'w',  newline='') as f:\n",
    "    writer = csv.writer(f)\n",
    "    writer.writerow(time_node_header)\n",
    "    writer.writerows(time_node_list)"
   ]
  },
  {
   "cell_type": "markdown",
   "id": "e6b1140f-bbe9-46d9-8fe2-5e70fa20fa05",
   "metadata": {},
   "source": [
    "**Create Crime happened at neighbourhood relationships**"
   ]
  },
  {
   "cell_type": "code",
   "execution_count": 13,
   "id": "989dc418-a553-4708-8fe3-3cb4a43cd823",
   "metadata": {},
   "outputs": [],
   "source": [
    "crime_loc_df = crime_node_df[['incident_num','beat','neighborhood']].dropna().drop_duplicates().copy()\n",
    "crime_loc_df['type'] = 'HAPPENED_IN'\n",
    "crime_loc_header = [':START_ID',':END_ID','neighborhood',':TYPE']\n",
    "crime_loc_list = crime_loc_df.values.tolist()\n",
    "\n",
    "crime_loc_file = working_dir +'/relationships/crime_loc_rel.csv'\n",
    "\n",
    "with open(crime_loc_file, 'w',  newline='') as f:\n",
    "    writer = csv.writer(f)\n",
    "    writer.writerow(crime_loc_header)\n",
    "    writer.writerows(crime_loc_list)"
   ]
  },
  {
   "cell_type": "code",
   "execution_count": null,
   "id": "c07011d7-83e3-4d8b-b05e-d35acf245d4c",
   "metadata": {},
   "outputs": [],
   "source": []
  }
 ],
 "metadata": {
  "kernelspec": {
   "display_name": "Python 3 (ipykernel)",
   "language": "python",
   "name": "python3"
  },
  "language_info": {
   "codemirror_mode": {
    "name": "ipython",
    "version": 3
   },
   "file_extension": ".py",
   "mimetype": "text/x-python",
   "name": "python",
   "nbconvert_exporter": "python",
   "pygments_lexer": "ipython3",
   "version": "3.8.2"
  }
 },
 "nbformat": 4,
 "nbformat_minor": 5
}

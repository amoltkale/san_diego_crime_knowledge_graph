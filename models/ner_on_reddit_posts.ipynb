{
 "cells": [
  {
   "cell_type": "code",
   "execution_count": 26,
   "id": "90335eef-3e82-4dd7-848e-45c22af1515a",
   "metadata": {},
   "outputs": [],
   "source": [
    "import pandas as pd\n",
    "from nltk.tokenize import word_tokenize\n",
    "import string\n",
    "import spacy\n",
    "import numpy as np"
   ]
  },
  {
   "cell_type": "code",
   "execution_count": 39,
   "id": "90d1c89b-d57c-4060-84a3-ea5396b642aa",
   "metadata": {},
   "outputs": [],
   "source": [
    "nlp_spacy = spacy.load(\"en_core_web_md\")"
   ]
  },
  {
   "cell_type": "code",
   "execution_count": 41,
   "id": "a9028ec6-a1cf-4103-af02-3145f72c9909",
   "metadata": {},
   "outputs": [],
   "source": [
    "input_df = pd.read_csv(\"../data/processed_reddit_data/cleaned_reddit_12-21_to_1115.csv\")"
   ]
  },
  {
   "cell_type": "code",
   "execution_count": 42,
   "id": "85e3fc34-8f5c-4202-967c-c157eeae605a",
   "metadata": {},
   "outputs": [
    {
     "data": {
      "text/html": [
       "<div>\n",
       "<style scoped>\n",
       "    .dataframe tbody tr th:only-of-type {\n",
       "        vertical-align: middle;\n",
       "    }\n",
       "\n",
       "    .dataframe tbody tr th {\n",
       "        vertical-align: top;\n",
       "    }\n",
       "\n",
       "    .dataframe thead th {\n",
       "        text-align: right;\n",
       "    }\n",
       "</style>\n",
       "<table border=\"1\" class=\"dataframe\">\n",
       "  <thead>\n",
       "    <tr style=\"text-align: right;\">\n",
       "      <th></th>\n",
       "      <th>subreddit</th>\n",
       "      <th>title</th>\n",
       "      <th>post_id</th>\n",
       "      <th>post_author</th>\n",
       "      <th>post_utc</th>\n",
       "      <th>full_link</th>\n",
       "      <th>post_text</th>\n",
       "      <th>post_text_count</th>\n",
       "    </tr>\n",
       "  </thead>\n",
       "  <tbody>\n",
       "    <tr>\n",
       "      <th>0</th>\n",
       "      <td>sandiego</td>\n",
       "      <td>going to visit san diego next week  any places...</td>\n",
       "      <td>x4nzh2</td>\n",
       "      <td>Fearmkultra</td>\n",
       "      <td>2022-09-03 06:57:58+00:00</td>\n",
       "      <td>https://www.reddit.com/r/sandiego/comments/x4n...</td>\n",
       "      <td>going to visit san diego next week any places ...</td>\n",
       "      <td>12</td>\n",
       "    </tr>\n",
       "    <tr>\n",
       "      <th>2</th>\n",
       "      <td>sandiego</td>\n",
       "      <td>whaley house picture of ghost</td>\n",
       "      <td>x4ntm7</td>\n",
       "      <td>Open_Construction_31</td>\n",
       "      <td>2022-09-03 06:47:09+00:00</td>\n",
       "      <td>https://www.reddit.com/r/sandiego/comments/x4n...</td>\n",
       "      <td>whaley house picture of ghost as a kid i saw t...</td>\n",
       "      <td>199</td>\n",
       "    </tr>\n",
       "    <tr>\n",
       "      <th>3</th>\n",
       "      <td>sandiego</td>\n",
       "      <td>language exchange</td>\n",
       "      <td>x4n6xv</td>\n",
       "      <td>Poshorock</td>\n",
       "      <td>2022-09-03 06:07:46+00:00</td>\n",
       "      <td>https://www.reddit.com/r/sandiego/comments/x4n...</td>\n",
       "      <td>language exchange is there someone by there wh...</td>\n",
       "      <td>31</td>\n",
       "    </tr>\n",
       "    <tr>\n",
       "      <th>4</th>\n",
       "      <td>SanDiegan</td>\n",
       "      <td>chula vista police stopping cars going east on...</td>\n",
       "      <td>x4n5aj</td>\n",
       "      <td>kaptaincorn</td>\n",
       "      <td>2022-09-03 06:04:54+00:00</td>\n",
       "      <td>https://www.reddit.com/r/SanDiegan/comments/x4...</td>\n",
       "      <td>chula vista police stopping cars going east on...</td>\n",
       "      <td>57</td>\n",
       "    </tr>\n",
       "    <tr>\n",
       "      <th>5</th>\n",
       "      <td>SanDiegan</td>\n",
       "      <td>todd gloria finalizes plan to change park blvd...</td>\n",
       "      <td>x4n2rv</td>\n",
       "      <td>Lemonade_IceCold</td>\n",
       "      <td>2022-09-03 06:00:38+00:00</td>\n",
       "      <td>https://www.reddit.com/r/SanDiegan/comments/x4...</td>\n",
       "      <td>todd gloria finalizes plan to change park blvd...</td>\n",
       "      <td>666</td>\n",
       "    </tr>\n",
       "  </tbody>\n",
       "</table>\n",
       "</div>"
      ],
      "text/plain": [
       "   subreddit                                              title post_id  \\\n",
       "0   sandiego  going to visit san diego next week  any places...  x4nzh2   \n",
       "2   sandiego                      whaley house picture of ghost  x4ntm7   \n",
       "3   sandiego                                  language exchange  x4n6xv   \n",
       "4  SanDiegan  chula vista police stopping cars going east on...  x4n5aj   \n",
       "5  SanDiegan  todd gloria finalizes plan to change park blvd...  x4n2rv   \n",
       "\n",
       "            post_author                   post_utc  \\\n",
       "0           Fearmkultra  2022-09-03 06:57:58+00:00   \n",
       "2  Open_Construction_31  2022-09-03 06:47:09+00:00   \n",
       "3             Poshorock  2022-09-03 06:07:46+00:00   \n",
       "4           kaptaincorn  2022-09-03 06:04:54+00:00   \n",
       "5      Lemonade_IceCold  2022-09-03 06:00:38+00:00   \n",
       "\n",
       "                                           full_link  \\\n",
       "0  https://www.reddit.com/r/sandiego/comments/x4n...   \n",
       "2  https://www.reddit.com/r/sandiego/comments/x4n...   \n",
       "3  https://www.reddit.com/r/sandiego/comments/x4n...   \n",
       "4  https://www.reddit.com/r/SanDiegan/comments/x4...   \n",
       "5  https://www.reddit.com/r/SanDiegan/comments/x4...   \n",
       "\n",
       "                                           post_text  post_text_count  \n",
       "0  going to visit san diego next week any places ...               12  \n",
       "2  whaley house picture of ghost as a kid i saw t...              199  \n",
       "3  language exchange is there someone by there wh...               31  \n",
       "4  chula vista police stopping cars going east on...               57  \n",
       "5  todd gloria finalizes plan to change park blvd...              666  "
      ]
     },
     "execution_count": 42,
     "metadata": {},
     "output_type": "execute_result"
    }
   ],
   "source": [
    "# Doing NER on posts with word count greater than 4\n",
    "input_df = input_df[input_df['post_text_count']>4]\n",
    "input_df.head()"
   ]
  },
  {
   "cell_type": "code",
   "execution_count": 58,
   "id": "6212eb20-c3dc-4c88-8689-4fba26100a3b",
   "metadata": {},
   "outputs": [
    {
     "name": "stdout",
     "output_type": "stream",
     "text": [
      "Unique post ID Count:  43273\n",
      "Dataset size: 43421\n"
     ]
    }
   ],
   "source": [
    "print(\"Unique post ID Count: \",len(pd.unique(input_df['post_id'])))\n",
    "print(\"Dataset size:\",len(input_df))"
   ]
  },
  {
   "cell_type": "code",
   "execution_count": 43,
   "id": "f256f6fc-e47a-4183-802d-08e76c096b77",
   "metadata": {},
   "outputs": [
    {
     "name": "stdout",
     "output_type": "stream",
     "text": [
      "CPU times: user 12min 19s, sys: 44.3 s, total: 13min 3s\n",
      "Wall time: 13min 27s\n"
     ]
    }
   ],
   "source": [
    "# This is exploration of all the entities present\n",
    "%%time\n",
    "ent_dict = []\n",
    "for index, row in input_df.iterrows():\n",
    "    #print(post)\n",
    "    post_id = row['post_id']\n",
    "    post = row['post_text']\n",
    "    doc_spacy = nlp_spacy(post)\n",
    "    for ent in doc_spacy.ents:\n",
    "        ent_dict.append([post_id,ent.label_,ent.text])\n",
    "        \n",
    "#print(ent_dict)   "
   ]
  },
  {
   "cell_type": "code",
   "execution_count": 55,
   "id": "0ef80526-b54d-4b0a-8851-56a4e186332b",
   "metadata": {},
   "outputs": [
    {
     "data": {
      "text/plain": [
       "[['CARDINAL', 'Numerals that do not fall under another type'],\n",
       " ['DATE', 'Absolute or relative dates or periods'],\n",
       " ['EVENT', 'Named hurricanes, battles, wars, sports events, etc.'],\n",
       " ['FAC', 'Buildings, airports, highways, bridges, etc.'],\n",
       " ['GPE', 'Countries, cities, states'],\n",
       " ['LANGUAGE', 'Any named language'],\n",
       " ['LAW', 'Named documents made into laws.'],\n",
       " ['LOC', 'Non-GPE locations, mountain ranges, bodies of water'],\n",
       " ['MONEY', 'Monetary values, including unit'],\n",
       " ['NORP', 'Nationalities or religious or political groups'],\n",
       " ['ORDINAL', '\"first\", \"second\", etc.'],\n",
       " ['ORG', 'Companies, agencies, institutions, etc.'],\n",
       " ['PERCENT', 'Percentage, including \"%\"'],\n",
       " ['PERSON', 'People, including fictional'],\n",
       " ['PRODUCT', 'Objects, vehicles, foods, etc. (not services)'],\n",
       " ['QUANTITY', 'Measurements, as of weight or distance'],\n",
       " ['TIME', 'Times smaller than a day'],\n",
       " ['WORK_OF_ART', 'Titles of books, songs, etc.']]"
      ]
     },
     "execution_count": 55,
     "metadata": {},
     "output_type": "execute_result"
    }
   ],
   "source": [
    "# Extracting the labels\n",
    "final_lst = [i[1] for i in ent_dict]\n",
    "\n",
    "# Unique list of Entity labels present in our reddit posts\n",
    "final_lst = list(np.unique(final_lst))\n",
    "\n",
    "# Adding description to those labels\n",
    "final_lst = [[label,spacy.explain(label)] for label in final_lst]\n",
    "final_lst"
   ]
  },
  {
   "cell_type": "code",
   "execution_count": 120,
   "id": "4d99d3aa-55d3-4bdc-aeed-0c3b89766eaf",
   "metadata": {},
   "outputs": [],
   "source": [
    "# These are the significant Entity labels we want to check.\n",
    "ent_labels = ['DATE', 'EVENT', 'FAC', 'GPE', 'LANGUAGE', 'LAW', 'LOC', 'NORP', 'ORG', 'PERSON', 'TIME']\n",
    "\n",
    "#Adding Entity labels as columns in our input dataframe\n",
    "# for lbl in ent_label_dict:\n",
    "#     input_df[lbl] = None"
   ]
  },
  {
   "cell_type": "code",
   "execution_count": 122,
   "id": "7e9e06ae-043d-4677-8b8d-039c4d8f8c3d",
   "metadata": {},
   "outputs": [
    {
     "name": "stdout",
     "output_type": "stream",
     "text": [
      "CPU times: user 12min 10s, sys: 46.5 s, total: 12min 56s\n",
      "Wall time: 13min 22s\n"
     ]
    }
   ],
   "source": [
    "%%time\n",
    "# Let's add the list in a column\n",
    "# Important Labels:\n",
    "# DATE, EVENT, FAC, GPE, LANGUAGE, LAW, LOC, NORP, ORG, PERSON, TIME\n",
    "\n",
    "for index, row in input_df.iterrows():\n",
    "    #print(\"index\",index)\n",
    "    ent_label_dict = dict.fromkeys(ent_labels,[])\n",
    "    post = row['post_text']\n",
    "    doc_spacy = nlp_spacy(post)\n",
    "    for ent in doc_spacy.ents:\n",
    "        if ent.label_ in ent_label_dict:\n",
    "            ent_label_dict[ent.label_] = ent_label_dict[ent.label_] + [ent.text]\n",
    "        \n",
    "            # Updating the label value recognized in the dataframe\n",
    "            input_df.at[index,ent.label_] = ent_label_dict[ent.label_]"
   ]
  },
  {
   "cell_type": "code",
   "execution_count": 123,
   "id": "1c16393f-17c3-4721-a426-c33507a2b6de",
   "metadata": {},
   "outputs": [
    {
     "data": {
      "text/html": [
       "<div>\n",
       "<style scoped>\n",
       "    .dataframe tbody tr th:only-of-type {\n",
       "        vertical-align: middle;\n",
       "    }\n",
       "\n",
       "    .dataframe tbody tr th {\n",
       "        vertical-align: top;\n",
       "    }\n",
       "\n",
       "    .dataframe thead th {\n",
       "        text-align: right;\n",
       "    }\n",
       "</style>\n",
       "<table border=\"1\" class=\"dataframe\">\n",
       "  <thead>\n",
       "    <tr style=\"text-align: right;\">\n",
       "      <th></th>\n",
       "      <th>subreddit</th>\n",
       "      <th>title</th>\n",
       "      <th>post_id</th>\n",
       "      <th>post_author</th>\n",
       "      <th>post_utc</th>\n",
       "      <th>full_link</th>\n",
       "      <th>post_text</th>\n",
       "      <th>post_text_count</th>\n",
       "      <th>ORG</th>\n",
       "      <th>DATE</th>\n",
       "      <th>EVENT</th>\n",
       "      <th>FAC</th>\n",
       "      <th>GPE</th>\n",
       "      <th>LANGUAGE</th>\n",
       "      <th>LAW</th>\n",
       "      <th>LOC</th>\n",
       "      <th>NORP</th>\n",
       "      <th>PERSON</th>\n",
       "      <th>TIME</th>\n",
       "    </tr>\n",
       "  </thead>\n",
       "  <tbody>\n",
       "    <tr>\n",
       "      <th>0</th>\n",
       "      <td>sandiego</td>\n",
       "      <td>going to visit san diego next week  any places...</td>\n",
       "      <td>x4nzh2</td>\n",
       "      <td>Fearmkultra</td>\n",
       "      <td>2022-09-03 06:57:58+00:00</td>\n",
       "      <td>https://www.reddit.com/r/sandiego/comments/x4n...</td>\n",
       "      <td>going to visit san diego next week any places ...</td>\n",
       "      <td>12</td>\n",
       "      <td>[san diego]</td>\n",
       "      <td>[next week]</td>\n",
       "      <td>None</td>\n",
       "      <td>None</td>\n",
       "      <td>None</td>\n",
       "      <td>None</td>\n",
       "      <td>None</td>\n",
       "      <td>None</td>\n",
       "      <td>None</td>\n",
       "      <td>None</td>\n",
       "      <td>None</td>\n",
       "    </tr>\n",
       "    <tr>\n",
       "      <th>2</th>\n",
       "      <td>sandiego</td>\n",
       "      <td>whaley house picture of ghost</td>\n",
       "      <td>x4ntm7</td>\n",
       "      <td>Open_Construction_31</td>\n",
       "      <td>2022-09-03 06:47:09+00:00</td>\n",
       "      <td>https://www.reddit.com/r/sandiego/comments/x4n...</td>\n",
       "      <td>whaley house picture of ghost as a kid i saw t...</td>\n",
       "      <td>199</td>\n",
       "      <td>[whaley house, the whaley house]</td>\n",
       "      <td>[13, 25 yrs ago]</td>\n",
       "      <td>None</td>\n",
       "      <td>None</td>\n",
       "      <td>[san diegans]</td>\n",
       "      <td>None</td>\n",
       "      <td>None</td>\n",
       "      <td>None</td>\n",
       "      <td>None</td>\n",
       "      <td>None</td>\n",
       "      <td>[a minute later, late nightearly morning]</td>\n",
       "    </tr>\n",
       "    <tr>\n",
       "      <th>3</th>\n",
       "      <td>sandiego</td>\n",
       "      <td>language exchange</td>\n",
       "      <td>x4n6xv</td>\n",
       "      <td>Poshorock</td>\n",
       "      <td>2022-09-03 06:07:46+00:00</td>\n",
       "      <td>https://www.reddit.com/r/sandiego/comments/x4n...</td>\n",
       "      <td>language exchange is there someone by there wh...</td>\n",
       "      <td>31</td>\n",
       "      <td>None</td>\n",
       "      <td>None</td>\n",
       "      <td>None</td>\n",
       "      <td>None</td>\n",
       "      <td>None</td>\n",
       "      <td>[english]</td>\n",
       "      <td>None</td>\n",
       "      <td>None</td>\n",
       "      <td>[spanish]</td>\n",
       "      <td>[san diego]</td>\n",
       "      <td>None</td>\n",
       "    </tr>\n",
       "    <tr>\n",
       "      <th>4</th>\n",
       "      <td>SanDiegan</td>\n",
       "      <td>chula vista police stopping cars going east on...</td>\n",
       "      <td>x4n5aj</td>\n",
       "      <td>kaptaincorn</td>\n",
       "      <td>2022-09-03 06:04:54+00:00</td>\n",
       "      <td>https://www.reddit.com/r/SanDiegan/comments/x4...</td>\n",
       "      <td>chula vista police stopping cars going east on...</td>\n",
       "      <td>57</td>\n",
       "      <td>None</td>\n",
       "      <td>None</td>\n",
       "      <td>None</td>\n",
       "      <td>None</td>\n",
       "      <td>[chula vista]</td>\n",
       "      <td>None</td>\n",
       "      <td>None</td>\n",
       "      <td>None</td>\n",
       "      <td>None</td>\n",
       "      <td>None</td>\n",
       "      <td>None</td>\n",
       "    </tr>\n",
       "    <tr>\n",
       "      <th>5</th>\n",
       "      <td>SanDiegan</td>\n",
       "      <td>todd gloria finalizes plan to change park blvd...</td>\n",
       "      <td>x4n2rv</td>\n",
       "      <td>Lemonade_IceCold</td>\n",
       "      <td>2022-09-03 06:00:38+00:00</td>\n",
       "      <td>https://www.reddit.com/r/SanDiegan/comments/x4...</td>\n",
       "      <td>todd gloria finalizes plan to change park blvd...</td>\n",
       "      <td>666</td>\n",
       "      <td>[gtonly]</td>\n",
       "      <td>None</td>\n",
       "      <td>None</td>\n",
       "      <td>[balboa park]</td>\n",
       "      <td>None</td>\n",
       "      <td>None</td>\n",
       "      <td>None</td>\n",
       "      <td>None</td>\n",
       "      <td>[north american]</td>\n",
       "      <td>[todd gloria, kevin]</td>\n",
       "      <td>None</td>\n",
       "    </tr>\n",
       "  </tbody>\n",
       "</table>\n",
       "</div>"
      ],
      "text/plain": [
       "   subreddit                                              title post_id  \\\n",
       "0   sandiego  going to visit san diego next week  any places...  x4nzh2   \n",
       "2   sandiego                      whaley house picture of ghost  x4ntm7   \n",
       "3   sandiego                                  language exchange  x4n6xv   \n",
       "4  SanDiegan  chula vista police stopping cars going east on...  x4n5aj   \n",
       "5  SanDiegan  todd gloria finalizes plan to change park blvd...  x4n2rv   \n",
       "\n",
       "            post_author                   post_utc  \\\n",
       "0           Fearmkultra  2022-09-03 06:57:58+00:00   \n",
       "2  Open_Construction_31  2022-09-03 06:47:09+00:00   \n",
       "3             Poshorock  2022-09-03 06:07:46+00:00   \n",
       "4           kaptaincorn  2022-09-03 06:04:54+00:00   \n",
       "5      Lemonade_IceCold  2022-09-03 06:00:38+00:00   \n",
       "\n",
       "                                           full_link  \\\n",
       "0  https://www.reddit.com/r/sandiego/comments/x4n...   \n",
       "2  https://www.reddit.com/r/sandiego/comments/x4n...   \n",
       "3  https://www.reddit.com/r/sandiego/comments/x4n...   \n",
       "4  https://www.reddit.com/r/SanDiegan/comments/x4...   \n",
       "5  https://www.reddit.com/r/SanDiegan/comments/x4...   \n",
       "\n",
       "                                           post_text  post_text_count  \\\n",
       "0  going to visit san diego next week any places ...               12   \n",
       "2  whaley house picture of ghost as a kid i saw t...              199   \n",
       "3  language exchange is there someone by there wh...               31   \n",
       "4  chula vista police stopping cars going east on...               57   \n",
       "5  todd gloria finalizes plan to change park blvd...              666   \n",
       "\n",
       "                                ORG              DATE EVENT            FAC  \\\n",
       "0                       [san diego]       [next week]  None           None   \n",
       "2  [whaley house, the whaley house]  [13, 25 yrs ago]  None           None   \n",
       "3                              None              None  None           None   \n",
       "4                              None              None  None           None   \n",
       "5                          [gtonly]              None  None  [balboa park]   \n",
       "\n",
       "             GPE   LANGUAGE   LAW   LOC              NORP  \\\n",
       "0           None       None  None  None              None   \n",
       "2  [san diegans]       None  None  None              None   \n",
       "3           None  [english]  None  None         [spanish]   \n",
       "4  [chula vista]       None  None  None              None   \n",
       "5           None       None  None  None  [north american]   \n",
       "\n",
       "                 PERSON                                       TIME  \n",
       "0                  None                                       None  \n",
       "2                  None  [a minute later, late nightearly morning]  \n",
       "3           [san diego]                                       None  \n",
       "4                  None                                       None  \n",
       "5  [todd gloria, kevin]                                       None  "
      ]
     },
     "execution_count": 123,
     "metadata": {},
     "output_type": "execute_result"
    }
   ],
   "source": [
    "input_df.head()"
   ]
  },
  {
   "cell_type": "code",
   "execution_count": 127,
   "id": "f41dac31-95d5-4dca-84f8-787d9512cd7e",
   "metadata": {},
   "outputs": [
    {
     "data": {
      "text/plain": [
       "subreddit          43421\n",
       "title              43420\n",
       "post_id            43421\n",
       "post_author        43421\n",
       "post_utc           43421\n",
       "full_link          43421\n",
       "post_text          43421\n",
       "post_text_count    43421\n",
       "ORG                10637\n",
       "DATE               17438\n",
       "EVENT                109\n",
       "FAC                 1187\n",
       "GPE                11175\n",
       "LANGUAGE             200\n",
       "LAW                  376\n",
       "LOC                 1649\n",
       "NORP                2731\n",
       "PERSON              9474\n",
       "TIME                5928\n",
       "dtype: int64"
      ]
     },
     "execution_count": 127,
     "metadata": {},
     "output_type": "execute_result"
    }
   ],
   "source": [
    "# Giving a check on Non-None count for all columns.\n",
    "input_df.count()"
   ]
  },
  {
   "cell_type": "code",
   "execution_count": 128,
   "id": "5ee12cfb-582b-4989-958b-277e0eb92e3f",
   "metadata": {},
   "outputs": [],
   "source": [
    "input_df.to_csv(\"../data/processed_reddit_data/cleaned_reddit_ner_12-21_to_1115.csv\",header=True)"
   ]
  },
  {
   "cell_type": "code",
   "execution_count": 132,
   "id": "470bb5d2-8021-4b41-bfbe-6262631a36c7",
   "metadata": {},
   "outputs": [
    {
     "data": {
      "text/plain": [
       "0                                  [san diego]\n",
       "2             [whaley house, the whaley house]\n",
       "5                                     [gtonly]\n",
       "11                              [paseo, paseo]\n",
       "14                              [honda, honda]\n",
       "28       [rita atkinson apartments minidouble]\n",
       "29                                [ac, ac, ac]\n",
       "31    [uc scam diego, uc scam diego shirt lmk]\n",
       "33                                    [toyota]\n",
       "34                            [house of blues]\n",
       "42                                    [triton]\n",
       "59                      [the san diego humane]\n",
       "63           [the san diego police department]\n",
       "65                                      [sims]\n",
       "67                                        [ez]\n",
       "68                                [awp 3, tas]\n",
       "74                          [szn massive heat]\n",
       "75                                    [ge, ge]\n",
       "76                                    [ge, ge]\n",
       "81                                       [gta]\n",
       "Name: ORG, dtype: object"
      ]
     },
     "execution_count": 132,
     "metadata": {},
     "output_type": "execute_result"
    }
   ],
   "source": [
    "input_df['ORG'].dropna().head(20)"
   ]
  },
  {
   "cell_type": "code",
   "execution_count": 133,
   "id": "9f357237-0f78-43e7-a460-10beef1718d6",
   "metadata": {},
   "outputs": [
    {
     "data": {
      "text/plain": [
       "2                                         [san diegans]\n",
       "4                                         [chula vista]\n",
       "9                           [servercocktail, san diego]\n",
       "12                                          [san diego]\n",
       "13        [san diego twohearts, connecticut, san diego]\n",
       "14                                              [texas]\n",
       "17                                         [california]\n",
       "21                                  [san diego skyline]\n",
       "33                                   [broadway st, y.o]\n",
       "36                                         [clairemont]\n",
       "37                                         [clairemont]\n",
       "41                                          [san diego]\n",
       "43                                          [san diego]\n",
       "55                                          [san diego]\n",
       "57                                          [san diego]\n",
       "59    [virginia, san diego, san diego, san diego, sa...\n",
       "61                                             [roymar]\n",
       "80                                             [dexter]\n",
       "81                                        [balboa park]\n",
       "82                             [san diego, new zealand]\n",
       "Name: GPE, dtype: object"
      ]
     },
     "execution_count": 133,
     "metadata": {},
     "output_type": "execute_result"
    }
   ],
   "source": [
    "input_df['GPE'].dropna().head(20)"
   ]
  },
  {
   "cell_type": "code",
   "execution_count": 134,
   "id": "2b424f17-39d1-47d6-9f38-448981f72415",
   "metadata": {},
   "outputs": [
    {
     "data": {
      "text/plain": [
       "3                                        [spanish]\n",
       "5                                 [north american]\n",
       "80                                [philadelphians]\n",
       "100                                       [indian]\n",
       "107                                        [dutch]\n",
       "108    [malaysians, kawankawans, southeast asians]\n",
       "142                                      [mexican]\n",
       "146                                 [californians]\n",
       "162      [indian, indian, uc san diegos, american]\n",
       "166                                      [british]\n",
       "174                          [san diegans, afghan]\n",
       "177                                      [mexican]\n",
       "193                                [german, irish]\n",
       "217                             [english, english]\n",
       "230              [taiwanese, taiwanese, taiwanese]\n",
       "269                                      [mexican]\n",
       "283                                      [mexican]\n",
       "284                             [japanese, japans]\n",
       "302                               [julian, julian]\n",
       "341                                      [chinese]\n",
       "Name: NORP, dtype: object"
      ]
     },
     "execution_count": 134,
     "metadata": {},
     "output_type": "execute_result"
    }
   ],
   "source": [
    "input_df['NORP'].dropna().head(20)"
   ]
  },
  {
   "cell_type": "code",
   "execution_count": 135,
   "id": "fe5c5070-21b1-4bd6-b43b-057f5867f4ea",
   "metadata": {},
   "outputs": [
    {
     "data": {
      "text/plain": [
       "0                                           [next week]\n",
       "2                                      [13, 25 yrs ago]\n",
       "11         [3 days ago, today, today, the same week, 9]\n",
       "13                 [one year anniversary, last october]\n",
       "15    [this year last year, the upcoming year, this ...\n",
       "21                                         [night 2015]\n",
       "22                                       [fall quarter]\n",
       "27    [homecoming weekend, the start of 3rd quarter,...\n",
       "28                               [jul 27, sep 5, sep 5]\n",
       "29                                        [last summer]\n",
       "30                                       [this weekend]\n",
       "33                                               [2019]\n",
       "35                                             [2 days]\n",
       "41    [2 day, halloween, october, two day, october, ...\n",
       "42                          [the start of fall quarter]\n",
       "45                                                [80s]\n",
       "47                                      [this semester]\n",
       "51                             [every week, the summer]\n",
       "56                                             [2 week]\n",
       "59                 [just a few weeks ago, the next day]\n",
       "Name: DATE, dtype: object"
      ]
     },
     "execution_count": 135,
     "metadata": {},
     "output_type": "execute_result"
    }
   ],
   "source": [
    "input_df['DATE'].dropna().head(20)"
   ]
  },
  {
   "cell_type": "code",
   "execution_count": null,
   "id": "b7b17654-70a8-42cb-b363-b673e930a897",
   "metadata": {},
   "outputs": [],
   "source": []
  }
 ],
 "metadata": {
  "kernelspec": {
   "display_name": "Python 3 (ipykernel)",
   "language": "python",
   "name": "python3"
  },
  "language_info": {
   "codemirror_mode": {
    "name": "ipython",
    "version": 3
   },
   "file_extension": ".py",
   "mimetype": "text/x-python",
   "name": "python",
   "nbconvert_exporter": "python",
   "pygments_lexer": "ipython3",
   "version": "3.8.9"
  }
 },
 "nbformat": 4,
 "nbformat_minor": 5
}

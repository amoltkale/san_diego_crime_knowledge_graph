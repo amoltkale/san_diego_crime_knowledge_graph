{
 "cells": [
  {
   "cell_type": "markdown",
   "id": "34d8aa9b",
   "metadata": {},
   "source": [
    "# Using an agreed upon corpus, extract neighborhoods and crimes for a given dataframe\n",
    "The following code will search for and extract matches (exact and partial) of the neighborhood/crime corpi from a given dataframe. The philosophy is:\n",
    "1. Look for exact corpus matches first using CountVectorizer\n",
    "2. For records that had no exact matches, tokenize using ngrams (size 1-4)and try to find high score partial matches"
   ]
  },
  {
   "cell_type": "code",
   "execution_count": 1,
   "id": "1bd0c3d9",
   "metadata": {},
   "outputs": [],
   "source": [
    "import pandas as pd\n",
    "import py_stringmatching as sm\n",
    "import nltk\n",
    "from nltk.util import ngrams\n",
    "\n",
    "from sklearn.feature_extraction.text import CountVectorizer"
   ]
  },
  {
   "cell_type": "markdown",
   "id": "3f22c466",
   "metadata": {},
   "source": [
    "## To use this code, specify the dataframe location and the column to be searched."
   ]
  },
  {
   "cell_type": "code",
   "execution_count": 2,
   "id": "2717555c-d189-46f3-8924-f2a2aced3e40",
   "metadata": {},
   "outputs": [
    {
     "data": {
      "text/plain": [
       "\"\\ndf = pd.read_csv('../data/cleaned_reddit_12-21_to_1115.csv')\\ndf.reset_index(inplace = True)\\ncol = 'post_text'\\n\""
      ]
     },
     "execution_count": 2,
     "metadata": {},
     "output_type": "execute_result"
    }
   ],
   "source": [
    "'''\n",
    "df = pd.read_csv('../data/cleaned_reddit_12-21_to_1115.csv')\n",
    "df.reset_index(inplace = True)\n",
    "col = 'post_text'\n",
    "'''"
   ]
  },
  {
   "cell_type": "markdown",
   "id": "77c85d60",
   "metadata": {},
   "source": [
    "Prep the search column by making it string."
   ]
  },
  {
   "cell_type": "code",
   "execution_count": 3,
   "id": "92053805-3372-4baf-b465-e7485b78313a",
   "metadata": {},
   "outputs": [
    {
     "data": {
      "text/html": [
       "<div>\n",
       "<style scoped>\n",
       "    .dataframe tbody tr th:only-of-type {\n",
       "        vertical-align: middle;\n",
       "    }\n",
       "\n",
       "    .dataframe tbody tr th {\n",
       "        vertical-align: top;\n",
       "    }\n",
       "\n",
       "    .dataframe thead th {\n",
       "        text-align: right;\n",
       "    }\n",
       "</style>\n",
       "<table border=\"1\" class=\"dataframe\">\n",
       "  <thead>\n",
       "    <tr style=\"text-align: right;\">\n",
       "      <th></th>\n",
       "      <th>index</th>\n",
       "      <th>subreddit</th>\n",
       "      <th>title</th>\n",
       "      <th>post_id</th>\n",
       "      <th>post_author</th>\n",
       "      <th>post_utc</th>\n",
       "      <th>full_link</th>\n",
       "      <th>post_text</th>\n",
       "      <th>post_text_count</th>\n",
       "    </tr>\n",
       "  </thead>\n",
       "  <tbody>\n",
       "    <tr>\n",
       "      <th>0</th>\n",
       "      <td>0</td>\n",
       "      <td>sandiego</td>\n",
       "      <td>going to visit san diego next week  any places...</td>\n",
       "      <td>x4nzh2</td>\n",
       "      <td>Fearmkultra</td>\n",
       "      <td>2022-09-03 06:57:58+00:00</td>\n",
       "      <td>https://www.reddit.com/r/sandiego/comments/x4n...</td>\n",
       "      <td>going to visit san diego next week any places ...</td>\n",
       "      <td>12</td>\n",
       "    </tr>\n",
       "    <tr>\n",
       "      <th>1</th>\n",
       "      <td>1</td>\n",
       "      <td>sandiego</td>\n",
       "      <td>interesting illusion’s</td>\n",
       "      <td>x4ny4c</td>\n",
       "      <td>Break-these-cuffs</td>\n",
       "      <td>2022-09-03 06:55:24+00:00</td>\n",
       "      <td>https://www.reddit.com/r/sandiego/comments/x4n...</td>\n",
       "      <td>interesting illusion’s</td>\n",
       "      <td>2</td>\n",
       "    </tr>\n",
       "    <tr>\n",
       "      <th>2</th>\n",
       "      <td>2</td>\n",
       "      <td>sandiego</td>\n",
       "      <td>whaley house picture of ghost</td>\n",
       "      <td>x4ntm7</td>\n",
       "      <td>Open_Construction_31</td>\n",
       "      <td>2022-09-03 06:47:09+00:00</td>\n",
       "      <td>https://www.reddit.com/r/sandiego/comments/x4n...</td>\n",
       "      <td>whaley house picture of ghost as a kid i saw t...</td>\n",
       "      <td>199</td>\n",
       "    </tr>\n",
       "    <tr>\n",
       "      <th>3</th>\n",
       "      <td>3</td>\n",
       "      <td>sandiego</td>\n",
       "      <td>language exchange</td>\n",
       "      <td>x4n6xv</td>\n",
       "      <td>Poshorock</td>\n",
       "      <td>2022-09-03 06:07:46+00:00</td>\n",
       "      <td>https://www.reddit.com/r/sandiego/comments/x4n...</td>\n",
       "      <td>language exchange is there someone by there wh...</td>\n",
       "      <td>31</td>\n",
       "    </tr>\n",
       "    <tr>\n",
       "      <th>4</th>\n",
       "      <td>4</td>\n",
       "      <td>SanDiegan</td>\n",
       "      <td>chula vista police stopping cars going east on...</td>\n",
       "      <td>x4n5aj</td>\n",
       "      <td>kaptaincorn</td>\n",
       "      <td>2022-09-03 06:04:54+00:00</td>\n",
       "      <td>https://www.reddit.com/r/SanDiegan/comments/x4...</td>\n",
       "      <td>chula vista police stopping cars going east on...</td>\n",
       "      <td>57</td>\n",
       "    </tr>\n",
       "    <tr>\n",
       "      <th>...</th>\n",
       "      <td>...</td>\n",
       "      <td>...</td>\n",
       "      <td>...</td>\n",
       "      <td>...</td>\n",
       "      <td>...</td>\n",
       "      <td>...</td>\n",
       "      <td>...</td>\n",
       "      <td>...</td>\n",
       "      <td>...</td>\n",
       "    </tr>\n",
       "    <tr>\n",
       "      <th>22673</th>\n",
       "      <td>22673</td>\n",
       "      <td>UCSD</td>\n",
       "      <td>graduate students needed for a quick 5 min survey</td>\n",
       "      <td>uggnor</td>\n",
       "      <td>Yall-re-nt</td>\n",
       "      <td>2022-05-02 03:35:17+00:00</td>\n",
       "      <td>https://www.reddit.com/r/UCSD/comments/uggnor/...</td>\n",
       "      <td>graduate students needed for a quick 5 min sur...</td>\n",
       "      <td>98</td>\n",
       "    </tr>\n",
       "    <tr>\n",
       "      <th>22674</th>\n",
       "      <td>22674</td>\n",
       "      <td>UCSD</td>\n",
       "      <td>any keshi fans want to help me with his sun go...</td>\n",
       "      <td>uggkev</td>\n",
       "      <td>-fflux</td>\n",
       "      <td>2022-05-02 03:29:40+00:00</td>\n",
       "      <td>https://www.reddit.com/r/UCSD/comments/uggkev/...</td>\n",
       "      <td>any keshi fans want to help me with his sun go...</td>\n",
       "      <td>88</td>\n",
       "    </tr>\n",
       "    <tr>\n",
       "      <th>22675</th>\n",
       "      <td>22675</td>\n",
       "      <td>sandiego</td>\n",
       "      <td>are there any abandoned buildings in san diego</td>\n",
       "      <td>uggkci</td>\n",
       "      <td>ForceInternational50</td>\n",
       "      <td>2022-05-02 03:29:33+00:00</td>\n",
       "      <td>https://www.reddit.com/r/sandiego/comments/ugg...</td>\n",
       "      <td>are there any abandoned buildings in san diego...</td>\n",
       "      <td>71</td>\n",
       "    </tr>\n",
       "    <tr>\n",
       "      <th>22676</th>\n",
       "      <td>22676</td>\n",
       "      <td>sandiego</td>\n",
       "      <td>cherimoya  anyone seen them in stores</td>\n",
       "      <td>uggixq</td>\n",
       "      <td>Canary-Admirable</td>\n",
       "      <td>2022-05-02 03:26:56+00:00</td>\n",
       "      <td>https://www.reddit.com/r/sandiego/comments/ugg...</td>\n",
       "      <td>cherimoya anyone seen them in stores any asian...</td>\n",
       "      <td>14</td>\n",
       "    </tr>\n",
       "    <tr>\n",
       "      <th>22677</th>\n",
       "      <td>22677</td>\n",
       "      <td>sandiego</td>\n",
       "      <td>imagine restaurants that stay open when they s...</td>\n",
       "      <td>ugg91t</td>\n",
       "      <td>Hue_Jaynuhs</td>\n",
       "      <td>2022-05-02 03:09:58+00:00</td>\n",
       "      <td>https://www.reddit.com/r/sandiego/comments/ugg...</td>\n",
       "      <td>imagine restaurants that stay open when they s...</td>\n",
       "      <td>114</td>\n",
       "    </tr>\n",
       "  </tbody>\n",
       "</table>\n",
       "<p>22678 rows × 9 columns</p>\n",
       "</div>"
      ],
      "text/plain": [
       "       index  subreddit                                              title  \\\n",
       "0          0   sandiego  going to visit san diego next week  any places...   \n",
       "1          1   sandiego                             interesting illusion’s   \n",
       "2          2   sandiego                      whaley house picture of ghost   \n",
       "3          3   sandiego                                  language exchange   \n",
       "4          4  SanDiegan  chula vista police stopping cars going east on...   \n",
       "...      ...        ...                                                ...   \n",
       "22673  22673       UCSD  graduate students needed for a quick 5 min survey   \n",
       "22674  22674       UCSD  any keshi fans want to help me with his sun go...   \n",
       "22675  22675   sandiego     are there any abandoned buildings in san diego   \n",
       "22676  22676   sandiego              cherimoya  anyone seen them in stores   \n",
       "22677  22677   sandiego  imagine restaurants that stay open when they s...   \n",
       "\n",
       "      post_id           post_author                   post_utc  \\\n",
       "0      x4nzh2           Fearmkultra  2022-09-03 06:57:58+00:00   \n",
       "1      x4ny4c     Break-these-cuffs  2022-09-03 06:55:24+00:00   \n",
       "2      x4ntm7  Open_Construction_31  2022-09-03 06:47:09+00:00   \n",
       "3      x4n6xv             Poshorock  2022-09-03 06:07:46+00:00   \n",
       "4      x4n5aj           kaptaincorn  2022-09-03 06:04:54+00:00   \n",
       "...       ...                   ...                        ...   \n",
       "22673  uggnor            Yall-re-nt  2022-05-02 03:35:17+00:00   \n",
       "22674  uggkev                -fflux  2022-05-02 03:29:40+00:00   \n",
       "22675  uggkci  ForceInternational50  2022-05-02 03:29:33+00:00   \n",
       "22676  uggixq      Canary-Admirable  2022-05-02 03:26:56+00:00   \n",
       "22677  ugg91t           Hue_Jaynuhs  2022-05-02 03:09:58+00:00   \n",
       "\n",
       "                                               full_link  \\\n",
       "0      https://www.reddit.com/r/sandiego/comments/x4n...   \n",
       "1      https://www.reddit.com/r/sandiego/comments/x4n...   \n",
       "2      https://www.reddit.com/r/sandiego/comments/x4n...   \n",
       "3      https://www.reddit.com/r/sandiego/comments/x4n...   \n",
       "4      https://www.reddit.com/r/SanDiegan/comments/x4...   \n",
       "...                                                  ...   \n",
       "22673  https://www.reddit.com/r/UCSD/comments/uggnor/...   \n",
       "22674  https://www.reddit.com/r/UCSD/comments/uggkev/...   \n",
       "22675  https://www.reddit.com/r/sandiego/comments/ugg...   \n",
       "22676  https://www.reddit.com/r/sandiego/comments/ugg...   \n",
       "22677  https://www.reddit.com/r/sandiego/comments/ugg...   \n",
       "\n",
       "                                               post_text  post_text_count  \n",
       "0      going to visit san diego next week any places ...               12  \n",
       "1                                 interesting illusion’s                2  \n",
       "2      whaley house picture of ghost as a kid i saw t...              199  \n",
       "3      language exchange is there someone by there wh...               31  \n",
       "4      chula vista police stopping cars going east on...               57  \n",
       "...                                                  ...              ...  \n",
       "22673  graduate students needed for a quick 5 min sur...               98  \n",
       "22674  any keshi fans want to help me with his sun go...               88  \n",
       "22675  are there any abandoned buildings in san diego...               71  \n",
       "22676  cherimoya anyone seen them in stores any asian...               14  \n",
       "22677  imagine restaurants that stay open when they s...              114  \n",
       "\n",
       "[22678 rows x 9 columns]"
      ]
     },
     "execution_count": 3,
     "metadata": {},
     "output_type": "execute_result"
    }
   ],
   "source": [
    "is_part_1 = True\n",
    "df = pd.read_csv('../data/processed_reddit_data/cleaned_reddit_12-21_to_1115.csv')\n",
    "#df.drop(columns=['Unnamed: 0', 'level_0', 'index'], inplace=True)\n",
    "df.reset_index(inplace = True)\n",
    "midpoint = round(df.shape[0] / 2)\n",
    "if is_part_1:\n",
    "    df = df.iloc[:midpoint]\n",
    "else:\n",
    "    df = df.iloc[midpoint:]\n",
    "col = 'post_text'\n",
    "df"
   ]
  },
  {
   "cell_type": "code",
   "execution_count": 4,
   "id": "32473395",
   "metadata": {},
   "outputs": [],
   "source": [
    "df[col].fillna('', inplace = True)\n",
    "df[col] = df[col].astype('str')"
   ]
  },
  {
   "cell_type": "markdown",
   "id": "e4461116",
   "metadata": {},
   "source": [
    "Import the agreed upon crime and neighborhood corpi"
   ]
  },
  {
   "cell_type": "code",
   "execution_count": 5,
   "id": "05b7e580",
   "metadata": {},
   "outputs": [],
   "source": [
    "crime_corpus = pd.read_csv('../data/crime_corpus.csv')\n",
    "crime_corpus['crime'].astype('str')\n",
    "crime_corpus['crime'] = crime_corpus['crime'].apply(lambda x: x.strip())\n",
    "crime_corpus.drop_duplicates(inplace = True)\n",
    "crime_corpus.reset_index(drop = True, inplace = True)\n",
    "crime_corpus.reset_index(inplace = True)\n",
    "\n",
    "neighborhood_corpus = pd.read_csv('../data/neighborhood_corpus.csv')\n",
    "neighborhood_corpus['neighborhood'].astype('str')\n",
    "neighborhood_corpus['neighborhood'] = neighborhood_corpus['neighborhood'].apply(lambda x: x.strip())\n",
    "neighborhood_corpus.reset_index(inplace = True)\n",
    "neighborhood_corpus.drop_duplicates(inplace = True)"
   ]
  },
  {
   "cell_type": "markdown",
   "id": "1e4a0f5f",
   "metadata": {},
   "source": [
    "Initialize the vectorizer for each corpus and fit the vocab."
   ]
  },
  {
   "cell_type": "code",
   "execution_count": 6,
   "id": "6f27e2df",
   "metadata": {},
   "outputs": [],
   "source": [
    "crime_vectorizer = CountVectorizer(vocabulary = crime_corpus['crime'])\n",
    "neighborhood_vectorizer = CountVectorizer(vocabulary = neighborhood_corpus['neighborhood'])"
   ]
  },
  {
   "cell_type": "code",
   "execution_count": 7,
   "id": "62b112da",
   "metadata": {},
   "outputs": [
    {
     "name": "stdout",
     "output_type": "stream",
     "text": [
      "['reckless driving' 'stolen vehicle log' 'ambulance call overdose'\n",
      " 'abandoned refrigerator' 'calling for help' 'adw cost recovery'\n",
      " 'stayout of area no radio trans' 'receive sell stolen prop' 'adw'\n",
      " 'officer needs help']\n",
      "['clairemont mesa east' 'clairemont mesa west' 'bay ho' 'north clairemont'\n",
      " 'university city' 'bay park' 'mission beach' 'pacific beach'\n",
      " 'mission bay park' 'la jolla']\n"
     ]
    }
   ],
   "source": [
    "print(crime_vectorizer.get_feature_names_out()[0:10])\n",
    "print(neighborhood_vectorizer.get_feature_names_out()[0:10])"
   ]
  },
  {
   "cell_type": "markdown",
   "id": "32fc9b19",
   "metadata": {},
   "source": [
    "Find exact matching by using the transform method."
   ]
  },
  {
   "cell_type": "code",
   "execution_count": 8,
   "id": "d237f5e3",
   "metadata": {},
   "outputs": [
    {
     "name": "stdout",
     "output_type": "stream",
     "text": [
      "CPU times: total: 3.52 s\n",
      "Wall time: 3.78 s\n"
     ]
    }
   ],
   "source": [
    "%%time\n",
    "crime_vectorizer_matches = crime_vectorizer.transform(df[col])\n",
    "neighborhood_vectorizer_matches = neighborhood_vectorizer.transform(df[col])"
   ]
  },
  {
   "cell_type": "markdown",
   "id": "f2a40e68",
   "metadata": {},
   "source": [
    "Check the shape of the matches matrix to make sure it has the right dimensions."
   ]
  },
  {
   "cell_type": "code",
   "execution_count": 9,
   "id": "67e6702c",
   "metadata": {},
   "outputs": [
    {
     "name": "stdout",
     "output_type": "stream",
     "text": [
      "(22678, 712)\n",
      "22678 712\n",
      "(22678, 402)\n",
      "22678 402\n"
     ]
    }
   ],
   "source": [
    "print(crime_vectorizer_matches.shape)\n",
    "print(df.shape[0], len(crime_corpus['crime']))\n",
    "\n",
    "print(neighborhood_vectorizer_matches.shape)\n",
    "print(df.shape[0], len(neighborhood_corpus['neighborhood']))"
   ]
  },
  {
   "cell_type": "markdown",
   "id": "a9e154ee",
   "metadata": {},
   "source": [
    "Get the indices for the exact matches as a pandas dataframe"
   ]
  },
  {
   "cell_type": "code",
   "execution_count": 10,
   "id": "6e658107",
   "metadata": {},
   "outputs": [
    {
     "data": {
      "text/html": [
       "<div>\n",
       "<style scoped>\n",
       "    .dataframe tbody tr th:only-of-type {\n",
       "        vertical-align: middle;\n",
       "    }\n",
       "\n",
       "    .dataframe tbody tr th {\n",
       "        vertical-align: top;\n",
       "    }\n",
       "\n",
       "    .dataframe thead th {\n",
       "        text-align: right;\n",
       "    }\n",
       "</style>\n",
       "<table border=\"1\" class=\"dataframe\">\n",
       "  <thead>\n",
       "    <tr style=\"text-align: right;\">\n",
       "      <th></th>\n",
       "      <th>dfindex</th>\n",
       "      <th>crimeindex</th>\n",
       "    </tr>\n",
       "  </thead>\n",
       "  <tbody>\n",
       "    <tr>\n",
       "      <th>0</th>\n",
       "      <td>2</td>\n",
       "      <td>674</td>\n",
       "    </tr>\n",
       "    <tr>\n",
       "      <th>1</th>\n",
       "      <td>4</td>\n",
       "      <td>171</td>\n",
       "    </tr>\n",
       "    <tr>\n",
       "      <th>2</th>\n",
       "      <td>4</td>\n",
       "      <td>307</td>\n",
       "    </tr>\n",
       "    <tr>\n",
       "      <th>3</th>\n",
       "      <td>4</td>\n",
       "      <td>367</td>\n",
       "    </tr>\n",
       "    <tr>\n",
       "      <th>4</th>\n",
       "      <td>4</td>\n",
       "      <td>672</td>\n",
       "    </tr>\n",
       "    <tr>\n",
       "      <th>...</th>\n",
       "      <td>...</td>\n",
       "      <td>...</td>\n",
       "    </tr>\n",
       "    <tr>\n",
       "      <th>17399</th>\n",
       "      <td>22672</td>\n",
       "      <td>409</td>\n",
       "    </tr>\n",
       "    <tr>\n",
       "      <th>17400</th>\n",
       "      <td>22672</td>\n",
       "      <td>421</td>\n",
       "    </tr>\n",
       "    <tr>\n",
       "      <th>17401</th>\n",
       "      <td>22672</td>\n",
       "      <td>453</td>\n",
       "    </tr>\n",
       "    <tr>\n",
       "      <th>17402</th>\n",
       "      <td>22677</td>\n",
       "      <td>332</td>\n",
       "    </tr>\n",
       "    <tr>\n",
       "      <th>17403</th>\n",
       "      <td>22677</td>\n",
       "      <td>339</td>\n",
       "    </tr>\n",
       "  </tbody>\n",
       "</table>\n",
       "<p>17404 rows × 2 columns</p>\n",
       "</div>"
      ],
      "text/plain": [
       "       dfindex  crimeindex\n",
       "0            2         674\n",
       "1            4         171\n",
       "2            4         307\n",
       "3            4         367\n",
       "4            4         672\n",
       "...        ...         ...\n",
       "17399    22672         409\n",
       "17400    22672         421\n",
       "17401    22672         453\n",
       "17402    22677         332\n",
       "17403    22677         339\n",
       "\n",
       "[17404 rows x 2 columns]"
      ]
     },
     "execution_count": 10,
     "metadata": {},
     "output_type": "execute_result"
    }
   ],
   "source": [
    "crime_exact_matches_df = pd.DataFrame({'dfindex': crime_vectorizer_matches.nonzero()[0], \n",
    "                                      'crimeindex': crime_vectorizer_matches.nonzero()[1]})\n",
    "neighborhood_exact_matches_df = pd.DataFrame({'dfindex': neighborhood_vectorizer_matches.nonzero()[0], \n",
    "                                      'neighborhoodindex': neighborhood_vectorizer_matches.nonzero()[1]})\n",
    "crime_exact_matches_df"
   ]
  },
  {
   "cell_type": "code",
   "execution_count": 11,
   "id": "5827ffcc-c614-4ae1-b4ff-7120946019fd",
   "metadata": {},
   "outputs": [
    {
     "data": {
      "text/html": [
       "<div>\n",
       "<style scoped>\n",
       "    .dataframe tbody tr th:only-of-type {\n",
       "        vertical-align: middle;\n",
       "    }\n",
       "\n",
       "    .dataframe tbody tr th {\n",
       "        vertical-align: top;\n",
       "    }\n",
       "\n",
       "    .dataframe thead th {\n",
       "        text-align: right;\n",
       "    }\n",
       "</style>\n",
       "<table border=\"1\" class=\"dataframe\">\n",
       "  <thead>\n",
       "    <tr style=\"text-align: right;\">\n",
       "      <th></th>\n",
       "      <th>dfindex</th>\n",
       "      <th>neighborhoodindex</th>\n",
       "    </tr>\n",
       "  </thead>\n",
       "  <tbody>\n",
       "    <tr>\n",
       "      <th>0</th>\n",
       "      <td>9</td>\n",
       "      <td>61</td>\n",
       "    </tr>\n",
       "    <tr>\n",
       "      <th>1</th>\n",
       "      <td>13</td>\n",
       "      <td>356</td>\n",
       "    </tr>\n",
       "    <tr>\n",
       "      <th>2</th>\n",
       "      <td>21</td>\n",
       "      <td>39</td>\n",
       "    </tr>\n",
       "    <tr>\n",
       "      <th>3</th>\n",
       "      <td>33</td>\n",
       "      <td>356</td>\n",
       "    </tr>\n",
       "    <tr>\n",
       "      <th>4</th>\n",
       "      <td>64</td>\n",
       "      <td>89</td>\n",
       "    </tr>\n",
       "    <tr>\n",
       "      <th>...</th>\n",
       "      <td>...</td>\n",
       "      <td>...</td>\n",
       "    </tr>\n",
       "    <tr>\n",
       "      <th>1376</th>\n",
       "      <td>22558</td>\n",
       "      <td>303</td>\n",
       "    </tr>\n",
       "    <tr>\n",
       "      <th>1377</th>\n",
       "      <td>22568</td>\n",
       "      <td>18</td>\n",
       "    </tr>\n",
       "    <tr>\n",
       "      <th>1378</th>\n",
       "      <td>22613</td>\n",
       "      <td>18</td>\n",
       "    </tr>\n",
       "    <tr>\n",
       "      <th>1379</th>\n",
       "      <td>22629</td>\n",
       "      <td>356</td>\n",
       "    </tr>\n",
       "    <tr>\n",
       "      <th>1380</th>\n",
       "      <td>22635</td>\n",
       "      <td>99</td>\n",
       "    </tr>\n",
       "  </tbody>\n",
       "</table>\n",
       "<p>1381 rows × 2 columns</p>\n",
       "</div>"
      ],
      "text/plain": [
       "      dfindex  neighborhoodindex\n",
       "0           9                 61\n",
       "1          13                356\n",
       "2          21                 39\n",
       "3          33                356\n",
       "4          64                 89\n",
       "...       ...                ...\n",
       "1376    22558                303\n",
       "1377    22568                 18\n",
       "1378    22613                 18\n",
       "1379    22629                356\n",
       "1380    22635                 99\n",
       "\n",
       "[1381 rows x 2 columns]"
      ]
     },
     "execution_count": 11,
     "metadata": {},
     "output_type": "execute_result"
    }
   ],
   "source": [
    "neighborhood_exact_matches_df"
   ]
  },
  {
   "cell_type": "markdown",
   "id": "4e4a8289-15b5-40aa-9317-577cd3dc4caf",
   "metadata": {},
   "source": [
    "Merge the exact matches with the original corpi, then collapse into a list"
   ]
  },
  {
   "cell_type": "code",
   "execution_count": 12,
   "id": "6d62afb6-bd9a-4d47-aee6-572ef0106db4",
   "metadata": {},
   "outputs": [
    {
     "data": {
      "text/html": [
       "<div>\n",
       "<style scoped>\n",
       "    .dataframe tbody tr th:only-of-type {\n",
       "        vertical-align: middle;\n",
       "    }\n",
       "\n",
       "    .dataframe tbody tr th {\n",
       "        vertical-align: top;\n",
       "    }\n",
       "\n",
       "    .dataframe thead th {\n",
       "        text-align: right;\n",
       "    }\n",
       "</style>\n",
       "<table border=\"1\" class=\"dataframe\">\n",
       "  <thead>\n",
       "    <tr style=\"text-align: right;\">\n",
       "      <th></th>\n",
       "      <th>dfindex</th>\n",
       "      <th>crime</th>\n",
       "    </tr>\n",
       "  </thead>\n",
       "  <tbody>\n",
       "    <tr>\n",
       "      <th>0</th>\n",
       "      <td>2</td>\n",
       "      <td>[child]</td>\n",
       "    </tr>\n",
       "    <tr>\n",
       "      <th>1</th>\n",
       "      <td>4</td>\n",
       "      <td>[police, shooting, street, investigations]</td>\n",
       "    </tr>\n",
       "    <tr>\n",
       "      <th>2</th>\n",
       "      <td>5</td>\n",
       "      <td>[street, traffic, poor, culture, buy]</td>\n",
       "    </tr>\n",
       "    <tr>\n",
       "      <th>3</th>\n",
       "      <td>6</td>\n",
       "      <td>[abuse, business]</td>\n",
       "    </tr>\n",
       "    <tr>\n",
       "      <th>4</th>\n",
       "      <td>11</td>\n",
       "      <td>[scam, evidence, mistake, money, security, wro...</td>\n",
       "    </tr>\n",
       "    <tr>\n",
       "      <th>...</th>\n",
       "      <td>...</td>\n",
       "      <td>...</td>\n",
       "    </tr>\n",
       "    <tr>\n",
       "      <th>7875</th>\n",
       "      <td>22662</td>\n",
       "      <td>[kill]</td>\n",
       "    </tr>\n",
       "    <tr>\n",
       "      <th>7876</th>\n",
       "      <td>22663</td>\n",
       "      <td>[kill]</td>\n",
       "    </tr>\n",
       "    <tr>\n",
       "      <th>7877</th>\n",
       "      <td>22671</td>\n",
       "      <td>[court]</td>\n",
       "    </tr>\n",
       "    <tr>\n",
       "      <th>7878</th>\n",
       "      <td>22672</td>\n",
       "      <td>[buy, money, steal, redeem, nazi]</td>\n",
       "    </tr>\n",
       "    <tr>\n",
       "      <th>7879</th>\n",
       "      <td>22677</td>\n",
       "      <td>[business, money]</td>\n",
       "    </tr>\n",
       "  </tbody>\n",
       "</table>\n",
       "<p>7880 rows × 2 columns</p>\n",
       "</div>"
      ],
      "text/plain": [
       "      dfindex                                              crime\n",
       "0           2                                            [child]\n",
       "1           4         [police, shooting, street, investigations]\n",
       "2           5              [street, traffic, poor, culture, buy]\n",
       "3           6                                  [abuse, business]\n",
       "4          11  [scam, evidence, mistake, money, security, wro...\n",
       "...       ...                                                ...\n",
       "7875    22662                                             [kill]\n",
       "7876    22663                                             [kill]\n",
       "7877    22671                                            [court]\n",
       "7878    22672                  [buy, money, steal, redeem, nazi]\n",
       "7879    22677                                  [business, money]\n",
       "\n",
       "[7880 rows x 2 columns]"
      ]
     },
     "execution_count": 12,
     "metadata": {},
     "output_type": "execute_result"
    }
   ],
   "source": [
    "crime_exact_matches_df = crime_exact_matches_df.merge(crime_corpus, how = 'inner', left_on = 'crimeindex', right_index = True)\n",
    "crime_exact_matches_df = crime_exact_matches_df.groupby(by = 'dfindex', as_index = False).agg({'crime': lambda x: x.tolist()})\n",
    "crime_exact_matches_df"
   ]
  },
  {
   "cell_type": "code",
   "execution_count": 13,
   "id": "73040b38-6600-4c85-940f-79b97790f01b",
   "metadata": {},
   "outputs": [
    {
     "data": {
      "text/html": [
       "<div>\n",
       "<style scoped>\n",
       "    .dataframe tbody tr th:only-of-type {\n",
       "        vertical-align: middle;\n",
       "    }\n",
       "\n",
       "    .dataframe tbody tr th {\n",
       "        vertical-align: top;\n",
       "    }\n",
       "\n",
       "    .dataframe thead th {\n",
       "        text-align: right;\n",
       "    }\n",
       "</style>\n",
       "<table border=\"1\" class=\"dataframe\">\n",
       "  <thead>\n",
       "    <tr style=\"text-align: right;\">\n",
       "      <th></th>\n",
       "      <th>dfindex</th>\n",
       "      <th>neighborhood</th>\n",
       "    </tr>\n",
       "  </thead>\n",
       "  <tbody>\n",
       "    <tr>\n",
       "      <th>0</th>\n",
       "      <td>9</td>\n",
       "      <td>[gaslamp]</td>\n",
       "    </tr>\n",
       "    <tr>\n",
       "      <th>1</th>\n",
       "      <td>13</td>\n",
       "      <td>[downtown]</td>\n",
       "    </tr>\n",
       "    <tr>\n",
       "      <th>2</th>\n",
       "      <td>21</td>\n",
       "      <td>[skyline]</td>\n",
       "    </tr>\n",
       "    <tr>\n",
       "      <th>3</th>\n",
       "      <td>33</td>\n",
       "      <td>[downtown]</td>\n",
       "    </tr>\n",
       "    <tr>\n",
       "      <th>4</th>\n",
       "      <td>64</td>\n",
       "      <td>[border]</td>\n",
       "    </tr>\n",
       "    <tr>\n",
       "      <th>...</th>\n",
       "      <td>...</td>\n",
       "      <td>...</td>\n",
       "    </tr>\n",
       "    <tr>\n",
       "      <th>1240</th>\n",
       "      <td>22558</td>\n",
       "      <td>[spectrum]</td>\n",
       "    </tr>\n",
       "    <tr>\n",
       "      <th>1241</th>\n",
       "      <td>22568</td>\n",
       "      <td>[miramar]</td>\n",
       "    </tr>\n",
       "    <tr>\n",
       "      <th>1242</th>\n",
       "      <td>22613</td>\n",
       "      <td>[miramar]</td>\n",
       "    </tr>\n",
       "    <tr>\n",
       "      <th>1243</th>\n",
       "      <td>22629</td>\n",
       "      <td>[downtown]</td>\n",
       "    </tr>\n",
       "    <tr>\n",
       "      <th>1244</th>\n",
       "      <td>22635</td>\n",
       "      <td>[rolando]</td>\n",
       "    </tr>\n",
       "  </tbody>\n",
       "</table>\n",
       "<p>1245 rows × 2 columns</p>\n",
       "</div>"
      ],
      "text/plain": [
       "      dfindex neighborhood\n",
       "0           9    [gaslamp]\n",
       "1          13   [downtown]\n",
       "2          21    [skyline]\n",
       "3          33   [downtown]\n",
       "4          64     [border]\n",
       "...       ...          ...\n",
       "1240    22558   [spectrum]\n",
       "1241    22568    [miramar]\n",
       "1242    22613    [miramar]\n",
       "1243    22629   [downtown]\n",
       "1244    22635    [rolando]\n",
       "\n",
       "[1245 rows x 2 columns]"
      ]
     },
     "execution_count": 13,
     "metadata": {},
     "output_type": "execute_result"
    }
   ],
   "source": [
    "neighborhood_exact_matches_df = neighborhood_exact_matches_df.merge(neighborhood_corpus, how = 'inner', \n",
    "                                                                    left_on = 'neighborhoodindex', \n",
    "                                                                    right_index = True)\n",
    "neighborhood_exact_matches_df = neighborhood_exact_matches_df.groupby(by = 'dfindex', \n",
    "                                                                      as_index = False).agg({'neighborhood': lambda x: x.tolist()})\n",
    "neighborhood_exact_matches_df"
   ]
  },
  {
   "cell_type": "markdown",
   "id": "9a1e6b3b-7212-4afd-b223-68ee3ab67d6c",
   "metadata": {},
   "source": [
    "Get records that did not have exact matches to be used for partial matching"
   ]
  },
  {
   "cell_type": "code",
   "execution_count": 14,
   "id": "9af9d946-8045-4e08-9495-9f56a4cb0c57",
   "metadata": {},
   "outputs": [
    {
     "name": "stdout",
     "output_type": "stream",
     "text": [
      "(14798, 9)\n",
      "(21433, 9)\n"
     ]
    }
   ],
   "source": [
    "crime_partial_matches_df = df[~df['index'].isin(crime_exact_matches_df.index)].copy(deep = True)\n",
    "print(crime_partial_matches_df.shape)\n",
    "neighborhood_partial_matches_df = df[~df['index'].isin(neighborhood_exact_matches_df.index)].copy(deep = True)\n",
    "print(neighborhood_partial_matches_df.shape)"
   ]
  },
  {
   "cell_type": "markdown",
   "id": "633c6e25-3481-4853-ac8a-bb04b147558b",
   "metadata": {},
   "source": [
    "Set up the n-gram tokenizer"
   ]
  },
  {
   "cell_type": "code",
   "execution_count": 15,
   "id": "5960d04c-52fc-4a45-88d4-e641ed46d56f",
   "metadata": {},
   "outputs": [
    {
     "data": {
      "text/plain": [
       "['hello', 'world', 'this', 'is', 'our', 'project']"
      ]
     },
     "execution_count": 15,
     "metadata": {},
     "output_type": "execute_result"
    }
   ],
   "source": [
    "al_tok = sm.AlphabeticTokenizer()\n",
    "\n",
    "al_tok.tokenize('hello! world?this is: our2 project*')"
   ]
  },
  {
   "cell_type": "code",
   "execution_count": 16,
   "id": "d0fd4d1c-6e77-4b68-a996-9f91439c8308",
   "metadata": {},
   "outputs": [],
   "source": [
    "def ngram_tokenize(txt, min_len = 1, max_len = 4):\n",
    "    alph_toks = al_tok.tokenize(txt)\n",
    "    tokens = []\n",
    "    for i in range(min_len, max_len + 1):\n",
    "        tokens += [' '.join(gram) for gram in list(ngrams(alph_toks, i))]\n",
    "    return tokens"
   ]
  },
  {
   "cell_type": "code",
   "execution_count": 17,
   "id": "b1205894-b801-4450-aa79-614ddb8db9a4",
   "metadata": {},
   "outputs": [
    {
     "data": {
      "text/plain": [
       "['hello',\n",
       " 'world',\n",
       " 'this',\n",
       " 'is',\n",
       " 'our',\n",
       " 'project',\n",
       " 'hello world',\n",
       " 'world this',\n",
       " 'this is',\n",
       " 'is our',\n",
       " 'our project',\n",
       " 'hello world this',\n",
       " 'world this is',\n",
       " 'this is our',\n",
       " 'is our project',\n",
       " 'hello world this is',\n",
       " 'world this is our',\n",
       " 'this is our project']"
      ]
     },
     "execution_count": 17,
     "metadata": {},
     "output_type": "execute_result"
    }
   ],
   "source": [
    "ngram_tokenize('hello! world?this is: our2 project*')"
   ]
  },
  {
   "cell_type": "markdown",
   "id": "795bbf6c-6457-412c-99f9-b922c1493ab2",
   "metadata": {},
   "source": [
    "Create a tokenized column for records that did not have exact matches."
   ]
  },
  {
   "cell_type": "code",
   "execution_count": 18,
   "id": "03ef2d87-34f1-47a9-92f3-f44eceb83b3a",
   "metadata": {},
   "outputs": [],
   "source": [
    "crime_partial_matches_df[col+'_tok'] = crime_partial_matches_df[col].apply(lambda x: ngram_tokenize(x))\n",
    "neighborhood_partial_matches_df[col+'_tok'] = neighborhood_partial_matches_df[col].apply(lambda x: ngram_tokenize(x))"
   ]
  },
  {
   "cell_type": "code",
   "execution_count": 19,
   "id": "a3899887-8f6c-4a28-8048-71b149fb55af",
   "metadata": {},
   "outputs": [
    {
     "data": {
      "text/plain": [
       "2704    [hey, everyone, i, just, need, some, help, fig...\n",
       "2705    [as, long, as, we, buy, from, reputable, store...\n",
       "2706    [more, self, inflicted, stupidity, from, our, ...\n",
       "2707    [be, careful, of, this, guy, with, two, pitbul...\n",
       "2708    [hi, does, anyone, know, what, s, going, on, i...\n",
       "Name: post_text_tok, dtype: object"
      ]
     },
     "execution_count": 19,
     "metadata": {},
     "output_type": "execute_result"
    }
   ],
   "source": [
    "crime_partial_matches_df[col+'_tok'].head()"
   ]
  },
  {
   "cell_type": "code",
   "execution_count": 20,
   "id": "61749ca4-de8f-49c5-adb7-588e13607b59",
   "metadata": {},
   "outputs": [
    {
     "data": {
      "text/plain": [
       "794    [porch, pirate, right, before, pm, still, dayl...\n",
       "795    [was, at, balboa, park, with, my, son, i, usua...\n",
       "796    [last, night, someone, came, into, my, yard, t...\n",
       "797    [dead, cats, i, ve, lost, cats, now, in, the, ...\n",
       "798    [looking, for, doggie, foster, home, my, best,...\n",
       "Name: post_text_tok, dtype: object"
      ]
     },
     "execution_count": 20,
     "metadata": {},
     "output_type": "execute_result"
    }
   ],
   "source": [
    "neighborhood_partial_matches_df[col+'_tok'].head()"
   ]
  },
  {
   "cell_type": "markdown",
   "id": "761ecec6-67a3-4f1d-9464-b04632f6ed2a",
   "metadata": {
    "tags": []
   },
   "source": [
    "Estabilish similarity measures and matching function."
   ]
  },
  {
   "cell_type": "code",
   "execution_count": 21,
   "id": "bb5593e7-2d4d-4087-8988-3613786fecb8",
   "metadata": {},
   "outputs": [
    {
     "name": "stdout",
     "output_type": "stream",
     "text": [
      "0.8666666746139526\n"
     ]
    }
   ],
   "source": [
    "jaro = sm.Jaro()\n",
    "print(jaro.get_raw_score('the', 'theft'))"
   ]
  },
  {
   "cell_type": "code",
   "execution_count": 22,
   "id": "d180c8d4-6e2b-4251-9182-f403f47808be",
   "metadata": {},
   "outputs": [],
   "source": [
    "def get_partial_matches(toks, corpus, min_score = 0.95):\n",
    "    matches = []\n",
    "    for token in toks:\n",
    "        for corp in corpus:\n",
    "            if (jaro.get_raw_score(token, corp) >= min_score):\n",
    "                matches.append(corp)\n",
    "    matches = list(set(matches))\n",
    "    return matches"
   ]
  },
  {
   "cell_type": "markdown",
   "id": "eceda2d1-b4a6-47c9-aa50-37647336df45",
   "metadata": {},
   "source": [
    "Get the partial matches."
   ]
  },
  {
   "cell_type": "code",
   "execution_count": 23,
   "id": "63d5dc0b-92c4-40e5-84eb-eb128efc5b3e",
   "metadata": {},
   "outputs": [
    {
     "name": "stdout",
     "output_type": "stream",
     "text": [
      "CPU times: total: 23min\n",
      "Wall time: 23min 9s\n"
     ]
    }
   ],
   "source": [
    "%%time\n",
    "crime_partial_matches_df['crime'] = crime_partial_matches_df[col+'_tok'].apply(lambda x: \n",
    "                                                                                            get_partial_matches(x, \n",
    "                                                                                                                crime_corpus['crime'].to_list()))"
   ]
  },
  {
   "cell_type": "code",
   "execution_count": 24,
   "id": "e5423e6d-6e9d-4457-89f7-f45655f479be",
   "metadata": {},
   "outputs": [
    {
     "data": {
      "text/plain": [
       "\"\\n%%time\\nneighborhood_partial_matches_df['neighborhood'] = neighborhood_partial_matches_df[col+'_tok'].apply(lambda x: \\n                                                                                            get_partial_matches(x, \\n                                                                                                                neighborhood_corpus['neighborhood'].to_list()))\\n                                                                                                                \""
      ]
     },
     "execution_count": 24,
     "metadata": {},
     "output_type": "execute_result"
    }
   ],
   "source": [
    "'''\n",
    "%%time\n",
    "neighborhood_partial_matches_df['neighborhood'] = neighborhood_partial_matches_df[col+'_tok'].apply(lambda x: \n",
    "                                                                                            get_partial_matches(x, \n",
    "                                                                                                                neighborhood_corpus['neighborhood'].to_list()))\n",
    "                                                                                                                '''"
   ]
  },
  {
   "cell_type": "markdown",
   "id": "686ddc5a-9660-4e17-868c-2f3e910cdc09",
   "metadata": {},
   "source": [
    "Concatenate the matches"
   ]
  },
  {
   "cell_type": "code",
   "execution_count": 32,
   "id": "3019687c-3059-498a-a7b6-064840851c97",
   "metadata": {},
   "outputs": [],
   "source": [
    "crime_exact_matches_df.rename(columns={\"dfindex\": \"index\"}, inplace = True)"
   ]
  },
  {
   "cell_type": "code",
   "execution_count": 33,
   "id": "76a9d12e-2bd7-45e5-8d88-b188ea6f1fcc",
   "metadata": {},
   "outputs": [],
   "source": [
    "crime_matches = pd.concat([crime_exact_matches_df[['index', 'crime']], \n",
    "                           crime_partial_matches_df[['index', 'crime']]])"
   ]
  },
  {
   "cell_type": "code",
   "execution_count": null,
   "id": "68b4e506-ff2a-45d5-9bd7-5ebc2d50571d",
   "metadata": {},
   "outputs": [],
   "source": [
    "df_crime = df.merge(crime_matches, left_on = 'index', right_on = 'index', how = 'left')"
   ]
  },
  {
   "cell_type": "code",
   "execution_count": null,
   "id": "d2fda22c-0262-4e97-9209-fedc1c2dbdfa",
   "metadata": {},
   "outputs": [],
   "source": []
  }
 ],
 "metadata": {
  "kernelspec": {
   "display_name": "Python 3 (ipykernel)",
   "language": "python",
   "name": "python3"
  },
  "language_info": {
   "codemirror_mode": {
    "name": "ipython",
    "version": 3
   },
   "file_extension": ".py",
   "mimetype": "text/x-python",
   "name": "python",
   "nbconvert_exporter": "python",
   "pygments_lexer": "ipython3",
   "version": "3.9.13"
  }
 },
 "nbformat": 4,
 "nbformat_minor": 5
}

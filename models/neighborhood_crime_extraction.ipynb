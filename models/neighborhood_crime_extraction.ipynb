{
 "cells": [
  {
   "cell_type": "markdown",
   "id": "34d8aa9b",
   "metadata": {},
   "source": [
    "# Using an agreed upon corpus, extract neighborhoods and crimes for a given dataframe\n",
    "The following code will search for and extract matches (exact and partial) of the neighborhood/crime corpi from a given dataframe. The philosophy is:\n",
    "1. Look for exact corpus matches first using CountVectorizer\n",
    "2. For records that had no exact matches, tokenize using ngrams (size 1-4)and try to find high score partial matches"
   ]
  },
  {
   "cell_type": "code",
   "execution_count": 1,
   "id": "1bd0c3d9",
   "metadata": {},
   "outputs": [],
   "source": [
    "import pandas as pd\n",
    "import py_stringmatching as sm\n",
    "import nltk\n",
    "from nltk.util import ngrams\n",
    "\n",
    "from sklearn.feature_extraction.text import CountVectorizer"
   ]
  },
  {
   "cell_type": "markdown",
   "id": "3f22c466",
   "metadata": {},
   "source": [
    "## To use this code, specify the dataframe location and the column to be searched."
   ]
  },
  {
   "cell_type": "code",
   "execution_count": 2,
   "id": "bfd9e382",
   "metadata": {},
   "outputs": [],
   "source": [
    "df = pd.read_csv('../data/cleaned_nd_final_data.csv')\n",
    "df.reset_index(inplace = True)\n",
    "col = 'post_text'"
   ]
  },
  {
   "cell_type": "code",
   "execution_count": 3,
   "id": "61903e13-ca8f-43be-83d6-6de43d6a8d7a",
   "metadata": {},
   "outputs": [
    {
     "data": {
      "text/plain": [
       "1855181"
      ]
     },
     "execution_count": 3,
     "metadata": {},
     "output_type": "execute_result"
    }
   ],
   "source": [
    "df['post_text_count'].sum()"
   ]
  },
  {
   "cell_type": "markdown",
   "id": "77c85d60",
   "metadata": {},
   "source": [
    "Prep the search column by making it string."
   ]
  },
  {
   "cell_type": "code",
   "execution_count": 4,
   "id": "32473395",
   "metadata": {},
   "outputs": [],
   "source": [
    "df[col].fillna('', inplace = True)\n",
    "df[col] = df[col].astype('str')"
   ]
  },
  {
   "cell_type": "markdown",
   "id": "e4461116",
   "metadata": {},
   "source": [
    "Import the agreed upon crime and neighborhood corpi"
   ]
  },
  {
   "cell_type": "code",
   "execution_count": 5,
   "id": "05b7e580",
   "metadata": {},
   "outputs": [],
   "source": [
    "crime_corpus = pd.read_csv('../data/crime_corpus.csv')\n",
    "crime_corpus['crime'].astype('str')\n",
    "crime_corpus['crime'] = crime_corpus['crime'].apply(lambda x: x.strip())\n",
    "crime_corpus.drop_duplicates(inplace = True)\n",
    "crime_corpus.reset_index(drop = True, inplace = True)\n",
    "crime_corpus.reset_index(inplace = True)\n",
    "\n",
    "neighborhood_corpus = pd.read_csv('../data/neighborhood_corpus.csv')\n",
    "neighborhood_corpus['neighborhood'].astype('str')\n",
    "neighborhood_corpus['neighborhood'] = neighborhood_corpus['neighborhood'].apply(lambda x: x.strip())\n",
    "neighborhood_corpus.reset_index(inplace = True)\n",
    "neighborhood_corpus.drop_duplicates(inplace = True)"
   ]
  },
  {
   "cell_type": "markdown",
   "id": "1e4a0f5f",
   "metadata": {},
   "source": [
    "Initialize the vectorizer for each corpus and fit the vocab."
   ]
  },
  {
   "cell_type": "code",
   "execution_count": 6,
   "id": "6f27e2df",
   "metadata": {},
   "outputs": [],
   "source": [
    "crime_vectorizer = CountVectorizer(vocabulary = crime_corpus['crime'])\n",
    "neighborhood_vectorizer = CountVectorizer(vocabulary = neighborhood_corpus['neighborhood'])"
   ]
  },
  {
   "cell_type": "code",
   "execution_count": 7,
   "id": "62b112da",
   "metadata": {},
   "outputs": [
    {
     "name": "stdout",
     "output_type": "stream",
     "text": [
      "['reckless driving' 'stolen vehicle log' 'ambulance call overdose'\n",
      " 'abandoned refrigerator' 'calling for help' 'adw cost recovery'\n",
      " 'stayout of area no radio trans' 'receive sell stolen prop' 'adw'\n",
      " 'officer needs help']\n",
      "['clairemont mesa east' 'clairemont mesa west' 'bay ho' 'north clairemont'\n",
      " 'university city' 'bay park' 'mission beach' 'pacific beach'\n",
      " 'mission bay park' 'la jolla']\n"
     ]
    }
   ],
   "source": [
    "print(crime_vectorizer.get_feature_names_out()[0:10])\n",
    "print(neighborhood_vectorizer.get_feature_names_out()[0:10])"
   ]
  },
  {
   "cell_type": "markdown",
   "id": "32fc9b19",
   "metadata": {},
   "source": [
    "Find exact matching by using the transform method."
   ]
  },
  {
   "cell_type": "code",
   "execution_count": 8,
   "id": "d237f5e3",
   "metadata": {},
   "outputs": [
    {
     "name": "stdout",
     "output_type": "stream",
     "text": [
      "CPU times: total: 3.09 s\n",
      "Wall time: 3.1 s\n"
     ]
    }
   ],
   "source": [
    "%%time\n",
    "crime_vectorizer_matches = crime_vectorizer.transform(df[col])\n",
    "neighborhood_vectorizer_matches = neighborhood_vectorizer.transform(df[col])"
   ]
  },
  {
   "cell_type": "markdown",
   "id": "f2a40e68",
   "metadata": {},
   "source": [
    "Check the shape of the matches matrix to make sure it has the right dimensions."
   ]
  },
  {
   "cell_type": "code",
   "execution_count": 9,
   "id": "67e6702c",
   "metadata": {},
   "outputs": [
    {
     "name": "stdout",
     "output_type": "stream",
     "text": [
      "(2811, 712)\n",
      "2811 712\n",
      "(2811, 402)\n",
      "2811 402\n"
     ]
    }
   ],
   "source": [
    "print(crime_vectorizer_matches.shape)\n",
    "print(df.shape[0], len(crime_corpus['crime']))\n",
    "\n",
    "print(neighborhood_vectorizer_matches.shape)\n",
    "print(df.shape[0], len(neighborhood_corpus['neighborhood']))"
   ]
  },
  {
   "cell_type": "markdown",
   "id": "a9e154ee",
   "metadata": {},
   "source": [
    "Get the indices for the exact matches as a pandas dataframe"
   ]
  },
  {
   "cell_type": "code",
   "execution_count": 10,
   "id": "6e658107",
   "metadata": {},
   "outputs": [
    {
     "data": {
      "text/html": [
       "<div>\n",
       "<style scoped>\n",
       "    .dataframe tbody tr th:only-of-type {\n",
       "        vertical-align: middle;\n",
       "    }\n",
       "\n",
       "    .dataframe tbody tr th {\n",
       "        vertical-align: top;\n",
       "    }\n",
       "\n",
       "    .dataframe thead th {\n",
       "        text-align: right;\n",
       "    }\n",
       "</style>\n",
       "<table border=\"1\" class=\"dataframe\">\n",
       "  <thead>\n",
       "    <tr style=\"text-align: right;\">\n",
       "      <th></th>\n",
       "      <th>dfindex</th>\n",
       "      <th>crimeindex</th>\n",
       "    </tr>\n",
       "  </thead>\n",
       "  <tbody>\n",
       "    <tr>\n",
       "      <th>0</th>\n",
       "      <td>0</td>\n",
       "      <td>171</td>\n",
       "    </tr>\n",
       "    <tr>\n",
       "      <th>1</th>\n",
       "      <td>0</td>\n",
       "      <td>297</td>\n",
       "    </tr>\n",
       "    <tr>\n",
       "      <th>2</th>\n",
       "      <td>0</td>\n",
       "      <td>322</td>\n",
       "    </tr>\n",
       "    <tr>\n",
       "      <th>3</th>\n",
       "      <td>0</td>\n",
       "      <td>350</td>\n",
       "    </tr>\n",
       "    <tr>\n",
       "      <th>4</th>\n",
       "      <td>0</td>\n",
       "      <td>368</td>\n",
       "    </tr>\n",
       "    <tr>\n",
       "      <th>...</th>\n",
       "      <td>...</td>\n",
       "      <td>...</td>\n",
       "    </tr>\n",
       "    <tr>\n",
       "      <th>27822</th>\n",
       "      <td>2807</td>\n",
       "      <td>339</td>\n",
       "    </tr>\n",
       "    <tr>\n",
       "      <th>27823</th>\n",
       "      <td>2809</td>\n",
       "      <td>218</td>\n",
       "    </tr>\n",
       "    <tr>\n",
       "      <th>27824</th>\n",
       "      <td>2809</td>\n",
       "      <td>488</td>\n",
       "    </tr>\n",
       "    <tr>\n",
       "      <th>27825</th>\n",
       "      <td>2810</td>\n",
       "      <td>105</td>\n",
       "    </tr>\n",
       "    <tr>\n",
       "      <th>27826</th>\n",
       "      <td>2810</td>\n",
       "      <td>219</td>\n",
       "    </tr>\n",
       "  </tbody>\n",
       "</table>\n",
       "<p>27827 rows × 2 columns</p>\n",
       "</div>"
      ],
      "text/plain": [
       "       dfindex  crimeindex\n",
       "0            0         171\n",
       "1            0         297\n",
       "2            0         322\n",
       "3            0         350\n",
       "4            0         368\n",
       "...        ...         ...\n",
       "27822     2807         339\n",
       "27823     2809         218\n",
       "27824     2809         488\n",
       "27825     2810         105\n",
       "27826     2810         219\n",
       "\n",
       "[27827 rows x 2 columns]"
      ]
     },
     "execution_count": 10,
     "metadata": {},
     "output_type": "execute_result"
    }
   ],
   "source": [
    "crime_exact_matches_df = pd.DataFrame({'dfindex': crime_vectorizer_matches.nonzero()[0], \n",
    "                                      'crimeindex': crime_vectorizer_matches.nonzero()[1]})\n",
    "neighborhood_exact_matches_df = pd.DataFrame({'dfindex': neighborhood_vectorizer_matches.nonzero()[0], \n",
    "                                      'neighborhoodindex': neighborhood_vectorizer_matches.nonzero()[1]})\n",
    "crime_exact_matches_df"
   ]
  },
  {
   "cell_type": "code",
   "execution_count": 11,
   "id": "5827ffcc-c614-4ae1-b4ff-7120946019fd",
   "metadata": {},
   "outputs": [
    {
     "data": {
      "text/html": [
       "<div>\n",
       "<style scoped>\n",
       "    .dataframe tbody tr th:only-of-type {\n",
       "        vertical-align: middle;\n",
       "    }\n",
       "\n",
       "    .dataframe tbody tr th {\n",
       "        vertical-align: top;\n",
       "    }\n",
       "\n",
       "    .dataframe thead th {\n",
       "        text-align: right;\n",
       "    }\n",
       "</style>\n",
       "<table border=\"1\" class=\"dataframe\">\n",
       "  <thead>\n",
       "    <tr style=\"text-align: right;\">\n",
       "      <th></th>\n",
       "      <th>dfindex</th>\n",
       "      <th>neighborhoodindex</th>\n",
       "    </tr>\n",
       "  </thead>\n",
       "  <tbody>\n",
       "    <tr>\n",
       "      <th>0</th>\n",
       "      <td>1</td>\n",
       "      <td>356</td>\n",
       "    </tr>\n",
       "    <tr>\n",
       "      <th>1</th>\n",
       "      <td>4</td>\n",
       "      <td>111</td>\n",
       "    </tr>\n",
       "    <tr>\n",
       "      <th>2</th>\n",
       "      <td>7</td>\n",
       "      <td>351</td>\n",
       "    </tr>\n",
       "    <tr>\n",
       "      <th>3</th>\n",
       "      <td>8</td>\n",
       "      <td>204</td>\n",
       "    </tr>\n",
       "    <tr>\n",
       "      <th>4</th>\n",
       "      <td>8</td>\n",
       "      <td>277</td>\n",
       "    </tr>\n",
       "    <tr>\n",
       "      <th>...</th>\n",
       "      <td>...</td>\n",
       "      <td>...</td>\n",
       "    </tr>\n",
       "    <tr>\n",
       "      <th>1084</th>\n",
       "      <td>2786</td>\n",
       "      <td>356</td>\n",
       "    </tr>\n",
       "    <tr>\n",
       "      <th>1085</th>\n",
       "      <td>2794</td>\n",
       "      <td>84</td>\n",
       "    </tr>\n",
       "    <tr>\n",
       "      <th>1086</th>\n",
       "      <td>2797</td>\n",
       "      <td>18</td>\n",
       "    </tr>\n",
       "    <tr>\n",
       "      <th>1087</th>\n",
       "      <td>2797</td>\n",
       "      <td>39</td>\n",
       "    </tr>\n",
       "    <tr>\n",
       "      <th>1088</th>\n",
       "      <td>2798</td>\n",
       "      <td>204</td>\n",
       "    </tr>\n",
       "  </tbody>\n",
       "</table>\n",
       "<p>1089 rows × 2 columns</p>\n",
       "</div>"
      ],
      "text/plain": [
       "      dfindex  neighborhoodindex\n",
       "0           1                356\n",
       "1           4                111\n",
       "2           7                351\n",
       "3           8                204\n",
       "4           8                277\n",
       "...       ...                ...\n",
       "1084     2786                356\n",
       "1085     2794                 84\n",
       "1086     2797                 18\n",
       "1087     2797                 39\n",
       "1088     2798                204\n",
       "\n",
       "[1089 rows x 2 columns]"
      ]
     },
     "execution_count": 11,
     "metadata": {},
     "output_type": "execute_result"
    }
   ],
   "source": [
    "neighborhood_exact_matches_df"
   ]
  },
  {
   "cell_type": "markdown",
   "id": "4e4a8289-15b5-40aa-9317-577cd3dc4caf",
   "metadata": {},
   "source": [
    "Merge the exact matches with the original corpi, then collapse into a list"
   ]
  },
  {
   "cell_type": "code",
   "execution_count": 12,
   "id": "6d62afb6-bd9a-4d47-aee6-572ef0106db4",
   "metadata": {},
   "outputs": [
    {
     "data": {
      "text/html": [
       "<div>\n",
       "<style scoped>\n",
       "    .dataframe tbody tr th:only-of-type {\n",
       "        vertical-align: middle;\n",
       "    }\n",
       "\n",
       "    .dataframe tbody tr th {\n",
       "        vertical-align: top;\n",
       "    }\n",
       "\n",
       "    .dataframe thead th {\n",
       "        text-align: right;\n",
       "    }\n",
       "</style>\n",
       "<table border=\"1\" class=\"dataframe\">\n",
       "  <thead>\n",
       "    <tr style=\"text-align: right;\">\n",
       "      <th></th>\n",
       "      <th>dfindex</th>\n",
       "      <th>crime</th>\n",
       "    </tr>\n",
       "  </thead>\n",
       "  <tbody>\n",
       "    <tr>\n",
       "      <th>0</th>\n",
       "      <td>0</td>\n",
       "      <td>[police, violation, investigative, news, killi...</td>\n",
       "    </tr>\n",
       "    <tr>\n",
       "      <th>1</th>\n",
       "      <td>1</td>\n",
       "      <td>[money]</td>\n",
       "    </tr>\n",
       "    <tr>\n",
       "      <th>2</th>\n",
       "      <td>2</td>\n",
       "      <td>[law, government, illegal, homeless, story, cr...</td>\n",
       "    </tr>\n",
       "    <tr>\n",
       "      <th>3</th>\n",
       "      <td>3</td>\n",
       "      <td>[news, domestic]</td>\n",
       "    </tr>\n",
       "    <tr>\n",
       "      <th>4</th>\n",
       "      <td>4</td>\n",
       "      <td>[police, news, laws, money, law, homeless, sta...</td>\n",
       "    </tr>\n",
       "    <tr>\n",
       "      <th>...</th>\n",
       "      <td>...</td>\n",
       "      <td>...</td>\n",
       "    </tr>\n",
       "    <tr>\n",
       "      <th>2699</th>\n",
       "      <td>2805</td>\n",
       "      <td>[police, news, law, illegal, bad, problems, ev...</td>\n",
       "    </tr>\n",
       "    <tr>\n",
       "      <th>2700</th>\n",
       "      <td>2806</td>\n",
       "      <td>[case, security, street, wrong, scam, attempt,...</td>\n",
       "    </tr>\n",
       "    <tr>\n",
       "      <th>2701</th>\n",
       "      <td>2807</td>\n",
       "      <td>[bad, business, scam]</td>\n",
       "    </tr>\n",
       "    <tr>\n",
       "      <th>2702</th>\n",
       "      <td>2809</td>\n",
       "      <td>[illegal, dangerous]</td>\n",
       "    </tr>\n",
       "    <tr>\n",
       "      <th>2703</th>\n",
       "      <td>2810</td>\n",
       "      <td>[homeless, stolen]</td>\n",
       "    </tr>\n",
       "  </tbody>\n",
       "</table>\n",
       "<p>2704 rows × 2 columns</p>\n",
       "</div>"
      ],
      "text/plain": [
       "      dfindex                                              crime\n",
       "0           0  [police, violation, investigative, news, killi...\n",
       "1           1                                            [money]\n",
       "2           2  [law, government, illegal, homeless, story, cr...\n",
       "3           3                                   [news, domestic]\n",
       "4           4  [police, news, laws, money, law, homeless, sta...\n",
       "...       ...                                                ...\n",
       "2699     2805  [police, news, law, illegal, bad, problems, ev...\n",
       "2700     2806  [case, security, street, wrong, scam, attempt,...\n",
       "2701     2807                              [bad, business, scam]\n",
       "2702     2809                               [illegal, dangerous]\n",
       "2703     2810                                 [homeless, stolen]\n",
       "\n",
       "[2704 rows x 2 columns]"
      ]
     },
     "execution_count": 12,
     "metadata": {},
     "output_type": "execute_result"
    }
   ],
   "source": [
    "crime_exact_matches_df = crime_exact_matches_df.merge(crime_corpus, how = 'inner', left_on = 'crimeindex', right_index = True)\n",
    "crime_exact_matches_df = crime_exact_matches_df.groupby(by = 'dfindex', as_index = False).agg({'crime': lambda x: x.tolist()})\n",
    "crime_exact_matches_df"
   ]
  },
  {
   "cell_type": "code",
   "execution_count": 13,
   "id": "73040b38-6600-4c85-940f-79b97790f01b",
   "metadata": {},
   "outputs": [
    {
     "data": {
      "text/html": [
       "<div>\n",
       "<style scoped>\n",
       "    .dataframe tbody tr th:only-of-type {\n",
       "        vertical-align: middle;\n",
       "    }\n",
       "\n",
       "    .dataframe tbody tr th {\n",
       "        vertical-align: top;\n",
       "    }\n",
       "\n",
       "    .dataframe thead th {\n",
       "        text-align: right;\n",
       "    }\n",
       "</style>\n",
       "<table border=\"1\" class=\"dataframe\">\n",
       "  <thead>\n",
       "    <tr style=\"text-align: right;\">\n",
       "      <th></th>\n",
       "      <th>dfindex</th>\n",
       "      <th>neighborhood</th>\n",
       "    </tr>\n",
       "  </thead>\n",
       "  <tbody>\n",
       "    <tr>\n",
       "      <th>0</th>\n",
       "      <td>1</td>\n",
       "      <td>[downtown]</td>\n",
       "    </tr>\n",
       "    <tr>\n",
       "      <th>1</th>\n",
       "      <td>4</td>\n",
       "      <td>[castle]</td>\n",
       "    </tr>\n",
       "    <tr>\n",
       "      <th>2</th>\n",
       "      <td>7</td>\n",
       "      <td>[gateway]</td>\n",
       "    </tr>\n",
       "    <tr>\n",
       "      <th>3</th>\n",
       "      <td>8</td>\n",
       "      <td>[hill, ridgeview]</td>\n",
       "    </tr>\n",
       "    <tr>\n",
       "      <th>4</th>\n",
       "      <td>11</td>\n",
       "      <td>[downtown, hillcrest]</td>\n",
       "    </tr>\n",
       "    <tr>\n",
       "      <th>...</th>\n",
       "      <td>...</td>\n",
       "      <td>...</td>\n",
       "    </tr>\n",
       "    <tr>\n",
       "      <th>789</th>\n",
       "      <td>2784</td>\n",
       "      <td>[kensington]</td>\n",
       "    </tr>\n",
       "    <tr>\n",
       "      <th>790</th>\n",
       "      <td>2786</td>\n",
       "      <td>[downtown, hill]</td>\n",
       "    </tr>\n",
       "    <tr>\n",
       "      <th>791</th>\n",
       "      <td>2794</td>\n",
       "      <td>[hillcrest]</td>\n",
       "    </tr>\n",
       "    <tr>\n",
       "      <th>792</th>\n",
       "      <td>2797</td>\n",
       "      <td>[miramar, skyline]</td>\n",
       "    </tr>\n",
       "    <tr>\n",
       "      <th>793</th>\n",
       "      <td>2798</td>\n",
       "      <td>[hill]</td>\n",
       "    </tr>\n",
       "  </tbody>\n",
       "</table>\n",
       "<p>794 rows × 2 columns</p>\n",
       "</div>"
      ],
      "text/plain": [
       "     dfindex           neighborhood\n",
       "0          1             [downtown]\n",
       "1          4               [castle]\n",
       "2          7              [gateway]\n",
       "3          8      [hill, ridgeview]\n",
       "4         11  [downtown, hillcrest]\n",
       "..       ...                    ...\n",
       "789     2784           [kensington]\n",
       "790     2786       [downtown, hill]\n",
       "791     2794            [hillcrest]\n",
       "792     2797     [miramar, skyline]\n",
       "793     2798                 [hill]\n",
       "\n",
       "[794 rows x 2 columns]"
      ]
     },
     "execution_count": 13,
     "metadata": {},
     "output_type": "execute_result"
    }
   ],
   "source": [
    "neighborhood_exact_matches_df = neighborhood_exact_matches_df.merge(neighborhood_corpus, how = 'inner', \n",
    "                                                                    left_on = 'neighborhoodindex', \n",
    "                                                                    right_index = True)\n",
    "neighborhood_exact_matches_df = neighborhood_exact_matches_df.groupby(by = 'dfindex', \n",
    "                                                                      as_index = False).agg({'neighborhood': lambda x: x.tolist()})\n",
    "neighborhood_exact_matches_df"
   ]
  },
  {
   "cell_type": "markdown",
   "id": "9a1e6b3b-7212-4afd-b223-68ee3ab67d6c",
   "metadata": {},
   "source": [
    "Get records that did not have exact matches to be used for partial matching"
   ]
  },
  {
   "cell_type": "code",
   "execution_count": 14,
   "id": "9af9d946-8045-4e08-9495-9f56a4cb0c57",
   "metadata": {},
   "outputs": [
    {
     "name": "stdout",
     "output_type": "stream",
     "text": [
      "(107, 7)\n",
      "(2017, 7)\n"
     ]
    }
   ],
   "source": [
    "crime_partial_matches_df = df[~df.index.isin(crime_exact_matches_df.index)].copy(deep = True)\n",
    "print(crime_partial_matches_df.shape)\n",
    "neighborhood_partial_matches_df = df[~df.index.isin(neighborhood_exact_matches_df.index)].copy(deep = True)\n",
    "print(neighborhood_partial_matches_df.shape)"
   ]
  },
  {
   "cell_type": "markdown",
   "id": "633c6e25-3481-4853-ac8a-bb04b147558b",
   "metadata": {},
   "source": [
    "Set up the n-gram tokenizer"
   ]
  },
  {
   "cell_type": "code",
   "execution_count": 15,
   "id": "5960d04c-52fc-4a45-88d4-e641ed46d56f",
   "metadata": {},
   "outputs": [
    {
     "data": {
      "text/plain": [
       "['hello', 'world', 'this', 'is', 'our', 'project']"
      ]
     },
     "execution_count": 15,
     "metadata": {},
     "output_type": "execute_result"
    }
   ],
   "source": [
    "al_tok = sm.AlphabeticTokenizer()\n",
    "\n",
    "al_tok.tokenize('hello! world?this is: our2 project*')"
   ]
  },
  {
   "cell_type": "code",
   "execution_count": 16,
   "id": "d0fd4d1c-6e77-4b68-a996-9f91439c8308",
   "metadata": {},
   "outputs": [],
   "source": [
    "def ngram_tokenize(txt, min_len = 1, max_len = 4):\n",
    "    alph_toks = al_tok.tokenize(txt)\n",
    "    tokens = []\n",
    "    for i in range(min_len, max_len + 1):\n",
    "        tokens += [' '.join(gram) for gram in list(ngrams(alph_toks, i))]\n",
    "    return tokens"
   ]
  },
  {
   "cell_type": "code",
   "execution_count": 17,
   "id": "b1205894-b801-4450-aa79-614ddb8db9a4",
   "metadata": {},
   "outputs": [
    {
     "data": {
      "text/plain": [
       "['hello',\n",
       " 'world',\n",
       " 'this',\n",
       " 'is',\n",
       " 'our',\n",
       " 'project',\n",
       " 'hello world',\n",
       " 'world this',\n",
       " 'this is',\n",
       " 'is our',\n",
       " 'our project',\n",
       " 'hello world this',\n",
       " 'world this is',\n",
       " 'this is our',\n",
       " 'is our project',\n",
       " 'hello world this is',\n",
       " 'world this is our',\n",
       " 'this is our project']"
      ]
     },
     "execution_count": 17,
     "metadata": {},
     "output_type": "execute_result"
    }
   ],
   "source": [
    "ngram_tokenize('hello! world?this is: our2 project*')"
   ]
  },
  {
   "cell_type": "markdown",
   "id": "795bbf6c-6457-412c-99f9-b922c1493ab2",
   "metadata": {},
   "source": [
    "Create a tokenized column for records that did not have exact matches."
   ]
  },
  {
   "cell_type": "code",
   "execution_count": 18,
   "id": "03ef2d87-34f1-47a9-92f3-f44eceb83b3a",
   "metadata": {},
   "outputs": [],
   "source": [
    "crime_partial_matches_df[col+'_tok'] = crime_partial_matches_df[col].apply(lambda x: ngram_tokenize(x))\n",
    "neighborhood_partial_matches_df[col+'_tok'] = neighborhood_partial_matches_df[col].apply(lambda x: ngram_tokenize(x))"
   ]
  },
  {
   "cell_type": "code",
   "execution_count": 19,
   "id": "a3899887-8f6c-4a28-8048-71b149fb55af",
   "metadata": {},
   "outputs": [
    {
     "data": {
      "text/plain": [
       "2704    [hey, everyone, i, just, need, some, help, fig...\n",
       "2705    [as, long, as, we, buy, from, reputable, store...\n",
       "2706    [more, self, inflicted, stupidity, from, our, ...\n",
       "2707    [be, careful, of, this, guy, with, two, pitbul...\n",
       "2708    [hi, does, anyone, know, what, s, going, on, i...\n",
       "Name: post_text_tok, dtype: object"
      ]
     },
     "execution_count": 19,
     "metadata": {},
     "output_type": "execute_result"
    }
   ],
   "source": [
    "crime_partial_matches_df[col+'_tok'].head()"
   ]
  },
  {
   "cell_type": "code",
   "execution_count": 20,
   "id": "61749ca4-de8f-49c5-adb7-588e13607b59",
   "metadata": {},
   "outputs": [
    {
     "data": {
      "text/plain": [
       "794    [porch, pirate, right, before, pm, still, dayl...\n",
       "795    [was, at, balboa, park, with, my, son, i, usua...\n",
       "796    [last, night, someone, came, into, my, yard, t...\n",
       "797    [dead, cats, i, ve, lost, cats, now, in, the, ...\n",
       "798    [looking, for, doggie, foster, home, my, best,...\n",
       "Name: post_text_tok, dtype: object"
      ]
     },
     "execution_count": 20,
     "metadata": {},
     "output_type": "execute_result"
    }
   ],
   "source": [
    "neighborhood_partial_matches_df[col+'_tok'].head()"
   ]
  },
  {
   "cell_type": "markdown",
   "id": "761ecec6-67a3-4f1d-9464-b04632f6ed2a",
   "metadata": {
    "tags": []
   },
   "source": [
    "Estabilish similarity measures and matching function."
   ]
  },
  {
   "cell_type": "code",
   "execution_count": 21,
   "id": "bb5593e7-2d4d-4087-8988-3613786fecb8",
   "metadata": {},
   "outputs": [
    {
     "name": "stdout",
     "output_type": "stream",
     "text": [
      "0.8666666746139526\n",
      "0.6666666666666667\n"
     ]
    }
   ],
   "source": [
    "jaro = sm.Jaro()\n",
    "print(jaro.get_raw_score('the', 'theft'))\n",
    "\n",
    "lev = sm.Levenshtein()\n",
    "print(lev.get_sim_score('MARTHA', 'MARHTA'))"
   ]
  },
  {
   "cell_type": "code",
   "execution_count": 38,
   "id": "d180c8d4-6e2b-4251-9182-f403f47808be",
   "metadata": {},
   "outputs": [],
   "source": [
    "def get_partial_matches(toks, corpus, min_score = 0.95):\n",
    "    matches = []\n",
    "    for token in toks:\n",
    "        for corp in corpus:\n",
    "            if (jaro.get_raw_score(token, corp) >= min_score):\n",
    "                matches.append(corp)\n",
    "    matches = list(set(matches))\n",
    "    return matches"
   ]
  },
  {
   "cell_type": "markdown",
   "id": "eceda2d1-b4a6-47c9-aa50-37647336df45",
   "metadata": {},
   "source": [
    "Get the partial matches."
   ]
  },
  {
   "cell_type": "code",
   "execution_count": 93,
   "id": "63d5dc0b-92c4-40e5-84eb-eb128efc5b3e",
   "metadata": {},
   "outputs": [
    {
     "ename": "KeyboardInterrupt",
     "evalue": "",
     "output_type": "error",
     "traceback": [
      "\u001b[1;31m---------------------------------------------------------------------------\u001b[0m",
      "\u001b[1;31mKeyboardInterrupt\u001b[0m                         Traceback (most recent call last)",
      "File \u001b[1;32m<timed exec>:1\u001b[0m\n",
      "File \u001b[1;32m~\\school\\dse203_project\\venv\\lib\\site-packages\\pandas\\core\\series.py:4771\u001b[0m, in \u001b[0;36mSeries.apply\u001b[1;34m(self, func, convert_dtype, args, **kwargs)\u001b[0m\n\u001b[0;32m   4661\u001b[0m \u001b[38;5;28;01mdef\u001b[39;00m \u001b[38;5;21mapply\u001b[39m(\n\u001b[0;32m   4662\u001b[0m     \u001b[38;5;28mself\u001b[39m,\n\u001b[0;32m   4663\u001b[0m     func: AggFuncType,\n\u001b[1;32m   (...)\u001b[0m\n\u001b[0;32m   4666\u001b[0m     \u001b[38;5;241m*\u001b[39m\u001b[38;5;241m*\u001b[39mkwargs,\n\u001b[0;32m   4667\u001b[0m ) \u001b[38;5;241m-\u001b[39m\u001b[38;5;241m>\u001b[39m DataFrame \u001b[38;5;241m|\u001b[39m Series:\n\u001b[0;32m   4668\u001b[0m     \u001b[38;5;124;03m\"\"\"\u001b[39;00m\n\u001b[0;32m   4669\u001b[0m \u001b[38;5;124;03m    Invoke function on values of Series.\u001b[39;00m\n\u001b[0;32m   4670\u001b[0m \n\u001b[1;32m   (...)\u001b[0m\n\u001b[0;32m   4769\u001b[0m \u001b[38;5;124;03m    dtype: float64\u001b[39;00m\n\u001b[0;32m   4770\u001b[0m \u001b[38;5;124;03m    \"\"\"\u001b[39;00m\n\u001b[1;32m-> 4771\u001b[0m     \u001b[38;5;28;01mreturn\u001b[39;00m \u001b[43mSeriesApply\u001b[49m\u001b[43m(\u001b[49m\u001b[38;5;28;43mself\u001b[39;49m\u001b[43m,\u001b[49m\u001b[43m \u001b[49m\u001b[43mfunc\u001b[49m\u001b[43m,\u001b[49m\u001b[43m \u001b[49m\u001b[43mconvert_dtype\u001b[49m\u001b[43m,\u001b[49m\u001b[43m \u001b[49m\u001b[43margs\u001b[49m\u001b[43m,\u001b[49m\u001b[43m \u001b[49m\u001b[43mkwargs\u001b[49m\u001b[43m)\u001b[49m\u001b[38;5;241;43m.\u001b[39;49m\u001b[43mapply\u001b[49m\u001b[43m(\u001b[49m\u001b[43m)\u001b[49m\n",
      "File \u001b[1;32m~\\school\\dse203_project\\venv\\lib\\site-packages\\pandas\\core\\apply.py:1105\u001b[0m, in \u001b[0;36mSeriesApply.apply\u001b[1;34m(self)\u001b[0m\n\u001b[0;32m   1102\u001b[0m     \u001b[38;5;28;01mreturn\u001b[39;00m \u001b[38;5;28mself\u001b[39m\u001b[38;5;241m.\u001b[39mapply_str()\n\u001b[0;32m   1104\u001b[0m \u001b[38;5;66;03m# self.f is Callable\u001b[39;00m\n\u001b[1;32m-> 1105\u001b[0m \u001b[38;5;28;01mreturn\u001b[39;00m \u001b[38;5;28;43mself\u001b[39;49m\u001b[38;5;241;43m.\u001b[39;49m\u001b[43mapply_standard\u001b[49m\u001b[43m(\u001b[49m\u001b[43m)\u001b[49m\n",
      "File \u001b[1;32m~\\school\\dse203_project\\venv\\lib\\site-packages\\pandas\\core\\apply.py:1156\u001b[0m, in \u001b[0;36mSeriesApply.apply_standard\u001b[1;34m(self)\u001b[0m\n\u001b[0;32m   1154\u001b[0m     \u001b[38;5;28;01melse\u001b[39;00m:\n\u001b[0;32m   1155\u001b[0m         values \u001b[38;5;241m=\u001b[39m obj\u001b[38;5;241m.\u001b[39mastype(\u001b[38;5;28mobject\u001b[39m)\u001b[38;5;241m.\u001b[39m_values\n\u001b[1;32m-> 1156\u001b[0m         mapped \u001b[38;5;241m=\u001b[39m \u001b[43mlib\u001b[49m\u001b[38;5;241;43m.\u001b[39;49m\u001b[43mmap_infer\u001b[49m\u001b[43m(\u001b[49m\n\u001b[0;32m   1157\u001b[0m \u001b[43m            \u001b[49m\u001b[43mvalues\u001b[49m\u001b[43m,\u001b[49m\n\u001b[0;32m   1158\u001b[0m \u001b[43m            \u001b[49m\u001b[43mf\u001b[49m\u001b[43m,\u001b[49m\n\u001b[0;32m   1159\u001b[0m \u001b[43m            \u001b[49m\u001b[43mconvert\u001b[49m\u001b[38;5;241;43m=\u001b[39;49m\u001b[38;5;28;43mself\u001b[39;49m\u001b[38;5;241;43m.\u001b[39;49m\u001b[43mconvert_dtype\u001b[49m\u001b[43m,\u001b[49m\n\u001b[0;32m   1160\u001b[0m \u001b[43m        \u001b[49m\u001b[43m)\u001b[49m\n\u001b[0;32m   1162\u001b[0m \u001b[38;5;28;01mif\u001b[39;00m \u001b[38;5;28mlen\u001b[39m(mapped) \u001b[38;5;129;01mand\u001b[39;00m \u001b[38;5;28misinstance\u001b[39m(mapped[\u001b[38;5;241m0\u001b[39m], ABCSeries):\n\u001b[0;32m   1163\u001b[0m     \u001b[38;5;66;03m# GH#43986 Need to do list(mapped) in order to get treated as nested\u001b[39;00m\n\u001b[0;32m   1164\u001b[0m     \u001b[38;5;66;03m#  See also GH#25959 regarding EA support\u001b[39;00m\n\u001b[0;32m   1165\u001b[0m     \u001b[38;5;28;01mreturn\u001b[39;00m obj\u001b[38;5;241m.\u001b[39m_constructor_expanddim(\u001b[38;5;28mlist\u001b[39m(mapped), index\u001b[38;5;241m=\u001b[39mobj\u001b[38;5;241m.\u001b[39mindex)\n",
      "File \u001b[1;32m~\\school\\dse203_project\\venv\\lib\\site-packages\\pandas\\_libs\\lib.pyx:2918\u001b[0m, in \u001b[0;36mpandas._libs.lib.map_infer\u001b[1;34m()\u001b[0m\n",
      "File \u001b[1;32m<timed exec>:2\u001b[0m, in \u001b[0;36m<lambda>\u001b[1;34m(x)\u001b[0m\n",
      "Cell \u001b[1;32mIn[75], line 5\u001b[0m, in \u001b[0;36mget_partial_matches\u001b[1;34m(txt, corpus, min_score)\u001b[0m\n\u001b[0;32m      3\u001b[0m \u001b[38;5;28;01mfor\u001b[39;00m token \u001b[38;5;129;01min\u001b[39;00m txt:\n\u001b[0;32m      4\u001b[0m     \u001b[38;5;28;01mfor\u001b[39;00m corp \u001b[38;5;129;01min\u001b[39;00m corpus:\n\u001b[1;32m----> 5\u001b[0m         \u001b[38;5;28;01mif\u001b[39;00m ((jw\u001b[38;5;241m.\u001b[39mget_raw_score(token, corp) \u001b[38;5;241m>\u001b[39m\u001b[38;5;241m=\u001b[39m min_score) \u001b[38;5;129;01mor\u001b[39;00m (\u001b[43mlev\u001b[49m\u001b[38;5;241;43m.\u001b[39;49m\u001b[43mget_sim_score\u001b[49m\u001b[43m(\u001b[49m\u001b[43mtoken\u001b[49m\u001b[43m,\u001b[49m\u001b[43m \u001b[49m\u001b[43mcorp\u001b[49m\u001b[43m)\u001b[49m \u001b[38;5;241m>\u001b[39m\u001b[38;5;241m=\u001b[39m min_score)):\n\u001b[0;32m      6\u001b[0m             matches\u001b[38;5;241m.\u001b[39mappend(corp)\n\u001b[0;32m      7\u001b[0m matches \u001b[38;5;241m=\u001b[39m \u001b[38;5;28mlist\u001b[39m(\u001b[38;5;28mset\u001b[39m(matches))\n",
      "File \u001b[1;32m~\\school\\dse203_project\\venv\\lib\\site-packages\\py_stringmatching\\similarity_measure\\levenshtein.py:83\u001b[0m, in \u001b[0;36mLevenshtein.get_sim_score\u001b[1;34m(self, string1, string2)\u001b[0m\n\u001b[0;32m     80\u001b[0m string1 \u001b[38;5;241m=\u001b[39m utils\u001b[38;5;241m.\u001b[39mconvert_to_unicode(string1)\n\u001b[0;32m     81\u001b[0m string2 \u001b[38;5;241m=\u001b[39m utils\u001b[38;5;241m.\u001b[39mconvert_to_unicode(string2)\n\u001b[1;32m---> 83\u001b[0m raw_score \u001b[38;5;241m=\u001b[39m \u001b[38;5;28;43mself\u001b[39;49m\u001b[38;5;241;43m.\u001b[39;49m\u001b[43mget_raw_score\u001b[49m\u001b[43m(\u001b[49m\u001b[43mstring1\u001b[49m\u001b[43m,\u001b[49m\u001b[43m \u001b[49m\u001b[43mstring2\u001b[49m\u001b[43m)\u001b[49m\n\u001b[0;32m     84\u001b[0m max_len \u001b[38;5;241m=\u001b[39m \u001b[38;5;28mmax\u001b[39m(\u001b[38;5;28mlen\u001b[39m(string1), \u001b[38;5;28mlen\u001b[39m(string2))\n\u001b[0;32m     85\u001b[0m \u001b[38;5;28;01mif\u001b[39;00m max_len \u001b[38;5;241m==\u001b[39m \u001b[38;5;241m0\u001b[39m:\n",
      "File \u001b[1;32m~\\school\\dse203_project\\venv\\lib\\site-packages\\py_stringmatching\\similarity_measure\\levenshtein.py:54\u001b[0m, in \u001b[0;36mLevenshtein.get_raw_score\u001b[1;34m(self, string1, string2)\u001b[0m\n\u001b[0;32m     51\u001b[0m \u001b[38;5;28;01mif\u001b[39;00m utils\u001b[38;5;241m.\u001b[39msim_check_for_exact_match(string1, string2):\n\u001b[0;32m     52\u001b[0m     \u001b[38;5;28;01mreturn\u001b[39;00m \u001b[38;5;241m0.0\u001b[39m\n\u001b[1;32m---> 54\u001b[0m \u001b[38;5;28;01mreturn\u001b[39;00m \u001b[43mlevenshtein\u001b[49m\u001b[43m(\u001b[49m\u001b[43mstring1\u001b[49m\u001b[43m,\u001b[49m\u001b[43m \u001b[49m\u001b[43mstring2\u001b[49m\u001b[43m)\u001b[49m\n",
      "\u001b[1;31mKeyboardInterrupt\u001b[0m: "
     ]
    }
   ],
   "source": [
    "%%time\n",
    "crime_partial_matches_df['crime'] = crime_partial_matches_df[col+'_tok'].apply(lambda x: \n",
    "                                                                                            get_partial_matches(x, \n",
    "                                                                                                                crime_corpus['crime'].to_list()))"
   ]
  },
  {
   "cell_type": "code",
   "execution_count": 47,
   "id": "e5423e6d-6e9d-4457-89f7-f45655f479be",
   "metadata": {},
   "outputs": [
    {
     "data": {
      "text/plain": [
       "\"\\n%%time\\nneighborhood_partial_matches_df['neighborhood'] = neighborhood_partial_matches_df[col+'_tok'].apply(lambda x: \\n                                                                                            get_partial_matches(x, \\n                                                                                                                neighborhood_corpus['neighborhood'].to_list()))\\n                                                                                                                \""
      ]
     },
     "execution_count": 47,
     "metadata": {},
     "output_type": "execute_result"
    }
   ],
   "source": [
    "'''\n",
    "%%time\n",
    "neighborhood_partial_matches_df['neighborhood'] = neighborhood_partial_matches_df[col+'_tok'].apply(lambda x: \n",
    "                                                                                            get_partial_matches(x, \n",
    "                                                                                                                neighborhood_corpus['neighborhood'].to_list()))\n",
    "                                                                                                                '''"
   ]
  },
  {
   "cell_type": "markdown",
   "id": "686ddc5a-9660-4e17-868c-2f3e910cdc09",
   "metadata": {},
   "source": [
    "Concatenate the matches"
   ]
  },
  {
   "cell_type": "code",
   "execution_count": null,
   "id": "76a9d12e-2bd7-45e5-8d88-b188ea6f1fcc",
   "metadata": {},
   "outputs": [],
   "source": [
    "crime_matches = pd.concat([crime_exact_matches_df[['index', 'crime']], crime_partial_matches_df[['index', 'crime']]"
   ]
  },
  {
   "cell_type": "code",
   "execution_count": null,
   "id": "68b4e506-ff2a-45d5-9bd7-5ebc2d50571d",
   "metadata": {},
   "outputs": [],
   "source": [
    "df_crime = df.merge(crime_matches, left_on = 'index', right_on = 'index', how = 'left')"
   ]
  }
 ],
 "metadata": {
  "kernelspec": {
   "display_name": "Python 3 (ipykernel)",
   "language": "python",
   "name": "python3"
  },
  "language_info": {
   "codemirror_mode": {
    "name": "ipython",
    "version": 3
   },
   "file_extension": ".py",
   "mimetype": "text/x-python",
   "name": "python",
   "nbconvert_exporter": "python",
   "pygments_lexer": "ipython3",
   "version": "3.9.13"
  }
 },
 "nbformat": 4,
 "nbformat_minor": 5
}

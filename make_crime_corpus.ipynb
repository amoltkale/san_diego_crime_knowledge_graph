{
 "cells": [
  {
   "cell_type": "markdown",
   "id": "1a37f901-2e4c-4323-839e-c04945e59589",
   "metadata": {},
   "source": [
    "# Create crime corpus"
   ]
  },
  {
   "cell_type": "code",
   "execution_count": 1,
   "id": "0167cba7-ca3c-4e23-907c-430a6b3afed5",
   "metadata": {},
   "outputs": [],
   "source": [
    "from pathlib import Path \n",
    "\n",
    "import pandas as pd\n",
    "\n",
    "import py_stringmatching as sm\n",
    "\n",
    "from cleaner_lib import remove_puncuations, clean_str_col"
   ]
  },
  {
   "cell_type": "code",
   "execution_count": 2,
   "id": "cba7f49b-9340-4b00-84f1-7d85c33fbcad",
   "metadata": {},
   "outputs": [],
   "source": [
    "# set params\n",
    "create_new = False"
   ]
  },
  {
   "cell_type": "code",
   "execution_count": 3,
   "id": "3783f68b-3ea6-40d3-9110-1e95f738c812",
   "metadata": {},
   "outputs": [],
   "source": [
    "# create whitespace tokenizer\n",
    "ws_tok = sm.WhitespaceTokenizer(return_set=True)"
   ]
  },
  {
   "cell_type": "code",
   "execution_count": 4,
   "id": "ae02e04e-2893-4561-a3b7-a89232193aa6",
   "metadata": {},
   "outputs": [],
   "source": [
    "# paths\n",
    "data_p = Path('./data/')\n",
    "cleaned_p = data_p / 'cleaned'\n",
    "\n",
    "if create_new:\n",
    "    pd_crime_p = data_p / 'annotated_pd_call_types.csv'\n",
    "else:\n",
    "    pd_crime_p = data_p / 'crime_corpus.csv'\n",
    "\n",
    "crime_out_p = data_p / 'crime_corpus.csv'\n",
    "ethnicity_out_p = data_p / 'ethnicity_corpus.csv'\n",
    "neighborhood_p = data_p / 'neighborhood_corpus.csv'"
   ]
  },
  {
   "cell_type": "code",
   "execution_count": 5,
   "id": "ba53965e-b4fc-4ebb-8bfd-03bfd06294d3",
   "metadata": {},
   "outputs": [
    {
     "data": {
      "text/html": [
       "<div>\n",
       "<style scoped>\n",
       "    .dataframe tbody tr th:only-of-type {\n",
       "        vertical-align: middle;\n",
       "    }\n",
       "\n",
       "    .dataframe tbody tr th {\n",
       "        vertical-align: top;\n",
       "    }\n",
       "\n",
       "    .dataframe thead th {\n",
       "        text-align: right;\n",
       "    }\n",
       "</style>\n",
       "<table border=\"1\" class=\"dataframe\">\n",
       "  <thead>\n",
       "    <tr style=\"text-align: right;\">\n",
       "      <th></th>\n",
       "      <th>crime</th>\n",
       "    </tr>\n",
       "  </thead>\n",
       "  <tbody>\n",
       "    <tr>\n",
       "      <th>0</th>\n",
       "      <td>reckless driving</td>\n",
       "    </tr>\n",
       "    <tr>\n",
       "      <th>1</th>\n",
       "      <td>stolen vehicle log</td>\n",
       "    </tr>\n",
       "    <tr>\n",
       "      <th>2</th>\n",
       "      <td>ambulance call overdose</td>\n",
       "    </tr>\n",
       "    <tr>\n",
       "      <th>3</th>\n",
       "      <td>abandoned refrigerator</td>\n",
       "    </tr>\n",
       "    <tr>\n",
       "      <th>4</th>\n",
       "      <td>calling for help</td>\n",
       "    </tr>\n",
       "    <tr>\n",
       "      <th>...</th>\n",
       "      <td>...</td>\n",
       "    </tr>\n",
       "    <tr>\n",
       "      <th>708</th>\n",
       "      <td>beguilt</td>\n",
       "    </tr>\n",
       "    <tr>\n",
       "      <th>709</th>\n",
       "      <td>ernest klein</td>\n",
       "    </tr>\n",
       "    <tr>\n",
       "      <th>710</th>\n",
       "      <td>karl brugmann</td>\n",
       "    </tr>\n",
       "    <tr>\n",
       "      <th>711</th>\n",
       "      <td>libertarianism</td>\n",
       "    </tr>\n",
       "    <tr>\n",
       "      <th>712</th>\n",
       "      <td>photokilling</td>\n",
       "    </tr>\n",
       "  </tbody>\n",
       "</table>\n",
       "<p>713 rows × 1 columns</p>\n",
       "</div>"
      ],
      "text/plain": [
       "                       crime\n",
       "0           reckless driving\n",
       "1         stolen vehicle log\n",
       "2    ambulance call overdose\n",
       "3     abandoned refrigerator\n",
       "4           calling for help\n",
       "..                       ...\n",
       "708                  beguilt\n",
       "709             ernest klein\n",
       "710            karl brugmann\n",
       "711           libertarianism\n",
       "712             photokilling\n",
       "\n",
       "[713 rows x 1 columns]"
      ]
     },
     "execution_count": 5,
     "metadata": {},
     "output_type": "execute_result"
    }
   ],
   "source": [
    "# load in files to build a corpus\n",
    "crime_corpus_df = pd.read_csv(pd_crime_p)\n",
    "crime_corpus_df"
   ]
  },
  {
   "cell_type": "code",
   "execution_count": 6,
   "id": "1a0c5c62-bce8-4ea0-8d8a-824f979ad5b6",
   "metadata": {},
   "outputs": [],
   "source": [
    "# Filter out more misc call types\n",
    "if create_new:\n",
    "    crime_corpus_df = crime_corpus_df.fillna('')\n",
    "    crime_corpus_df = crime_corpus_df.loc[~crime_corpus_df.crime_type.str.contains('exclude')]\n",
    "    \n",
    "    crime_corpus_df[\"description\"] = crime_corpus_df[\"description\"].replace('/', ' ', regex=True)\n",
    "    crime_corpus_df[\"description\"] = crime_corpus_df[\"description\"].replace('-', ' ', regex=True)\n",
    "    crime_corpus_df = clean_str_col(crime_corpus_df, \"description\")\n",
    "    crime_corpus_df[\"description\"] = crime_corpus_df[\"description\"].replace(r'\\d+',' ', regex=True)\n",
    "    crime_corpus_df = remove_puncuations(crime_corpus_df, \"description\")\n",
    "    \n",
    "    other_crimes = [\"stolen\", \"stole\", \"steal\", \"scam\", \"scammed\", \"scamming\", \"murder\", \"murdered\", \"rape\", \"absuse\", \"domestic violence\",\n",
    "               \"larceny\", \"embezzeled\", \"robber\"]\n",
    "    crime_corpus = crime_corpus_df.description.tolist()\n",
    "    crime_corpus = crime_corpus_df.description.tolist() + other_crimes\n",
    "    ws_tok.tokenize(' '.join(crime_corpus))\n",
    "    crime_corpus = list(set(crime_corpus))\n",
    "    \n",
    "    pd.Series(crime_corpus, name='crime').to_csv(crime_out_p, index=False)"
   ]
  },
  {
   "cell_type": "markdown",
   "id": "12da0046-dc8e-4a7a-a938-2f2cf552eb30",
   "metadata": {},
   "source": [
    "# Create ethnicity corpi"
   ]
  },
  {
   "cell_type": "code",
   "execution_count": 7,
   "id": "d959ed3f-3bb6-45f1-b704-e44ce5314f51",
   "metadata": {},
   "outputs": [],
   "source": [
    "ethnicity_corpus = [\"caucasian\", \"white\", \"indian\", \"african american\", \"black\", \"hispanic\", \"native american\", \"russian\", \"chinese\", \"asian\", \"canadian\", \"japanese\"]\n",
    "pd.Series(ethnicity_corpus, name='ethnicity').to_csv(ethnicity_out_p, index=False)"
   ]
  },
  {
   "cell_type": "markdown",
   "id": "2e8be544-9324-4b76-a69c-16a9042d7cef",
   "metadata": {},
   "source": [
    "# Create neighborhood corpi"
   ]
  },
  {
   "cell_type": "code",
   "execution_count": 8,
   "id": "8c5c2ae5-5417-499e-8509-622f031eb975",
   "metadata": {},
   "outputs": [
    {
     "data": {
      "text/html": [
       "<div>\n",
       "<style scoped>\n",
       "    .dataframe tbody tr th:only-of-type {\n",
       "        vertical-align: middle;\n",
       "    }\n",
       "\n",
       "    .dataframe tbody tr th {\n",
       "        vertical-align: top;\n",
       "    }\n",
       "\n",
       "    .dataframe thead th {\n",
       "        text-align: right;\n",
       "    }\n",
       "</style>\n",
       "<table border=\"1\" class=\"dataframe\">\n",
       "  <thead>\n",
       "    <tr style=\"text-align: right;\">\n",
       "      <th></th>\n",
       "      <th>neighborhood</th>\n",
       "    </tr>\n",
       "  </thead>\n",
       "  <tbody>\n",
       "    <tr>\n",
       "      <th>0</th>\n",
       "      <td>Clairemont Mesa East</td>\n",
       "    </tr>\n",
       "    <tr>\n",
       "      <th>1</th>\n",
       "      <td>Clairemont Mesa West</td>\n",
       "    </tr>\n",
       "    <tr>\n",
       "      <th>2</th>\n",
       "      <td>Bay Ho</td>\n",
       "    </tr>\n",
       "    <tr>\n",
       "      <th>3</th>\n",
       "      <td>North Clairemont</td>\n",
       "    </tr>\n",
       "    <tr>\n",
       "      <th>4</th>\n",
       "      <td>University City</td>\n",
       "    </tr>\n",
       "    <tr>\n",
       "      <th>...</th>\n",
       "      <td>...</td>\n",
       "    </tr>\n",
       "    <tr>\n",
       "      <th>564</th>\n",
       "      <td>University City</td>\n",
       "    </tr>\n",
       "    <tr>\n",
       "      <th>565</th>\n",
       "      <td>University Heights</td>\n",
       "    </tr>\n",
       "    <tr>\n",
       "      <th>566</th>\n",
       "      <td>Valencia Park</td>\n",
       "    </tr>\n",
       "    <tr>\n",
       "      <th>567</th>\n",
       "      <td>Via de la Valle</td>\n",
       "    </tr>\n",
       "    <tr>\n",
       "      <th>568</th>\n",
       "      <td>Webster</td>\n",
       "    </tr>\n",
       "  </tbody>\n",
       "</table>\n",
       "<p>569 rows × 1 columns</p>\n",
       "</div>"
      ],
      "text/plain": [
       "             neighborhood\n",
       "0    Clairemont Mesa East\n",
       "1    Clairemont Mesa West\n",
       "2                  Bay Ho\n",
       "3        North Clairemont\n",
       "4         University City\n",
       "..                    ...\n",
       "564       University City\n",
       "565    University Heights\n",
       "566         Valencia Park\n",
       "567       Via de la Valle\n",
       "568               Webster\n",
       "\n",
       "[569 rows x 1 columns]"
      ]
     },
     "execution_count": 8,
     "metadata": {},
     "output_type": "execute_result"
    }
   ],
   "source": [
    "neighborhood_df = pd.read_csv(neighborhood_p, header=None)\n",
    "neighborhood_df.rename(columns={0: \"neighborhood\"}, inplace=True)\n",
    "neighborhood_df"
   ]
  },
  {
   "cell_type": "code",
   "execution_count": 9,
   "id": "427c1133-c05e-4845-b806-023676530f20",
   "metadata": {},
   "outputs": [],
   "source": [
    "neighborhood_df[\"neighborhood\"] = neighborhood_df[\"neighborhood\"].replace('/', ' ', regex=True)\n",
    "neighborhood_df[\"neighborhood\"] = neighborhood_df[\"neighborhood\"].replace('-', ' ', regex=True)\n",
    "neighborhood_df = clean_str_col(neighborhood_df, \"neighborhood\")\n",
    "neighborhood_df.drop_duplicates(inplace=True)\n",
    "neighborhood_df.to_csv(neighborhood_p, index=False)"
   ]
  }
 ],
 "metadata": {
  "kernelspec": {
   "display_name": "Python 3 (ipykernel)",
   "language": "python",
   "name": "python3"
  },
  "language_info": {
   "codemirror_mode": {
    "name": "ipython",
    "version": 3
   },
   "file_extension": ".py",
   "mimetype": "text/x-python",
   "name": "python",
   "nbconvert_exporter": "python",
   "pygments_lexer": "ipython3",
   "version": "3.8.9"
  }
 },
 "nbformat": 4,
 "nbformat_minor": 5
}

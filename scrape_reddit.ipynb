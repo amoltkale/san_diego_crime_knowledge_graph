{
 "cells": [
  {
   "cell_type": "code",
   "execution_count": 1,
   "id": "fcaec26c-8400-4481-b443-48bf1acd8501",
   "metadata": {},
   "outputs": [],
   "source": [
    "import configparser\n",
    "\n",
    "import requests\n",
    "# from parsel import Selector\n",
    "\n",
    "import pandas as pd"
   ]
  },
  {
   "cell_type": "code",
   "execution_count": 2,
   "id": "de2eca31-b0f5-417e-b6ec-5d1e73037b18",
   "metadata": {},
   "outputs": [],
   "source": [
    "subreddit      = \"SanDiego\"\n",
    "subreddit_filt = \"new\""
   ]
  },
  {
   "cell_type": "code",
   "execution_count": 3,
   "id": "ca453f2b-ae95-4f59-a3e2-69bc985ae888",
   "metadata": {},
   "outputs": [
    {
     "data": {
      "text/plain": [
       "['reddit_config.ini']"
      ]
     },
     "execution_count": 3,
     "metadata": {},
     "output_type": "execute_result"
    }
   ],
   "source": [
    "# read in config file\n",
    "config = configparser.ConfigParser()\n",
    "config.read('reddit_config.ini')"
   ]
  },
  {
   "cell_type": "code",
   "execution_count": 4,
   "id": "b1388533-61cd-486b-b6b7-5347961b4cda",
   "metadata": {},
   "outputs": [],
   "source": [
    "# Request access to reddit\n",
    "auth = requests.auth.HTTPBasicAuth(config[\"script\"][\"personal_use_script\"], config[\"script\"][\"secret\"])\n",
    "\n",
    "# set up log in creds\n",
    "data = {'grant_type': 'password',\n",
    "        'username': config[\"auth\"][\"username\"],\n",
    "        'password': config[\"auth\"][\"password\"]\n",
    "       }\n",
    "\n",
    "headers = {'User-Agent': 'test_project'}"
   ]
  },
  {
   "cell_type": "code",
   "execution_count": 5,
   "id": "85a5332f-c41d-48fb-ab65-b6f8ca4701c6",
   "metadata": {},
   "outputs": [
    {
     "data": {
      "text/plain": [
       "<Response [200]>"
      ]
     },
     "execution_count": 5,
     "metadata": {},
     "output_type": "execute_result"
    }
   ],
   "source": [
    "# send our request for an OAuth token\n",
    "res = requests.post('https://www.reddit.com/api/v1/access_token',\n",
    "                    auth=auth, data=data, headers=headers)\n",
    "\n",
    "# convert response to JSON and pull access_token value\n",
    "TOKEN = res.json()['access_token']\n",
    "\n",
    "# add authorization to our headers dictionary\n",
    "headers = {**headers, **{'Authorization': f\"bearer {TOKEN}\"}}\n",
    "\n",
    "# while the token is valid (~2 hours) we just add headers=headers to our requests\n",
    "requests.get('https://oauth.reddit.com/api/v1/me', headers=headers)"
   ]
  },
  {
   "cell_type": "code",
   "execution_count": 6,
   "id": "4b12e05d-26c8-4961-a22a-1c61adeb36c2",
   "metadata": {},
   "outputs": [],
   "source": [
    "# res = requests.get(\"https://oauth.reddit.com/r/SanDiego/best\",\n",
    "#                    headers=headers, params={'limit':'5'})\n",
    "res = requests.get(f\"https://oauth.reddit.com/r/{subreddit}/{subreddit_filt}\",\n",
    "                   headers=headers, params={'limit':'200'})"
   ]
  },
  {
   "cell_type": "code",
   "execution_count": 7,
   "id": "6699a70f-8d72-4020-bdcf-ca7429d14097",
   "metadata": {},
   "outputs": [],
   "source": [
    "reddit_res = res.json()"
   ]
  },
  {
   "cell_type": "code",
   "execution_count": 8,
   "id": "400ac021-4b84-470b-ad45-7b943a57ae92",
   "metadata": {},
   "outputs": [
    {
     "data": {
      "text/html": [
       "<div>\n",
       "<style scoped>\n",
       "    .dataframe tbody tr th:only-of-type {\n",
       "        vertical-align: middle;\n",
       "    }\n",
       "\n",
       "    .dataframe tbody tr th {\n",
       "        vertical-align: top;\n",
       "    }\n",
       "\n",
       "    .dataframe thead th {\n",
       "        text-align: right;\n",
       "    }\n",
       "</style>\n",
       "<table border=\"1\" class=\"dataframe\">\n",
       "  <thead>\n",
       "    <tr style=\"text-align: right;\">\n",
       "      <th></th>\n",
       "      <th>title</th>\n",
       "      <th>created_utc</th>\n",
       "      <th>selftext</th>\n",
       "      <th>url</th>\n",
       "      <th>link_flair_text</th>\n",
       "    </tr>\n",
       "  </thead>\n",
       "  <tbody>\n",
       "    <tr>\n",
       "      <th>0</th>\n",
       "      <td>4240 La Jolla Village Marriott is swarming wit...</td>\n",
       "      <td>1667534410.0</td>\n",
       "      <td></td>\n",
       "      <td>https://i.redd.it/onsyzioxfwx91.jpg</td>\n",
       "      <td>Photo</td>\n",
       "    </tr>\n",
       "    <tr>\n",
       "      <th>1</th>\n",
       "      <td>Air Force One with POTUS Landing at MCAS Miram...</td>\n",
       "      <td>1667531973.0</td>\n",
       "      <td></td>\n",
       "      <td>https://v.redd.it/aehmjo73rux91</td>\n",
       "      <td>Video</td>\n",
       "    </tr>\n",
       "    <tr>\n",
       "      <th>2</th>\n",
       "      <td>How bad are layoffs at your company?</td>\n",
       "      <td>1667528580.0</td>\n",
       "      <td></td>\n",
       "      <td>https://www.reddit.com/r/sandiego/comments/ylm...</td>\n",
       "      <td>None</td>\n",
       "    </tr>\n",
       "    <tr>\n",
       "      <th>3</th>\n",
       "      <td>Any photos or videos of Biden's campaign for M...</td>\n",
       "      <td>1667528214.0</td>\n",
       "      <td>I couldn't find any live streams and didn't re...</td>\n",
       "      <td>https://www.reddit.com/r/sandiego/comments/ylm...</td>\n",
       "      <td>None</td>\n",
       "    </tr>\n",
       "    <tr>\n",
       "      <th>4</th>\n",
       "      <td>Adding to this secret spot posted earlier😍</td>\n",
       "      <td>1667526478.0</td>\n",
       "      <td></td>\n",
       "      <td>https://v.redd.it/5ajpgv1saux91</td>\n",
       "      <td>Video</td>\n",
       "    </tr>\n",
       "    <tr>\n",
       "      <th>...</th>\n",
       "      <td>...</td>\n",
       "      <td>...</td>\n",
       "      <td>...</td>\n",
       "      <td>...</td>\n",
       "      <td>...</td>\n",
       "    </tr>\n",
       "    <tr>\n",
       "      <th>95</th>\n",
       "      <td>Turo Car Rental</td>\n",
       "      <td>1667323021.0</td>\n",
       "      <td>I gave up my car earlier this year because I w...</td>\n",
       "      <td>https://www.reddit.com/r/sandiego/comments/yje...</td>\n",
       "      <td>None</td>\n",
       "    </tr>\n",
       "    <tr>\n",
       "      <th>96</th>\n",
       "      <td>One of my favorite places to smoke and decompr...</td>\n",
       "      <td>1667322789.0</td>\n",
       "      <td></td>\n",
       "      <td>https://www.reddit.com/gallery/yjekc4</td>\n",
       "      <td>Photo gallery</td>\n",
       "    </tr>\n",
       "    <tr>\n",
       "      <th>97</th>\n",
       "      <td>Any clubs that play non-frat party music?? Any...</td>\n",
       "      <td>1667322566.0</td>\n",
       "      <td>Getting tired of the shitty dj music and frat ...</td>\n",
       "      <td>https://www.reddit.com/r/sandiego/comments/yje...</td>\n",
       "      <td>News</td>\n",
       "    </tr>\n",
       "    <tr>\n",
       "      <th>98</th>\n",
       "      <td>Has anyone’s water bill been cut in half?</td>\n",
       "      <td>1667319560.0</td>\n",
       "      <td>So my city of San Diego water bill has consist...</td>\n",
       "      <td>https://www.reddit.com/r/sandiego/comments/yjd...</td>\n",
       "      <td>None</td>\n",
       "    </tr>\n",
       "    <tr>\n",
       "      <th>99</th>\n",
       "      <td>Many museums are free today at Balboa Park if ...</td>\n",
       "      <td>1667319209.0</td>\n",
       "      <td>https://balboapark.org/resident-free-days/</td>\n",
       "      <td>https://www.reddit.com/r/sandiego/comments/yjc...</td>\n",
       "      <td>None</td>\n",
       "    </tr>\n",
       "  </tbody>\n",
       "</table>\n",
       "<p>100 rows × 5 columns</p>\n",
       "</div>"
      ],
      "text/plain": [
       "                                                title   created_utc  \\\n",
       "0   4240 La Jolla Village Marriott is swarming wit...  1667534410.0   \n",
       "1   Air Force One with POTUS Landing at MCAS Miram...  1667531973.0   \n",
       "2                How bad are layoffs at your company?  1667528580.0   \n",
       "3   Any photos or videos of Biden's campaign for M...  1667528214.0   \n",
       "4          Adding to this secret spot posted earlier😍  1667526478.0   \n",
       "..                                                ...           ...   \n",
       "95                                    Turo Car Rental  1667323021.0   \n",
       "96  One of my favorite places to smoke and decompr...  1667322789.0   \n",
       "97  Any clubs that play non-frat party music?? Any...  1667322566.0   \n",
       "98          Has anyone’s water bill been cut in half?  1667319560.0   \n",
       "99  Many museums are free today at Balboa Park if ...  1667319209.0   \n",
       "\n",
       "                                             selftext  \\\n",
       "0                                                       \n",
       "1                                                       \n",
       "2                                                       \n",
       "3   I couldn't find any live streams and didn't re...   \n",
       "4                                                       \n",
       "..                                                ...   \n",
       "95  I gave up my car earlier this year because I w...   \n",
       "96                                                      \n",
       "97  Getting tired of the shitty dj music and frat ...   \n",
       "98  So my city of San Diego water bill has consist...   \n",
       "99         https://balboapark.org/resident-free-days/   \n",
       "\n",
       "                                                  url link_flair_text  \n",
       "0                 https://i.redd.it/onsyzioxfwx91.jpg           Photo  \n",
       "1                     https://v.redd.it/aehmjo73rux91           Video  \n",
       "2   https://www.reddit.com/r/sandiego/comments/ylm...            None  \n",
       "3   https://www.reddit.com/r/sandiego/comments/ylm...            None  \n",
       "4                     https://v.redd.it/5ajpgv1saux91           Video  \n",
       "..                                                ...             ...  \n",
       "95  https://www.reddit.com/r/sandiego/comments/yje...            None  \n",
       "96              https://www.reddit.com/gallery/yjekc4   Photo gallery  \n",
       "97  https://www.reddit.com/r/sandiego/comments/yje...            News  \n",
       "98  https://www.reddit.com/r/sandiego/comments/yjd...            None  \n",
       "99  https://www.reddit.com/r/sandiego/comments/yjc...            None  \n",
       "\n",
       "[100 rows x 5 columns]"
      ]
     },
     "execution_count": 8,
     "metadata": {},
     "output_type": "execute_result"
    }
   ],
   "source": [
    "keys_interest = ['title', 'created_utc', 'selftext', 'url', 'link_flair_text']\n",
    "data_dict = {}\n",
    "for i, d in enumerate(reddit_res['data']['children']):\n",
    "    data_dict[i] = {k: d['data'][k] for k in keys_interest}\n",
    "data_df = pd.DataFrame(data_dict).T\n",
    "data_df"
   ]
  },
  {
   "cell_type": "code",
   "execution_count": 9,
   "id": "5a81ac98-e0fa-4d27-8e26-7b38e83e223a",
   "metadata": {},
   "outputs": [
    {
     "data": {
      "text/html": [
       "<div>\n",
       "<style scoped>\n",
       "    .dataframe tbody tr th:only-of-type {\n",
       "        vertical-align: middle;\n",
       "    }\n",
       "\n",
       "    .dataframe tbody tr th {\n",
       "        vertical-align: top;\n",
       "    }\n",
       "\n",
       "    .dataframe thead th {\n",
       "        text-align: right;\n",
       "    }\n",
       "</style>\n",
       "<table border=\"1\" class=\"dataframe\">\n",
       "  <thead>\n",
       "    <tr style=\"text-align: right;\">\n",
       "      <th></th>\n",
       "      <th>title</th>\n",
       "      <th>created_utc</th>\n",
       "      <th>selftext</th>\n",
       "      <th>url</th>\n",
       "      <th>link_flair_text</th>\n",
       "    </tr>\n",
       "  </thead>\n",
       "  <tbody>\n",
       "    <tr>\n",
       "      <th>0</th>\n",
       "      <td>4240 La Jolla Village Marriott is swarming wit...</td>\n",
       "      <td>2022-11-04 04:00:10+00:00</td>\n",
       "      <td></td>\n",
       "      <td>https://i.redd.it/onsyzioxfwx91.jpg</td>\n",
       "      <td>Photo</td>\n",
       "    </tr>\n",
       "    <tr>\n",
       "      <th>1</th>\n",
       "      <td>Air Force One with POTUS Landing at MCAS Miram...</td>\n",
       "      <td>2022-11-04 03:19:33+00:00</td>\n",
       "      <td></td>\n",
       "      <td>https://v.redd.it/aehmjo73rux91</td>\n",
       "      <td>Video</td>\n",
       "    </tr>\n",
       "    <tr>\n",
       "      <th>2</th>\n",
       "      <td>How bad are layoffs at your company?</td>\n",
       "      <td>2022-11-04 02:23:00+00:00</td>\n",
       "      <td></td>\n",
       "      <td>https://www.reddit.com/r/sandiego/comments/ylm...</td>\n",
       "      <td>None</td>\n",
       "    </tr>\n",
       "    <tr>\n",
       "      <th>3</th>\n",
       "      <td>Any photos or videos of Biden's campaign for M...</td>\n",
       "      <td>2022-11-04 02:16:54+00:00</td>\n",
       "      <td>I couldn't find any live streams and didn't re...</td>\n",
       "      <td>https://www.reddit.com/r/sandiego/comments/ylm...</td>\n",
       "      <td>None</td>\n",
       "    </tr>\n",
       "    <tr>\n",
       "      <th>4</th>\n",
       "      <td>Adding to this secret spot posted earlier😍</td>\n",
       "      <td>2022-11-04 01:47:58+00:00</td>\n",
       "      <td></td>\n",
       "      <td>https://v.redd.it/5ajpgv1saux91</td>\n",
       "      <td>Video</td>\n",
       "    </tr>\n",
       "    <tr>\n",
       "      <th>...</th>\n",
       "      <td>...</td>\n",
       "      <td>...</td>\n",
       "      <td>...</td>\n",
       "      <td>...</td>\n",
       "      <td>...</td>\n",
       "    </tr>\n",
       "    <tr>\n",
       "      <th>95</th>\n",
       "      <td>Turo Car Rental</td>\n",
       "      <td>2022-11-01 17:17:01+00:00</td>\n",
       "      <td>I gave up my car earlier this year because I w...</td>\n",
       "      <td>https://www.reddit.com/r/sandiego/comments/yje...</td>\n",
       "      <td>None</td>\n",
       "    </tr>\n",
       "    <tr>\n",
       "      <th>96</th>\n",
       "      <td>One of my favorite places to smoke and decompr...</td>\n",
       "      <td>2022-11-01 17:13:09+00:00</td>\n",
       "      <td></td>\n",
       "      <td>https://www.reddit.com/gallery/yjekc4</td>\n",
       "      <td>Photo gallery</td>\n",
       "    </tr>\n",
       "    <tr>\n",
       "      <th>97</th>\n",
       "      <td>Any clubs that play non-frat party music?? Any...</td>\n",
       "      <td>2022-11-01 17:09:26+00:00</td>\n",
       "      <td>Getting tired of the shitty dj music and frat ...</td>\n",
       "      <td>https://www.reddit.com/r/sandiego/comments/yje...</td>\n",
       "      <td>News</td>\n",
       "    </tr>\n",
       "    <tr>\n",
       "      <th>98</th>\n",
       "      <td>Has anyone’s water bill been cut in half?</td>\n",
       "      <td>2022-11-01 16:19:20+00:00</td>\n",
       "      <td>So my city of San Diego water bill has consist...</td>\n",
       "      <td>https://www.reddit.com/r/sandiego/comments/yjd...</td>\n",
       "      <td>None</td>\n",
       "    </tr>\n",
       "    <tr>\n",
       "      <th>99</th>\n",
       "      <td>Many museums are free today at Balboa Park if ...</td>\n",
       "      <td>2022-11-01 16:13:29+00:00</td>\n",
       "      <td>https://balboapark.org/resident-free-days/</td>\n",
       "      <td>https://www.reddit.com/r/sandiego/comments/yjc...</td>\n",
       "      <td>None</td>\n",
       "    </tr>\n",
       "  </tbody>\n",
       "</table>\n",
       "<p>100 rows × 5 columns</p>\n",
       "</div>"
      ],
      "text/plain": [
       "                                                title  \\\n",
       "0   4240 La Jolla Village Marriott is swarming wit...   \n",
       "1   Air Force One with POTUS Landing at MCAS Miram...   \n",
       "2                How bad are layoffs at your company?   \n",
       "3   Any photos or videos of Biden's campaign for M...   \n",
       "4          Adding to this secret spot posted earlier😍   \n",
       "..                                                ...   \n",
       "95                                    Turo Car Rental   \n",
       "96  One of my favorite places to smoke and decompr...   \n",
       "97  Any clubs that play non-frat party music?? Any...   \n",
       "98          Has anyone’s water bill been cut in half?   \n",
       "99  Many museums are free today at Balboa Park if ...   \n",
       "\n",
       "                 created_utc  \\\n",
       "0  2022-11-04 04:00:10+00:00   \n",
       "1  2022-11-04 03:19:33+00:00   \n",
       "2  2022-11-04 02:23:00+00:00   \n",
       "3  2022-11-04 02:16:54+00:00   \n",
       "4  2022-11-04 01:47:58+00:00   \n",
       "..                       ...   \n",
       "95 2022-11-01 17:17:01+00:00   \n",
       "96 2022-11-01 17:13:09+00:00   \n",
       "97 2022-11-01 17:09:26+00:00   \n",
       "98 2022-11-01 16:19:20+00:00   \n",
       "99 2022-11-01 16:13:29+00:00   \n",
       "\n",
       "                                             selftext  \\\n",
       "0                                                       \n",
       "1                                                       \n",
       "2                                                       \n",
       "3   I couldn't find any live streams and didn't re...   \n",
       "4                                                       \n",
       "..                                                ...   \n",
       "95  I gave up my car earlier this year because I w...   \n",
       "96                                                      \n",
       "97  Getting tired of the shitty dj music and frat ...   \n",
       "98  So my city of San Diego water bill has consist...   \n",
       "99         https://balboapark.org/resident-free-days/   \n",
       "\n",
       "                                                  url link_flair_text  \n",
       "0                 https://i.redd.it/onsyzioxfwx91.jpg           Photo  \n",
       "1                     https://v.redd.it/aehmjo73rux91           Video  \n",
       "2   https://www.reddit.com/r/sandiego/comments/ylm...            None  \n",
       "3   https://www.reddit.com/r/sandiego/comments/ylm...            None  \n",
       "4                     https://v.redd.it/5ajpgv1saux91           Video  \n",
       "..                                                ...             ...  \n",
       "95  https://www.reddit.com/r/sandiego/comments/yje...            None  \n",
       "96              https://www.reddit.com/gallery/yjekc4   Photo gallery  \n",
       "97  https://www.reddit.com/r/sandiego/comments/yje...            News  \n",
       "98  https://www.reddit.com/r/sandiego/comments/yjd...            None  \n",
       "99  https://www.reddit.com/r/sandiego/comments/yjc...            None  \n",
       "\n",
       "[100 rows x 5 columns]"
      ]
     },
     "execution_count": 9,
     "metadata": {},
     "output_type": "execute_result"
    }
   ],
   "source": [
    "data_df[\"created_utc\"] = pd.to_datetime(data_df[\"created_utc\"], utc=True, unit='s')\n",
    "data_df"
   ]
  },
  {
   "cell_type": "code",
   "execution_count": 10,
   "id": "1b17b42d-715d-4a6b-8ec6-5c9691a2b3e7",
   "metadata": {},
   "outputs": [
    {
     "data": {
      "text/plain": [
       "dict_keys(['approved_at_utc', 'subreddit', 'selftext', 'author_fullname', 'saved', 'mod_reason_title', 'gilded', 'clicked', 'title', 'link_flair_richtext', 'subreddit_name_prefixed', 'hidden', 'pwls', 'link_flair_css_class', 'downs', 'thumbnail_height', 'top_awarded_type', 'hide_score', 'name', 'quarantine', 'link_flair_text_color', 'upvote_ratio', 'author_flair_background_color', 'ups', 'total_awards_received', 'media_embed', 'thumbnail_width', 'author_flair_template_id', 'is_original_content', 'user_reports', 'secure_media', 'is_reddit_media_domain', 'is_meta', 'category', 'secure_media_embed', 'link_flair_text', 'can_mod_post', 'score', 'approved_by', 'is_created_from_ads_ui', 'author_premium', 'thumbnail', 'edited', 'author_flair_css_class', 'author_flair_richtext', 'gildings', 'post_hint', 'content_categories', 'is_self', 'subreddit_type', 'created', 'link_flair_type', 'wls', 'removed_by_category', 'banned_by', 'author_flair_type', 'domain', 'allow_live_comments', 'selftext_html', 'likes', 'suggested_sort', 'banned_at_utc', 'url_overridden_by_dest', 'view_count', 'archived', 'no_follow', 'is_crosspostable', 'pinned', 'over_18', 'preview', 'all_awardings', 'awarders', 'media_only', 'link_flair_template_id', 'can_gild', 'spoiler', 'locked', 'author_flair_text', 'treatment_tags', 'visited', 'removed_by', 'mod_note', 'distinguished', 'subreddit_id', 'author_is_blocked', 'mod_reason_by', 'num_reports', 'removal_reason', 'link_flair_background_color', 'id', 'is_robot_indexable', 'report_reasons', 'author', 'discussion_type', 'num_comments', 'send_replies', 'whitelist_status', 'contest_mode', 'mod_reports', 'author_patreon_flair', 'author_flair_text_color', 'permalink', 'parent_whitelist_status', 'stickied', 'url', 'subreddit_subscribers', 'created_utc', 'num_crossposts', 'media', 'is_video'])"
      ]
     },
     "execution_count": 10,
     "metadata": {},
     "output_type": "execute_result"
    }
   ],
   "source": [
    "reddit_res['data']['children'][0]['data'].keys()"
   ]
  },
  {
   "cell_type": "code",
   "execution_count": 11,
   "id": "49c53407-bcf0-4fac-b622-00d040c527bc",
   "metadata": {},
   "outputs": [
    {
     "data": {
      "text/plain": [
       "dict_keys(['after', 'dist', 'modhash', 'geo_filter', 'children', 'before'])"
      ]
     },
     "execution_count": 11,
     "metadata": {},
     "output_type": "execute_result"
    }
   ],
   "source": [
    "reddit_res['data'].keys()"
   ]
  },
  {
   "cell_type": "code",
   "execution_count": 12,
   "id": "c431012c-6702-422a-90a1-be15af5267ef",
   "metadata": {},
   "outputs": [],
   "source": [
    "data_df.to_csv(\"reddit_cop_example.csv\", index=False)"
   ]
  },
  {
   "cell_type": "code",
   "execution_count": 13,
   "id": "ad0092eb-a602-403d-b81f-aac029dc9030",
   "metadata": {},
   "outputs": [],
   "source": [
    "import json\n",
    "with open('reddit_cop_data.json', 'w') as f:\n",
    "    json.dump(reddit_res['data'], f)"
   ]
  },
  {
   "cell_type": "code",
   "execution_count": null,
   "id": "ed4c6bc3-0c05-4cc6-bf87-62532d7f13e6",
   "metadata": {},
   "outputs": [],
   "source": []
  }
 ],
 "metadata": {
  "kernelspec": {
   "display_name": "Python 3 (ipykernel)",
   "language": "python",
   "name": "python3"
  },
  "language_info": {
   "codemirror_mode": {
    "name": "ipython",
    "version": 3
   },
   "file_extension": ".py",
   "mimetype": "text/x-python",
   "name": "python",
   "nbconvert_exporter": "python",
   "pygments_lexer": "ipython3",
   "version": "3.8.9"
  }
 },
 "nbformat": 4,
 "nbformat_minor": 5
}
